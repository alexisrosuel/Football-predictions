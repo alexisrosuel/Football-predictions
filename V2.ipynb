{
 "cells": [
  {
   "cell_type": "code",
   "execution_count": 3,
   "metadata": {
    "collapsed": true
   },
   "outputs": [],
   "source": [
    "%matplotlib inline"
   ]
  },
  {
   "cell_type": "markdown",
   "metadata": {},
   "source": [
    "# Version 2 du modèle prédictif"
   ]
  },
  {
   "cell_type": "markdown",
   "metadata": {},
   "source": [
    "Dans ce notebook, nous allons améliorer le modèle V1 en prenant en compte d'autres prédicteurs dans le modèle linéaire. \n",
    "\n",
    "On commence par importer les données dont on aura besoin (le tout est rassemblé en une seule cellule cette fois-ci) :"
   ]
  },
  {
   "cell_type": "code",
   "execution_count": 85,
   "metadata": {
    "collapsed": false
   },
   "outputs": [
    {
     "data": {
      "text/html": [
       "<div>\n",
       "<table border=\"1\" class=\"dataframe\">\n",
       "  <thead>\n",
       "    <tr style=\"text-align: right;\">\n",
       "      <th></th>\n",
       "      <th>id</th>\n",
       "      <th>league_id</th>\n",
       "      <th>date</th>\n",
       "      <th>home_team_api_id</th>\n",
       "      <th>away_team_api_id</th>\n",
       "      <th>home_team_goal</th>\n",
       "      <th>away_team_goal</th>\n",
       "      <th>goal</th>\n",
       "      <th>shoton</th>\n",
       "      <th>shotoff</th>\n",
       "      <th>foulcommit</th>\n",
       "      <th>card</th>\n",
       "      <th>cross</th>\n",
       "      <th>corner</th>\n",
       "      <th>possession</th>\n",
       "      <th>home_team_long_name</th>\n",
       "      <th>away_team_long_name</th>\n",
       "    </tr>\n",
       "  </thead>\n",
       "  <tbody>\n",
       "    <tr>\n",
       "      <th>0</th>\n",
       "      <td>24559</td>\n",
       "      <td>24558</td>\n",
       "      <td>2008-07-18</td>\n",
       "      <td>10192</td>\n",
       "      <td>9931</td>\n",
       "      <td>1</td>\n",
       "      <td>2</td>\n",
       "      <td>NaN</td>\n",
       "      <td>NaN</td>\n",
       "      <td>NaN</td>\n",
       "      <td>NaN</td>\n",
       "      <td>NaN</td>\n",
       "      <td>NaN</td>\n",
       "      <td>NaN</td>\n",
       "      <td>NaN</td>\n",
       "      <td>BSC Young Boys</td>\n",
       "      <td>FC Basel</td>\n",
       "    </tr>\n",
       "    <tr>\n",
       "      <th>1</th>\n",
       "      <td>24560</td>\n",
       "      <td>24558</td>\n",
       "      <td>2008-07-19</td>\n",
       "      <td>9930</td>\n",
       "      <td>10179</td>\n",
       "      <td>3</td>\n",
       "      <td>1</td>\n",
       "      <td>NaN</td>\n",
       "      <td>NaN</td>\n",
       "      <td>NaN</td>\n",
       "      <td>NaN</td>\n",
       "      <td>NaN</td>\n",
       "      <td>NaN</td>\n",
       "      <td>NaN</td>\n",
       "      <td>NaN</td>\n",
       "      <td>FC Aarau</td>\n",
       "      <td>FC Sion</td>\n",
       "    </tr>\n",
       "    <tr>\n",
       "      <th>2</th>\n",
       "      <td>24561</td>\n",
       "      <td>24558</td>\n",
       "      <td>2008-07-20</td>\n",
       "      <td>10199</td>\n",
       "      <td>9824</td>\n",
       "      <td>1</td>\n",
       "      <td>2</td>\n",
       "      <td>NaN</td>\n",
       "      <td>NaN</td>\n",
       "      <td>NaN</td>\n",
       "      <td>NaN</td>\n",
       "      <td>NaN</td>\n",
       "      <td>NaN</td>\n",
       "      <td>NaN</td>\n",
       "      <td>NaN</td>\n",
       "      <td>FC Luzern</td>\n",
       "      <td>FC Vaduz</td>\n",
       "    </tr>\n",
       "    <tr>\n",
       "      <th>3</th>\n",
       "      <td>24562</td>\n",
       "      <td>24558</td>\n",
       "      <td>2008-07-20</td>\n",
       "      <td>7955</td>\n",
       "      <td>10243</td>\n",
       "      <td>1</td>\n",
       "      <td>2</td>\n",
       "      <td>NaN</td>\n",
       "      <td>NaN</td>\n",
       "      <td>NaN</td>\n",
       "      <td>NaN</td>\n",
       "      <td>NaN</td>\n",
       "      <td>NaN</td>\n",
       "      <td>NaN</td>\n",
       "      <td>NaN</td>\n",
       "      <td>Neuchâtel Xamax</td>\n",
       "      <td>FC Zürich</td>\n",
       "    </tr>\n",
       "    <tr>\n",
       "      <th>4</th>\n",
       "      <td>24615</td>\n",
       "      <td>24558</td>\n",
       "      <td>2008-07-23</td>\n",
       "      <td>10243</td>\n",
       "      <td>10199</td>\n",
       "      <td>1</td>\n",
       "      <td>0</td>\n",
       "      <td>NaN</td>\n",
       "      <td>NaN</td>\n",
       "      <td>NaN</td>\n",
       "      <td>NaN</td>\n",
       "      <td>NaN</td>\n",
       "      <td>NaN</td>\n",
       "      <td>NaN</td>\n",
       "      <td>NaN</td>\n",
       "      <td>FC Zürich</td>\n",
       "      <td>FC Luzern</td>\n",
       "    </tr>\n",
       "  </tbody>\n",
       "</table>\n",
       "</div>"
      ],
      "text/plain": [
       "      id  league_id       date  home_team_api_id  away_team_api_id  \\\n",
       "0  24559      24558 2008-07-18             10192              9931   \n",
       "1  24560      24558 2008-07-19              9930             10179   \n",
       "2  24561      24558 2008-07-20             10199              9824   \n",
       "3  24562      24558 2008-07-20              7955             10243   \n",
       "4  24615      24558 2008-07-23             10243             10199   \n",
       "\n",
       "   home_team_goal  away_team_goal goal shoton shotoff foulcommit card cross  \\\n",
       "0               1               2  NaN    NaN     NaN        NaN  NaN   NaN   \n",
       "1               3               1  NaN    NaN     NaN        NaN  NaN   NaN   \n",
       "2               1               2  NaN    NaN     NaN        NaN  NaN   NaN   \n",
       "3               1               2  NaN    NaN     NaN        NaN  NaN   NaN   \n",
       "4               1               0  NaN    NaN     NaN        NaN  NaN   NaN   \n",
       "\n",
       "  corner possession home_team_long_name away_team_long_name  \n",
       "0    NaN        NaN      BSC Young Boys            FC Basel  \n",
       "1    NaN        NaN            FC Aarau             FC Sion  \n",
       "2    NaN        NaN           FC Luzern            FC Vaduz  \n",
       "3    NaN        NaN     Neuchâtel Xamax           FC Zürich  \n",
       "4    NaN        NaN           FC Zürich           FC Luzern  "
      ]
     },
     "execution_count": 85,
     "metadata": {},
     "output_type": "execute_result"
    }
   ],
   "source": [
    "import pandas as pd\n",
    "import numpy as np\n",
    "\n",
    "league = pd.read_csv('data\\\\league.csv', index_col=0)\n",
    "team = pd.read_csv('data\\\\team.csv', index_col=0)\n",
    "match = pd.read_csv('data\\\\match.csv', index_col=0, parse_dates=[6], infer_datetime_format=True)\n",
    "\n",
    "match.drop(['B365H', 'B365D', 'B365A', 'BWH', 'BWD', 'BWA', 'IWH', 'IWD', 'IWA', 'LBH', 'LBD', 'LBA', 'PSH', 'PSD', \n",
    "            'PSA', 'WHH', 'WHD', 'WHA', 'SJH', 'SJD', 'SJA', 'VCH', 'VCD', 'VCA', 'GBH', 'GBD', 'GBA', 'BSH', 'BSD', 'BSA'], \n",
    "           axis=1, inplace=True)\n",
    "\n",
    "match.drop(['home_player_X1', 'home_player_X2', 'home_player_X3', 'home_player_X4', 'home_player_X5', \n",
    "            'home_player_X6', 'home_player_X7', 'home_player_X8', 'home_player_X9', 'home_player_X10',\n",
    "            'home_player_X11', 'away_player_X1', 'away_player_X2', 'away_player_X3', 'away_player_X4', \n",
    "            'away_player_X5', 'away_player_X6', 'away_player_X7', 'away_player_X8', 'away_player_X9', \n",
    "            'away_player_X10', 'away_player_X11', 'home_player_Y1', 'home_player_Y2', 'home_player_Y3', \n",
    "            'home_player_Y4', 'home_player_Y5', 'home_player_Y6', 'home_player_Y7', 'home_player_Y8', \n",
    "            'home_player_Y9', 'home_player_Y10', 'home_player_Y11', 'away_player_Y1', 'away_player_Y2', \n",
    "            'away_player_Y3', 'away_player_Y4', 'away_player_Y5', 'away_player_Y6', 'away_player_Y7', \n",
    "            'away_player_Y8', 'away_player_Y9', 'away_player_Y10', 'away_player_Y11', 'home_player_1',\n",
    "            'home_player_2', 'home_player_3', 'home_player_4', 'home_player_5', 'home_player_6', 'home_player_7', \n",
    "            'home_player_8', 'home_player_9', 'home_player_10', 'home_player_11', 'away_player_1', 'away_player_2',\n",
    "            'away_player_3', 'away_player_4', 'away_player_5', 'away_player_6', 'away_player_7', 'away_player_8', \n",
    "            'away_player_9', 'away_player_10', 'away_player_11'],\n",
    "          axis=1, inplace=True)\n",
    "\n",
    "match.drop(['country_id', 'season', 'stage', 'match_api_id'],\n",
    "           axis=1, inplace=True)\n",
    "\n",
    "match = match.merge(team[['team_api_id', 'team_long_name']] , left_on='home_team_api_id', right_on='team_api_id')\n",
    "match.rename(columns={'team_long_name': 'home_team_long_name'}, inplace=True)\n",
    "match = match.merge(team[['team_api_id', 'team_long_name']] , left_on='away_team_api_id', right_on='team_api_id')\n",
    "match.rename(columns={'team_long_name': 'away_team_long_name'}, inplace=True)\n",
    "\n",
    "match.drop(['team_api_id_y', 'team_api_id_x'], axis=1, inplace=True)\n",
    "\n",
    "# On trie par date et on reindex\n",
    "match.sort_values(by='date', inplace=True)\n",
    "\n",
    "\n",
    "# On va tout de suite filtrer sur la ligue 1, l'extraction des features prend trop de temps sinon\n",
    "#match = match[match.league_id == 4769]\n",
    "\n",
    "match.index = range(0,len(match))\n",
    "\n",
    "match.head()"
   ]
  },
  {
   "cell_type": "markdown",
   "metadata": {},
   "source": [
    "On va maintenant construire les nouvelles variables à partir des informations à disposition, à savoir :\n",
    "- le temps de récupération (ie. le nombre de jours entre le dernier match et le jour j)\n",
    "- le nombre de matchs dans le mois\n",
    "- la dynamique : c'est l'historique des 5 derniers matchs (ex: GGPPN)\n",
    "- le nombre de buts ajustés : on va pour cela considérer\n",
    "    - les buts qui permettent à une équipe de mener compte 1.2\n",
    "    - les tirs cadrés par rapport à la position (distance + angle) (pondération à définir)\n",
    "    - somme tirs cadrés + tirs non cadrés\n",
    "    - ratio tirs cadrés / tirs non cadrés\n",
    "    - compter 0.8 un but quand l'équipe adverse s'est prise en carton rouge\n",
    "    - corner, coup franc indirect comptent pour 0.1 ?\n",
    "    "
   ]
  },
  {
   "cell_type": "code",
   "execution_count": 93,
   "metadata": {
    "collapsed": true
   },
   "outputs": [],
   "source": [
    "match_ligue_1 = match[match.league_id == 4769]"
   ]
  },
  {
   "cell_type": "code",
   "execution_count": 100,
   "metadata": {
    "collapsed": false
   },
   "outputs": [
    {
     "data": {
      "text/plain": [
       "<matplotlib.axes._subplots.AxesSubplot at 0x599decf8>"
      ]
     },
     "execution_count": 100,
     "metadata": {},
     "output_type": "execute_result"
    },
    {
     "data": {
      "image/png": "[encoded data removed]",
      "text/plain": [
       "<matplotlib.figure.Figure at 0x599d2ba8>"
      ]
     },
     "metadata": {},
     "output_type": "display_data"
    }
   ],
   "source": [
    "match_ligue_1.date.hist(bins=100)"
   ]
  },
  {
   "cell_type": "code",
   "execution_count": 99,
   "metadata": {
    "collapsed": false
   },
   "outputs": [
    {
     "data": {
      "text/plain": [
       "<matplotlib.axes._subplots.AxesSubplot at 0x59867c18>"
      ]
     },
     "execution_count": 99,
     "metadata": {},
     "output_type": "execute_result"
    },
    {
     "data": {
      "image/png": "[encoded data removed]",
      "text/plain": [
       "<matplotlib.figure.Figure at 0x56954320>"
      ]
     },
     "metadata": {},
     "output_type": "display_data"
    }
   ],
   "source": [
    "match_ligue_1[match_ligue_1.isnull().goal == False].date.hist(bins=100)"
   ]
  },
  {
   "cell_type": "markdown",
   "metadata": {},
   "source": [
    "## Conditions du match"
   ]
  },
  {
   "cell_type": "markdown",
   "metadata": {},
   "source": [
    "Commençons par le temps de récupération :"
   ]
  },
  {
   "cell_type": "code",
   "execution_count": 180,
   "metadata": {
    "collapsed": false
   },
   "outputs": [
    {
     "name": "stderr",
     "output_type": "stream",
     "text": [
      "C:\\Users\\Alexis\\Anaconda2\\lib\\site-packages\\ipykernel\\__main__.py:9: UserWarning: Boolean Series key will be reindexed to match DataFrame index.\n"
     ]
    }
   ],
   "source": [
    "def calcul_recup(row, home=True):    \n",
    "    # on récupère l'équipe et la date du match\n",
    "    if home:\n",
    "        equipe, jourJ = (row.home_team_api_id, row.date)\n",
    "    else:\n",
    "        equipe, jourJ = (row.away_team_api_id, row.date)\n",
    "      \n",
    "    # on récupère tous les matchs précédents de l'équipe\n",
    "    match_precedents = match[:row.name][(match.home_team_api_id == equipe) | (match.away_team_api_id == equipe)]\n",
    "    \n",
    "    # Si il n'y en a aucun, on compte le maximum de récupération, sinon on retourne le nombre de jours\n",
    "    if match_precedents.id.count() == 0:\n",
    "        return 15\n",
    "    else:\n",
    "        deltaT = np.min(jourJ - match_precedents.date)\n",
    "        return min(deltaT.days, 15)\n",
    "    \n",
    "match['recuperation_home'] = match.apply(lambda row: calcul_recup(row), axis=1)\n",
    "match['recuperation_away'] = match.apply(lambda row: calcul_recup(row, home=False), axis=1)"
   ]
  },
  {
   "cell_type": "code",
   "execution_count": 181,
   "metadata": {
    "collapsed": false
   },
   "outputs": [
    {
     "data": {
      "text/plain": [
       "<matplotlib.axes._subplots.AxesSubplot at 0x78272048>"
      ]
     },
     "execution_count": 181,
     "metadata": {},
     "output_type": "execute_result"
    },
    {
     "data": {
      "image/png": "[encoded data removed]",
      "text/plain": [
       "<matplotlib.figure.Figure at 0x791cfda0>"
      ]
     },
     "metadata": {},
     "output_type": "display_data"
    }
   ],
   "source": [
    "df_home = pd.DataFrame(match['recuperation_home'].value_counts()).sort_index()\n",
    "df_away = pd.DataFrame(match['recuperation_away'].value_counts()).sort_index()\n",
    "\n",
    "#on merge les deux\n",
    "df_home_away = df_home.merge(df_away, how='outer', left_index=True, right_index=True)\n",
    "df_home_away.columns = ['home recuperation', 'away recuperation']\n",
    "\n",
    "#on affiche les deux histogrammes\n",
    "df_home_away.plot(kind='bar', title='recuperation en jours')"
   ]
  },
  {
   "cell_type": "markdown",
   "metadata": {},
   "source": [
    "On peut regarder si on observe une tendance quand le nombre de jours de repos augmente :"
   ]
  },
  {
   "cell_type": "code",
   "execution_count": 182,
   "metadata": {
    "collapsed": false
   },
   "outputs": [
    {
     "data": {
      "text/plain": [
       "<matplotlib.axes._subplots.AxesSubplot at 0x84db35f8>"
      ]
     },
     "execution_count": 182,
     "metadata": {},
     "output_type": "execute_result"
    },
    {
     "data": {
      "image/png": "[encoded data removed]",
      "text/plain": [
       "<matplotlib.figure.Figure at 0x648698d0>"
      ]
     },
     "metadata": {},
     "output_type": "display_data"
    }
   ],
   "source": [
    "df_home = pd.DataFrame(match[['recuperation_home','home_team_goal']].groupby(by='recuperation_home').mean()).sort_index()\n",
    "df_away = pd.DataFrame(match[['recuperation_away','away_team_goal']].groupby(by='recuperation_away').mean()).sort_index()\n",
    "\n",
    "#on merge les deux\n",
    "df_home_away = df_home.merge(df_away, how='outer', left_index=True, right_index=True)\n",
    "df_home_away.columns = ['home goal', 'away goal']\n",
    "\n",
    "#on affiche les deux histogrammes\n",
    "df_home_away.plot(kind='bar', title='nombre de buts en fonction du temps de recuperation en jours')"
   ]
  },
  {
   "cell_type": "markdown",
   "metadata": {},
   "source": [
    "On observe pas vraiment d'effet, sauf peut être sur la fin...\n",
    "\n",
    "On calcule maintenant la dynamique :"
   ]
  },
  {
   "cell_type": "code",
   "execution_count": 183,
   "metadata": {
    "collapsed": false
   },
   "outputs": [],
   "source": [
    "def vainqueur(row):\n",
    "    if row.home_team_goal > row.away_team_goal:\n",
    "        return 'H'\n",
    "    elif row.home_team_goal > row.away_team_goal:\n",
    "        return 'A'\n",
    "    else:\n",
    "        return 'N'\n",
    "    \n",
    "match['vainqueur'] = match.apply(vainqueur, axis=1)"
   ]
  },
  {
   "cell_type": "code",
   "execution_count": 184,
   "metadata": {
    "collapsed": false
   },
   "outputs": [
    {
     "name": "stderr",
     "output_type": "stream",
     "text": [
      "C:\\Users\\Alexis\\Anaconda2\\lib\\site-packages\\ipykernel\\__main__.py:8: UserWarning: Boolean Series key will be reindexed to match DataFrame index.\n"
     ]
    }
   ],
   "source": [
    "def dynamique(row, home=True):\n",
    "    # on récupère l'équipe et la date du match\n",
    "    if home:\n",
    "        equipe, jourJ = (row.home_team_api_id, row.date)\n",
    "    else:\n",
    "        equipe, jourJ = (row.away_team_api_id, row.date)\n",
    "        \n",
    "    match_precedents = match[:row.name][(match.home_team_api_id == equipe) | (match.away_team_api_id == equipe)]\n",
    "    \n",
    "    # On trie par date et on reindex pour être sur\n",
    "    match_precedents.sort_values(by='date', inplace=True)\n",
    "    match_precedents.index = range(0,len(match_precedents))\n",
    "    \n",
    "    dyn = ''\n",
    "    # On prend maximum les 5 derniers matchs\n",
    "    for i in range(min(5,match_precedents.id.count())):\n",
    "        row = match_precedents.iloc[[i]]\n",
    "        # Si l'équipe qu'on regarde a joué à domicile\n",
    "        if equipe == row.home_team_api_id.values:\n",
    "            if row.vainqueur.values == 'H':\n",
    "                dyn += 'G'\n",
    "            elif row.vainqueur.values == 'A':\n",
    "                dyn += 'P'\n",
    "            else:\n",
    "                dyn += 'N'\n",
    "        # Sinon c'est que c'était l'équipe qui jouait à l'exterieur\n",
    "        else:\n",
    "            if row.vainqueur.values == 'A':\n",
    "                dyn += 'G'\n",
    "            elif row.vainqueur.values == 'H':\n",
    "                dyn += 'P'\n",
    "            else:\n",
    "                dyn += 'N'\n",
    "    \n",
    "    # Si il n'existe pas de match avant, on rempli par des matchs nuls            \n",
    "    if len(dyn) < 5:\n",
    "        dyn = dyn + ('N' * (5-len(dyn)))\n",
    "        \n",
    "    return dyn[::-1] # on renverse la chaine de caractère, car on veut du plus vieux au plus jeune de gauche à droite\n",
    "    \n",
    "match['home_dynamique'] = match.apply(lambda row: dynamique(row), axis=1)\n",
    "match['away_dynamique'] = match.apply(lambda row: dynamique(row, home=False), axis=1)"
   ]
  },
  {
   "cell_type": "code",
   "execution_count": 185,
   "metadata": {
    "collapsed": false
   },
   "outputs": [],
   "source": [
    "def score_dyn(dyn):\n",
    "    score = 0\n",
    "    for i in range(5):\n",
    "        score = score + (1 if dyn[i] == 'G' else -1 if dyn[i] == 'P' else 0) * (float(i+1)/float(5))\n",
    "    return score\n",
    "\n",
    "match['home_score_dynamique'] = match.home_dynamique.apply(score_dyn)\n",
    "match['away_score_dynamique'] = match.away_dynamique.apply(score_dyn)"
   ]
  },
  {
   "cell_type": "markdown",
   "metadata": {},
   "source": [
    "On enregistre la nouvelle base de données (le calcul a pris des heures, on va pas le faire à chaque fois...)"
   ]
  },
  {
   "cell_type": "code",
   "execution_count": 186,
   "metadata": {
    "collapsed": true
   },
   "outputs": [],
   "source": [
    "match.to_csv('data\\\\match_enhanced_global.csv', encoding='utf-8')"
   ]
  },
  {
   "cell_type": "markdown",
   "metadata": {},
   "source": [
    "## Ajustement nombre de buts"
   ]
  },
  {
   "cell_type": "markdown",
   "metadata": {},
   "source": [
    "Maintenant on va chercher à améliorer l'information sur les buts. On avait vu que celle-ci était trop variable et pas toujours représentative de la qualité de jeu de l'équipe. \n",
    "\n",
    "Commençons par charger les données :"
   ]
  },
  {
   "cell_type": "code",
   "execution_count": 5,
   "metadata": {
    "collapsed": false
   },
   "outputs": [],
   "source": [
    "match = pd.read_csv('data\\\\match_enhanced_global.csv', index_col=0, parse_dates=[3], infer_datetime_format=True)"
   ]
  },
  {
   "cell_type": "markdown",
   "metadata": {},
   "source": [
    "On commence par importer la librairie nécessaire pour parser les informations contenues dans les colonnes 'goal', 'shoton', 'possession', etc."
   ]
  },
  {
   "cell_type": "code",
   "execution_count": 6,
   "metadata": {
    "collapsed": true
   },
   "outputs": [],
   "source": [
    "from lxml import html\n",
    "import scipy"
   ]
  },
  {
   "cell_type": "markdown",
   "metadata": {},
   "source": [
    "On extrait le nombre de tirs cadrés de la colonne 'shoton'. Pour ceci on procède en deux étapes :\n",
    "- on récupère d'abord la liste des équipes qui ont fais des tirs cadrés (ex: [equipe 1, equipe 1, equipe 2] signfie que l'equipe 1 a d'abord marqué deux fois, puis l'équipe 2 a marqué une fois)\n",
    "- on aggrège la liste pour avoir deux colonnes : equipe_home_tirs_cadres = 2, equipe_away_tir_cadres = 1"
   ]
  },
  {
   "cell_type": "code",
   "execution_count": 7,
   "metadata": {
    "collapsed": false
   },
   "outputs": [],
   "source": [
    "def extract_nb_tirs(row):\n",
    "    if(not pd.isnull(row)):\n",
    "        tree = html.fromstring(row)\n",
    "        equipe = tree.xpath('//team/text()')\n",
    "        return np.array(equipe, dtype=np.int32)\n",
    "    return []\n",
    "\n",
    "match['tirs_cadres'] = match.shoton.apply(lambda row: extract_nb_tirs(row))"
   ]
  },
  {
   "cell_type": "code",
   "execution_count": 8,
   "metadata": {
    "collapsed": false
   },
   "outputs": [
    {
     "data": {
      "text/plain": [
       "25974    []\n",
       "25975    []\n",
       "25976    []\n",
       "25977    []\n",
       "25978    []\n",
       "Name: tirs_cadres, dtype: object"
      ]
     },
     "execution_count": 8,
     "metadata": {},
     "output_type": "execute_result"
    }
   ],
   "source": [
    "match.tirs_cadres.tail()"
   ]
  },
  {
   "cell_type": "code",
   "execution_count": 9,
   "metadata": {
    "collapsed": false
   },
   "outputs": [],
   "source": [
    "def agrege_equipe_cadres(row, home=True):\n",
    "    if(len(row.tirs_cadres) > 0):\n",
    "        if home:\n",
    "            return (row.tirs_cadres == row.home_team_api_id).sum()\n",
    "        else:\n",
    "            return (row.tirs_cadres == row.away_team_api_id).sum()\n",
    "    return 0\n",
    "    \n",
    "match['home_tir_cadre'] = match.apply(lambda row: agrege_equipe_cadres(row), axis=1)\n",
    "match['away_tir_cadre'] = match.apply(lambda row: agrege_equipe_cadres(row, home=False), axis=1)"
   ]
  },
  {
   "cell_type": "code",
   "execution_count": 10,
   "metadata": {
    "collapsed": false
   },
   "outputs": [
    {
     "data": {
      "text/plain": [
       "array([[<matplotlib.axes._subplots.AxesSubplot object at 0x0000000028A2C518>,\n",
       "        <matplotlib.axes._subplots.AxesSubplot object at 0x0000000031C65E48>]], dtype=object)"
      ]
     },
     "execution_count": 10,
     "metadata": {},
     "output_type": "execute_result"
    },
    {
     "data": {
      "image/png": "[encoded data removed]",
      "text/plain": [
       "<matplotlib.figure.Figure at 0x80ec9b0>"
      ]
     },
     "metadata": {},
     "output_type": "display_data"
    }
   ],
   "source": [
    "match[['home_tir_cadre','away_tir_cadre']].hist()"
   ]
  },
  {
   "cell_type": "markdown",
   "metadata": {},
   "source": [
    "On remarque un problème : certaines lignes n'avaient pas l'information sur les tirs (non) cadrés. Il existe donc des lignes où le nombre de buts est différent de 0, mais où il n'y a pas l'information sur le nombre de tirs (non) cadrés. On va donc estimer le nombre de tirs cadrés en faisant nb_de_buts * coeff où coeff suit une loi de poisson centrée sur la moyenne de tirs cadrés il faut par but"
   ]
  },
  {
   "cell_type": "code",
   "execution_count": 11,
   "metadata": {
    "collapsed": false
   },
   "outputs": [
    {
     "name": "stdout",
     "output_type": "stream",
     "text": [
      "3.96485768501\n",
      "4.28038830941\n"
     ]
    }
   ],
   "source": [
    "print(match[match.home_tir_cadre!=0].home_tir_cadre.sum()/float(match[match.home_tir_cadre!=0].home_team_goal.sum()))\n",
    "print(match[match.away_tir_cadre!=0].away_tir_cadre.sum()/float(match[match.away_tir_cadre!=0].away_team_goal.sum()))"
   ]
  },
  {
   "cell_type": "markdown",
   "metadata": {},
   "source": [
    "On va donc considérer les coefficients suivants :"
   ]
  },
  {
   "cell_type": "code",
   "execution_count": 12,
   "metadata": {
    "collapsed": false
   },
   "outputs": [],
   "source": [
    "def adjust_cadre(row, home=True):\n",
    "    if home:\n",
    "        if row.home_tir_cadre == 0 and row.home_team_goal != 0:\n",
    "            return np.random.poisson(3.96 * row.home_team_goal)\n",
    "        return row.home_tir_cadre\n",
    "    else:\n",
    "        if row.away_tir_cadre == 0 and row.away_team_goal != 0:\n",
    "            return np.random.poisson(4.28 * row.home_team_goal)\n",
    "        return row.away_tir_cadre\n",
    "    \n",
    "match['home_tir_cadre'] = match.apply(adjust_cadre, axis=1)\n",
    "match['away_tir_cadre'] = match.apply(adjust_cadre, axis=1, home=False)"
   ]
  },
  {
   "cell_type": "markdown",
   "metadata": {},
   "source": [
    "On a maintenant des distributions plus vraisemblables du nombre de tirs cadrés"
   ]
  },
  {
   "cell_type": "code",
   "execution_count": 13,
   "metadata": {
    "collapsed": false
   },
   "outputs": [
    {
     "data": {
      "text/plain": [
       "array([[<matplotlib.axes._subplots.AxesSubplot object at 0x00000000313B78D0>,\n",
       "        <matplotlib.axes._subplots.AxesSubplot object at 0x0000000031A4A128>]], dtype=object)"
      ]
     },
     "execution_count": 13,
     "metadata": {},
     "output_type": "execute_result"
    },
    {
     "data": {
      "image/png": "[encoded data removed]",
      "text/plain": [
       "<matplotlib.figure.Figure at 0x31614828>"
      ]
     },
     "metadata": {},
     "output_type": "display_data"
    }
   ],
   "source": [
    "match[['home_team_goal','home_tir_cadre']].hist(bins=30)"
   ]
  },
  {
   "cell_type": "markdown",
   "metadata": {},
   "source": [
    "Passons à une autre correction : on va déterminer les tirs qui ont donné l'avantage. En effet, ce sont ceux qui ont \"le plus de valeur\". Lorsque les deux équipes sont à égalités, elles jouent du mieux possible pour prendre l'avantage et remporter le match. A l'inverse, une équipe menée 4-0 aura tendance en fin de match à se décourager et par conséquent se prendre encore plus de buts ! \n",
    "\n",
    "Le calcul est un peu long, mais l'idée est de récupérer l'ordre dans lequel les buts sont arrivés, puis de compter combien de fois chacune des équipes à marqué alors qu'il y avait égalité."
   ]
  },
  {
   "cell_type": "code",
   "execution_count": 14,
   "metadata": {
    "collapsed": false
   },
   "outputs": [
    {
     "name": "stderr",
     "output_type": "stream",
     "text": [
      "C:\\Users\\Alexis\\Anaconda2\\lib\\site-packages\\ipykernel\\__main__.py:56: DeprecationWarning: elementwise == comparison failed; this will raise an error in the future.\n"
     ]
    }
   ],
   "source": [
    "def compte_pencher_match(equipes):  \n",
    "    # Si il y a eu une erreure, on renvoie []\n",
    "    if(len(np.unique(equipes)) == 0):\n",
    "        return []\n",
    "    \n",
    "    # Si seulement 1 équipe à marqué, on renvoie 1 pour cette équipe et 0 pour l'autre (convention -1)\n",
    "    if(len(np.unique(equipes)) == 1):\n",
    "        [equipe1] = np.unique(equipes)\n",
    "        return(np.array([[equipe1,1],[-1,0]]))\n",
    "   \n",
    "    # sinon\n",
    "    else:\n",
    "        equipe1, equipe2 = np.unique(equipes)\n",
    "        \n",
    "        # variable qui suit le nombre de buts marqués par chaque équipe\n",
    "        count_equipe1 = 0\n",
    "        count_equipe2 = 0\n",
    "\n",
    "        # nombre de fois que chaque équipe a pris l'avantage\n",
    "        penche_equipe1 = 0\n",
    "        penche_equipe2 = 0\n",
    "\n",
    "        for equipe in equipes:\n",
    "            # Si équipe 1 marque\n",
    "            if(equipe == equipe1):\n",
    "                # Si il y avait égalité, on rajoute un point de 'prise avantage'\n",
    "                if(count_equipe1 == count_equipe2):\n",
    "                    penche_equipe1 = penche_equipe1 + 1\n",
    "                # Et on compte le but\n",
    "                count_equipe1 = count_equipe1 + 1\n",
    "                \n",
    "            # A l'inverse si equipe 2 marque, on fait le même test\n",
    "            else:\n",
    "                if(count_equipe1 == count_equipe2):\n",
    "                    penche_equipe2 = penche_equipe2 + 1\n",
    "                count_equipe2 = count_equipe2 + 1\n",
    "            \n",
    "\n",
    "        return(np.array([[equipe1,penche_equipe1],[equipe2,penche_equipe2]]))\n",
    "\n",
    "\n",
    "# cette fonction extrait le nombre de fois où une équipe (home et away) a fait pencher le match en sa faveur\n",
    "def ajuste_goals(cell):\n",
    "    # on retire les lignes qui n'ont pas cette donnée de renseigné\n",
    "    if(not pd.isnull(cell)):\n",
    "        # on garde uniquement les lignes où il y a eu des buts (sinon pas d'effet supplémentaire)\n",
    "        if(cell.startswith('<goal>')):\n",
    "            tree = html.fromstring(cell)\n",
    "            equipe = tree.xpath('//team/text()')\n",
    "            return compte_pencher_match(np.array(equipe, dtype=np.int32))\n",
    "    return []\n",
    "\n",
    "match['avantage'] = match.goal.apply(lambda cell: ajuste_goals(cell))\n",
    "\n",
    "def get_home_away(row, home=True):\n",
    "    if(row.avantage == []):\n",
    "        return 0\n",
    "    else:\n",
    "        (equipe1, score1), (equipe2, score2) = row.avantage\n",
    "        if home:\n",
    "            if equipe1 == row.home_team_api_id:\n",
    "                return score1\n",
    "            return score2\n",
    "        else:\n",
    "            if equipe1 == row.away_team_api_id:\n",
    "                return score1\n",
    "            return score2\n",
    "\n",
    "match['home_avantage'] = match.apply(lambda row: get_home_away(row), axis=1)\n",
    "match['away_avantage'] = match.apply(lambda row: get_home_away(row, home=False), axis=1)"
   ]
  },
  {
   "cell_type": "code",
   "execution_count": 15,
   "metadata": {
    "collapsed": false,
    "scrolled": false
   },
   "outputs": [
    {
     "data": {
      "text/plain": [
       "array([[<matplotlib.axes._subplots.AxesSubplot object at 0x0000000031F74E48>,\n",
       "        <matplotlib.axes._subplots.AxesSubplot object at 0x00000000329EB208>]], dtype=object)"
      ]
     },
     "execution_count": 15,
     "metadata": {},
     "output_type": "execute_result"
    },
    {
     "data": {
      "image/png": "[encoded data removed]",
      "text/plain": [
       "<matplotlib.figure.Figure at 0x31e66550>"
      ]
     },
     "metadata": {},
     "output_type": "display_data"
    }
   ],
   "source": [
    "match[['home_avantage','away_avantage']].hist()"
   ]
  },
  {
   "cell_type": "markdown",
   "metadata": {},
   "source": [
    "On va maintenant comptabiliser le nombre de corner"
   ]
  },
  {
   "cell_type": "code",
   "execution_count": 16,
   "metadata": {
    "collapsed": true
   },
   "outputs": [],
   "source": [
    "def extract_nb_corner(cell):\n",
    "    if(not pd.isnull(cell)):\n",
    "        tree = html.fromstring(cell)\n",
    "        equipe = tree.xpath('//team/text()')\n",
    "        return np.array(equipe, dtype=np.int32)\n",
    "    return []\n",
    "\n",
    "match['nb_corner'] = match.corner.apply(lambda cell: extract_nb_corner(cell))"
   ]
  },
  {
   "cell_type": "code",
   "execution_count": 17,
   "metadata": {
    "collapsed": false
   },
   "outputs": [],
   "source": [
    "def agrege_equipe_corner(row, home=True):\n",
    "    if(len(row.nb_corner) > 0):\n",
    "        if home:\n",
    "            return (row.nb_corner == row.home_team_api_id).sum()\n",
    "        else:\n",
    "            return (row.nb_corner == row.away_team_api_id).sum()\n",
    "    return 0\n",
    "    \n",
    "match['home_corner'] = match.apply(lambda row: agrege_equipe_corner(row), axis=1)\n",
    "match['away_corner'] = match.apply(lambda row: agrege_equipe_corner(row, home=False), axis=1)"
   ]
  },
  {
   "cell_type": "markdown",
   "metadata": {},
   "source": [
    "De la même manière il faut redresser quand on a pas l'information. On va mettre la moyenne cette fois-ci :"
   ]
  },
  {
   "cell_type": "code",
   "execution_count": 18,
   "metadata": {
    "collapsed": false
   },
   "outputs": [
    {
     "name": "stdout",
     "output_type": "stream",
     "text": [
      "5.90802675585\n",
      "4.64515346354\n"
     ]
    }
   ],
   "source": [
    "print(match[match.home_corner != 0].home_corner.mean())\n",
    "print(match[match.away_corner != 0].away_corner.mean())"
   ]
  },
  {
   "cell_type": "code",
   "execution_count": 19,
   "metadata": {
    "collapsed": false
   },
   "outputs": [
    {
     "name": "stderr",
     "output_type": "stream",
     "text": [
      "C:\\Users\\Alexis\\Anaconda2\\lib\\site-packages\\ipykernel\\__main__.py:3: DeprecationWarning: elementwise == comparison failed; this will raise an error in the future.\n",
      "  app.launch_new_instance()\n",
      "C:\\Users\\Alexis\\Anaconda2\\lib\\site-packages\\ipykernel\\__main__.py:7: DeprecationWarning: elementwise == comparison failed; this will raise an error in the future.\n"
     ]
    }
   ],
   "source": [
    "def adjust_corner(row, home=True):\n",
    "    if home:\n",
    "        if row.nb_corner == []:\n",
    "            return np.random.poisson(5.91)\n",
    "        return row.home_corner\n",
    "    else:\n",
    "        if row.nb_corner == []:\n",
    "            return np.random.poisson(4.65)\n",
    "        return row.away_corner\n",
    "    \n",
    "match['home_corner'] = match.apply(lambda row: adjust_corner(row), axis=1)\n",
    "match['away_corner'] = match.apply(lambda row: adjust_corner(row, home=False), axis=1)"
   ]
  },
  {
   "cell_type": "markdown",
   "metadata": {},
   "source": [
    "C'est moyennement satisfaisant ... on verra si on conserve"
   ]
  },
  {
   "cell_type": "code",
   "execution_count": 20,
   "metadata": {
    "collapsed": false
   },
   "outputs": [
    {
     "data": {
      "text/plain": [
       "array([[<matplotlib.axes._subplots.AxesSubplot object at 0x0000000032CBB5C0>,\n",
       "        <matplotlib.axes._subplots.AxesSubplot object at 0x0000000032DF6A90>]], dtype=object)"
      ]
     },
     "execution_count": 20,
     "metadata": {},
     "output_type": "execute_result"
    },
    {
     "data": {
      "image/png": "[encoded data removed]",
      "text/plain": [
       "<matplotlib.figure.Figure at 0x32cf42e8>"
      ]
     },
     "metadata": {},
     "output_type": "display_data"
    }
   ],
   "source": [
    "match[['home_corner','away_corner']].hist()"
   ]
  },
  {
   "cell_type": "markdown",
   "metadata": {},
   "source": [
    "On sait que 2.2% des corners sont transformés en buts (source : http://www.slate.fr/sports/87357/corners-occasion-but-football). (le dataset ne permet pas de mesurer cela). On calcule alors la métrique finale"
   ]
  },
  {
   "cell_type": "code",
   "execution_count": 36,
   "metadata": {
    "collapsed": false
   },
   "outputs": [],
   "source": [
    "def calcul_but_ajuste(row, home=True):\n",
    "    # Si on avais pas l'information sur les buts par exemple, on utilse les données des 'vrais' buts\n",
    "    if row.isnull().goal == True:\n",
    "        if home:\n",
    "            return row.home_team_goal\n",
    "        else:\n",
    "            return row.away_team_goal\n",
    "    # Sinon on utilise les données enrichies qu'on a créée:\n",
    "    if home:    \n",
    "        return row.home_tir_cadre * 0.25 + row.home_corner * 0.022 + row.home_avantage * 0.5\n",
    "    else:\n",
    "        return row.away_tir_cadre * 0.25 + row.away_corner * 0.022 + row.away_avantage * 0.5\n",
    "    \n",
    "match['home_goal_adjusted'] = match.apply(lambda row: calcul_but_ajuste(row), axis=1)\n",
    "match['away_goal_adjusted'] = match.apply(lambda row: calcul_but_ajuste(row, home=False), axis=1)"
   ]
  },
  {
   "cell_type": "code",
   "execution_count": 37,
   "metadata": {
    "collapsed": false
   },
   "outputs": [
    {
     "data": {
      "text/plain": [
       "array([[<matplotlib.axes._subplots.AxesSubplot object at 0x0000000033619C88>,\n",
       "        <matplotlib.axes._subplots.AxesSubplot object at 0x00000000350A0F28>]], dtype=object)"
      ]
     },
     "execution_count": 37,
     "metadata": {},
     "output_type": "execute_result"
    },
    {
     "data": {
      "image/png": "[encoded data removed]",
      "text/plain": [
       "<matplotlib.figure.Figure at 0x3274aa90>"
      ]
     },
     "metadata": {},
     "output_type": "display_data"
    }
   ],
   "source": [
    "match[['home_goal_adjusted','away_goal_adjusted']].hist(bins=100)"
   ]
  },
  {
   "cell_type": "markdown",
   "metadata": {},
   "source": [
    "On va maintenant se limiter à la ligue 1 française dans un premier temps"
   ]
  },
  {
   "cell_type": "code",
   "execution_count": 38,
   "metadata": {
    "collapsed": false
   },
   "outputs": [
    {
     "name": "stdout",
     "output_type": "stream",
     "text": [
      "35\n"
     ]
    }
   ],
   "source": [
    "match_ligue_1 = match[match.league_id == 4769]\n",
    "num_teams = len(match_ligue_1.away_team_api_id.unique())\n",
    "print(num_teams)"
   ]
  },
  {
   "cell_type": "code",
   "execution_count": 39,
   "metadata": {
    "collapsed": false
   },
   "outputs": [],
   "source": [
    "match.drop(['id','league_id','date','goal', 'shoton', 'shotoff', 'foulcommit', 'card', 'cross', 'corner', 'possession',\n",
    "           'avantage','nb_corner','tirs_cadres'],\n",
    "           axis=1, inplace=True)"
   ]
  },
  {
   "cell_type": "code",
   "execution_count": 40,
   "metadata": {
    "collapsed": false
   },
   "outputs": [
    {
     "data": {
      "text/html": [
       "<div>\n",
       "<table border=\"1\" class=\"dataframe\">\n",
       "  <thead>\n",
       "    <tr style=\"text-align: right;\">\n",
       "      <th></th>\n",
       "      <th>home_team_api_id</th>\n",
       "      <th>away_team_api_id</th>\n",
       "      <th>home_team_goal</th>\n",
       "      <th>away_team_goal</th>\n",
       "      <th>home_team_long_name</th>\n",
       "      <th>away_team_long_name</th>\n",
       "      <th>recuperation_home</th>\n",
       "      <th>recuperation_away</th>\n",
       "      <th>vainqueur</th>\n",
       "      <th>home_dynamique</th>\n",
       "      <th>...</th>\n",
       "      <th>home_score_dynamique</th>\n",
       "      <th>away_score_dynamique</th>\n",
       "      <th>home_tir_cadre</th>\n",
       "      <th>away_tir_cadre</th>\n",
       "      <th>home_avantage</th>\n",
       "      <th>away_avantage</th>\n",
       "      <th>home_corner</th>\n",
       "      <th>away_corner</th>\n",
       "      <th>home_goal_adjusted</th>\n",
       "      <th>away_goal_adjusted</th>\n",
       "    </tr>\n",
       "  </thead>\n",
       "  <tbody>\n",
       "    <tr>\n",
       "      <th>0</th>\n",
       "      <td>10192</td>\n",
       "      <td>9931</td>\n",
       "      <td>1</td>\n",
       "      <td>2</td>\n",
       "      <td>BSC Young Boys</td>\n",
       "      <td>FC Basel</td>\n",
       "      <td>15</td>\n",
       "      <td>15</td>\n",
       "      <td>N</td>\n",
       "      <td>NNNNN</td>\n",
       "      <td>...</td>\n",
       "      <td>0.0</td>\n",
       "      <td>0.0</td>\n",
       "      <td>1</td>\n",
       "      <td>3</td>\n",
       "      <td>0</td>\n",
       "      <td>0</td>\n",
       "      <td>7</td>\n",
       "      <td>2</td>\n",
       "      <td>1.000</td>\n",
       "      <td>2.000</td>\n",
       "    </tr>\n",
       "    <tr>\n",
       "      <th>1</th>\n",
       "      <td>9930</td>\n",
       "      <td>10179</td>\n",
       "      <td>3</td>\n",
       "      <td>1</td>\n",
       "      <td>FC Aarau</td>\n",
       "      <td>FC Sion</td>\n",
       "      <td>15</td>\n",
       "      <td>15</td>\n",
       "      <td>H</td>\n",
       "      <td>NNNNN</td>\n",
       "      <td>...</td>\n",
       "      <td>0.0</td>\n",
       "      <td>0.0</td>\n",
       "      <td>8</td>\n",
       "      <td>12</td>\n",
       "      <td>0</td>\n",
       "      <td>0</td>\n",
       "      <td>7</td>\n",
       "      <td>9</td>\n",
       "      <td>3.000</td>\n",
       "      <td>1.000</td>\n",
       "    </tr>\n",
       "    <tr>\n",
       "      <th>2</th>\n",
       "      <td>10199</td>\n",
       "      <td>9824</td>\n",
       "      <td>1</td>\n",
       "      <td>2</td>\n",
       "      <td>FC Luzern</td>\n",
       "      <td>FC Vaduz</td>\n",
       "      <td>15</td>\n",
       "      <td>15</td>\n",
       "      <td>N</td>\n",
       "      <td>NNNNN</td>\n",
       "      <td>...</td>\n",
       "      <td>0.0</td>\n",
       "      <td>0.0</td>\n",
       "      <td>6</td>\n",
       "      <td>3</td>\n",
       "      <td>0</td>\n",
       "      <td>0</td>\n",
       "      <td>5</td>\n",
       "      <td>8</td>\n",
       "      <td>1.000</td>\n",
       "      <td>2.000</td>\n",
       "    </tr>\n",
       "    <tr>\n",
       "      <th>3</th>\n",
       "      <td>7955</td>\n",
       "      <td>10243</td>\n",
       "      <td>1</td>\n",
       "      <td>2</td>\n",
       "      <td>Neuchâtel Xamax</td>\n",
       "      <td>FC Zürich</td>\n",
       "      <td>15</td>\n",
       "      <td>15</td>\n",
       "      <td>N</td>\n",
       "      <td>NNNNN</td>\n",
       "      <td>...</td>\n",
       "      <td>0.0</td>\n",
       "      <td>0.0</td>\n",
       "      <td>1</td>\n",
       "      <td>3</td>\n",
       "      <td>0</td>\n",
       "      <td>0</td>\n",
       "      <td>5</td>\n",
       "      <td>5</td>\n",
       "      <td>1.000</td>\n",
       "      <td>2.000</td>\n",
       "    </tr>\n",
       "    <tr>\n",
       "      <th>4</th>\n",
       "      <td>10243</td>\n",
       "      <td>10199</td>\n",
       "      <td>1</td>\n",
       "      <td>0</td>\n",
       "      <td>FC Zürich</td>\n",
       "      <td>FC Luzern</td>\n",
       "      <td>3</td>\n",
       "      <td>3</td>\n",
       "      <td>H</td>\n",
       "      <td>NNNNN</td>\n",
       "      <td>...</td>\n",
       "      <td>0.0</td>\n",
       "      <td>0.0</td>\n",
       "      <td>1</td>\n",
       "      <td>0</td>\n",
       "      <td>0</td>\n",
       "      <td>0</td>\n",
       "      <td>11</td>\n",
       "      <td>6</td>\n",
       "      <td>1.000</td>\n",
       "      <td>0.000</td>\n",
       "    </tr>\n",
       "    <tr>\n",
       "      <th>5</th>\n",
       "      <td>6493</td>\n",
       "      <td>7955</td>\n",
       "      <td>1</td>\n",
       "      <td>2</td>\n",
       "      <td>AC Bellinzona</td>\n",
       "      <td>Neuchâtel Xamax</td>\n",
       "      <td>15</td>\n",
       "      <td>3</td>\n",
       "      <td>N</td>\n",
       "      <td>NNNNN</td>\n",
       "      <td>...</td>\n",
       "      <td>0.0</td>\n",
       "      <td>0.0</td>\n",
       "      <td>2</td>\n",
       "      <td>10</td>\n",
       "      <td>0</td>\n",
       "      <td>0</td>\n",
       "      <td>9</td>\n",
       "      <td>1</td>\n",
       "      <td>1.000</td>\n",
       "      <td>2.000</td>\n",
       "    </tr>\n",
       "    <tr>\n",
       "      <th>6</th>\n",
       "      <td>9931</td>\n",
       "      <td>9956</td>\n",
       "      <td>1</td>\n",
       "      <td>0</td>\n",
       "      <td>FC Basel</td>\n",
       "      <td>Grasshopper Club Zürich</td>\n",
       "      <td>5</td>\n",
       "      <td>15</td>\n",
       "      <td>H</td>\n",
       "      <td>NNNNN</td>\n",
       "      <td>...</td>\n",
       "      <td>0.0</td>\n",
       "      <td>0.0</td>\n",
       "      <td>4</td>\n",
       "      <td>0</td>\n",
       "      <td>0</td>\n",
       "      <td>0</td>\n",
       "      <td>7</td>\n",
       "      <td>1</td>\n",
       "      <td>1.000</td>\n",
       "      <td>0.000</td>\n",
       "    </tr>\n",
       "    <tr>\n",
       "      <th>7</th>\n",
       "      <td>10179</td>\n",
       "      <td>10192</td>\n",
       "      <td>2</td>\n",
       "      <td>1</td>\n",
       "      <td>FC Sion</td>\n",
       "      <td>BSC Young Boys</td>\n",
       "      <td>5</td>\n",
       "      <td>6</td>\n",
       "      <td>H</td>\n",
       "      <td>NNNNP</td>\n",
       "      <td>...</td>\n",
       "      <td>-1.0</td>\n",
       "      <td>-1.0</td>\n",
       "      <td>5</td>\n",
       "      <td>10</td>\n",
       "      <td>0</td>\n",
       "      <td>0</td>\n",
       "      <td>6</td>\n",
       "      <td>7</td>\n",
       "      <td>2.000</td>\n",
       "      <td>1.000</td>\n",
       "    </tr>\n",
       "    <tr>\n",
       "      <th>8</th>\n",
       "      <td>9824</td>\n",
       "      <td>9930</td>\n",
       "      <td>0</td>\n",
       "      <td>2</td>\n",
       "      <td>FC Vaduz</td>\n",
       "      <td>FC Aarau</td>\n",
       "      <td>4</td>\n",
       "      <td>5</td>\n",
       "      <td>N</td>\n",
       "      <td>NNNNN</td>\n",
       "      <td>...</td>\n",
       "      <td>0.0</td>\n",
       "      <td>0.0</td>\n",
       "      <td>0</td>\n",
       "      <td>0</td>\n",
       "      <td>0</td>\n",
       "      <td>0</td>\n",
       "      <td>3</td>\n",
       "      <td>5</td>\n",
       "      <td>0.000</td>\n",
       "      <td>2.000</td>\n",
       "    </tr>\n",
       "    <tr>\n",
       "      <th>9</th>\n",
       "      <td>10199</td>\n",
       "      <td>7955</td>\n",
       "      <td>0</td>\n",
       "      <td>1</td>\n",
       "      <td>FC Luzern</td>\n",
       "      <td>Neuchâtel Xamax</td>\n",
       "      <td>3</td>\n",
       "      <td>3</td>\n",
       "      <td>N</td>\n",
       "      <td>NNNPN</td>\n",
       "      <td>...</td>\n",
       "      <td>-0.8</td>\n",
       "      <td>-0.8</td>\n",
       "      <td>0</td>\n",
       "      <td>0</td>\n",
       "      <td>0</td>\n",
       "      <td>0</td>\n",
       "      <td>5</td>\n",
       "      <td>6</td>\n",
       "      <td>0.000</td>\n",
       "      <td>1.000</td>\n",
       "    </tr>\n",
       "    <tr>\n",
       "      <th>10</th>\n",
       "      <td>9931</td>\n",
       "      <td>6493</td>\n",
       "      <td>2</td>\n",
       "      <td>0</td>\n",
       "      <td>FC Basel</td>\n",
       "      <td>AC Bellinzona</td>\n",
       "      <td>3</td>\n",
       "      <td>3</td>\n",
       "      <td>H</td>\n",
       "      <td>NNNGN</td>\n",
       "      <td>...</td>\n",
       "      <td>0.8</td>\n",
       "      <td>0.8</td>\n",
       "      <td>8</td>\n",
       "      <td>0</td>\n",
       "      <td>0</td>\n",
       "      <td>0</td>\n",
       "      <td>8</td>\n",
       "      <td>3</td>\n",
       "      <td>2.000</td>\n",
       "      <td>0.000</td>\n",
       "    </tr>\n",
       "    <tr>\n",
       "      <th>11</th>\n",
       "      <td>9930</td>\n",
       "      <td>10243</td>\n",
       "      <td>2</td>\n",
       "      <td>1</td>\n",
       "      <td>FC Aarau</td>\n",
       "      <td>FC Zürich</td>\n",
       "      <td>3</td>\n",
       "      <td>4</td>\n",
       "      <td>H</td>\n",
       "      <td>NNNNG</td>\n",
       "      <td>...</td>\n",
       "      <td>1.0</td>\n",
       "      <td>1.0</td>\n",
       "      <td>8</td>\n",
       "      <td>9</td>\n",
       "      <td>0</td>\n",
       "      <td>0</td>\n",
       "      <td>6</td>\n",
       "      <td>7</td>\n",
       "      <td>2.000</td>\n",
       "      <td>1.000</td>\n",
       "    </tr>\n",
       "    <tr>\n",
       "      <th>12</th>\n",
       "      <td>10192</td>\n",
       "      <td>9824</td>\n",
       "      <td>0</td>\n",
       "      <td>0</td>\n",
       "      <td>BSC Young Boys</td>\n",
       "      <td>FC Vaduz</td>\n",
       "      <td>3</td>\n",
       "      <td>3</td>\n",
       "      <td>N</td>\n",
       "      <td>NNNPN</td>\n",
       "      <td>...</td>\n",
       "      <td>-0.8</td>\n",
       "      <td>-0.8</td>\n",
       "      <td>0</td>\n",
       "      <td>0</td>\n",
       "      <td>0</td>\n",
       "      <td>0</td>\n",
       "      <td>8</td>\n",
       "      <td>5</td>\n",
       "      <td>0.000</td>\n",
       "      <td>0.000</td>\n",
       "    </tr>\n",
       "    <tr>\n",
       "      <th>13</th>\n",
       "      <td>9956</td>\n",
       "      <td>10179</td>\n",
       "      <td>3</td>\n",
       "      <td>1</td>\n",
       "      <td>Grasshopper Club Zürich</td>\n",
       "      <td>FC Sion</td>\n",
       "      <td>7</td>\n",
       "      <td>6</td>\n",
       "      <td>H</td>\n",
       "      <td>NNNNP</td>\n",
       "      <td>...</td>\n",
       "      <td>-1.0</td>\n",
       "      <td>-1.0</td>\n",
       "      <td>13</td>\n",
       "      <td>14</td>\n",
       "      <td>0</td>\n",
       "      <td>0</td>\n",
       "      <td>4</td>\n",
       "      <td>5</td>\n",
       "      <td>3.000</td>\n",
       "      <td>1.000</td>\n",
       "    </tr>\n",
       "    <tr>\n",
       "      <th>14</th>\n",
       "      <td>10179</td>\n",
       "      <td>9931</td>\n",
       "      <td>2</td>\n",
       "      <td>0</td>\n",
       "      <td>FC Sion</td>\n",
       "      <td>FC Basel</td>\n",
       "      <td>3</td>\n",
       "      <td>7</td>\n",
       "      <td>H</td>\n",
       "      <td>NNPGP</td>\n",
       "      <td>...</td>\n",
       "      <td>-0.8</td>\n",
       "      <td>-0.8</td>\n",
       "      <td>6</td>\n",
       "      <td>0</td>\n",
       "      <td>0</td>\n",
       "      <td>0</td>\n",
       "      <td>8</td>\n",
       "      <td>6</td>\n",
       "      <td>2.000</td>\n",
       "      <td>0.000</td>\n",
       "    </tr>\n",
       "    <tr>\n",
       "      <th>15</th>\n",
       "      <td>7955</td>\n",
       "      <td>9930</td>\n",
       "      <td>0</td>\n",
       "      <td>0</td>\n",
       "      <td>Neuchâtel Xamax</td>\n",
       "      <td>FC Aarau</td>\n",
       "      <td>7</td>\n",
       "      <td>6</td>\n",
       "      <td>N</td>\n",
       "      <td>NNNNN</td>\n",
       "      <td>...</td>\n",
       "      <td>0.0</td>\n",
       "      <td>0.0</td>\n",
       "      <td>0</td>\n",
       "      <td>0</td>\n",
       "      <td>0</td>\n",
       "      <td>0</td>\n",
       "      <td>5</td>\n",
       "      <td>5</td>\n",
       "      <td>0.000</td>\n",
       "      <td>0.000</td>\n",
       "    </tr>\n",
       "    <tr>\n",
       "      <th>16</th>\n",
       "      <td>9824</td>\n",
       "      <td>9956</td>\n",
       "      <td>1</td>\n",
       "      <td>1</td>\n",
       "      <td>FC Vaduz</td>\n",
       "      <td>Grasshopper Club Zürich</td>\n",
       "      <td>7</td>\n",
       "      <td>4</td>\n",
       "      <td>N</td>\n",
       "      <td>NNNNN</td>\n",
       "      <td>...</td>\n",
       "      <td>0.0</td>\n",
       "      <td>0.0</td>\n",
       "      <td>3</td>\n",
       "      <td>3</td>\n",
       "      <td>0</td>\n",
       "      <td>0</td>\n",
       "      <td>3</td>\n",
       "      <td>2</td>\n",
       "      <td>1.000</td>\n",
       "      <td>1.000</td>\n",
       "    </tr>\n",
       "    <tr>\n",
       "      <th>17</th>\n",
       "      <td>10243</td>\n",
       "      <td>10192</td>\n",
       "      <td>2</td>\n",
       "      <td>1</td>\n",
       "      <td>FC Zürich</td>\n",
       "      <td>BSC Young Boys</td>\n",
       "      <td>7</td>\n",
       "      <td>7</td>\n",
       "      <td>H</td>\n",
       "      <td>NNPGN</td>\n",
       "      <td>...</td>\n",
       "      <td>0.2</td>\n",
       "      <td>0.2</td>\n",
       "      <td>12</td>\n",
       "      <td>5</td>\n",
       "      <td>0</td>\n",
       "      <td>0</td>\n",
       "      <td>5</td>\n",
       "      <td>2</td>\n",
       "      <td>2.000</td>\n",
       "      <td>1.000</td>\n",
       "    </tr>\n",
       "    <tr>\n",
       "      <th>18</th>\n",
       "      <td>6493</td>\n",
       "      <td>10199</td>\n",
       "      <td>2</td>\n",
       "      <td>2</td>\n",
       "      <td>AC Bellinzona</td>\n",
       "      <td>FC Luzern</td>\n",
       "      <td>8</td>\n",
       "      <td>8</td>\n",
       "      <td>N</td>\n",
       "      <td>NNNPN</td>\n",
       "      <td>...</td>\n",
       "      <td>-0.8</td>\n",
       "      <td>-0.8</td>\n",
       "      <td>16</td>\n",
       "      <td>7</td>\n",
       "      <td>0</td>\n",
       "      <td>0</td>\n",
       "      <td>8</td>\n",
       "      <td>4</td>\n",
       "      <td>2.000</td>\n",
       "      <td>2.000</td>\n",
       "    </tr>\n",
       "    <tr>\n",
       "      <th>19</th>\n",
       "      <td>6493</td>\n",
       "      <td>9930</td>\n",
       "      <td>1</td>\n",
       "      <td>1</td>\n",
       "      <td>AC Bellinzona</td>\n",
       "      <td>FC Aarau</td>\n",
       "      <td>3</td>\n",
       "      <td>4</td>\n",
       "      <td>N</td>\n",
       "      <td>NNNPN</td>\n",
       "      <td>...</td>\n",
       "      <td>-0.8</td>\n",
       "      <td>-0.8</td>\n",
       "      <td>2</td>\n",
       "      <td>4</td>\n",
       "      <td>0</td>\n",
       "      <td>0</td>\n",
       "      <td>5</td>\n",
       "      <td>4</td>\n",
       "      <td>1.000</td>\n",
       "      <td>1.000</td>\n",
       "    </tr>\n",
       "    <tr>\n",
       "      <th>20</th>\n",
       "      <td>8673</td>\n",
       "      <td>2183</td>\n",
       "      <td>2</td>\n",
       "      <td>2</td>\n",
       "      <td>Legia Warszawa</td>\n",
       "      <td>P. Warszawa</td>\n",
       "      <td>15</td>\n",
       "      <td>15</td>\n",
       "      <td>N</td>\n",
       "      <td>NNNNN</td>\n",
       "      <td>...</td>\n",
       "      <td>0.0</td>\n",
       "      <td>0.0</td>\n",
       "      <td>8</td>\n",
       "      <td>11</td>\n",
       "      <td>0</td>\n",
       "      <td>0</td>\n",
       "      <td>8</td>\n",
       "      <td>5</td>\n",
       "      <td>2.000</td>\n",
       "      <td>2.000</td>\n",
       "    </tr>\n",
       "    <tr>\n",
       "      <th>21</th>\n",
       "      <td>2182</td>\n",
       "      <td>8569</td>\n",
       "      <td>2</td>\n",
       "      <td>3</td>\n",
       "      <td>Lech Poznań</td>\n",
       "      <td>GKS Bełchatów</td>\n",
       "      <td>15</td>\n",
       "      <td>15</td>\n",
       "      <td>N</td>\n",
       "      <td>NNNNN</td>\n",
       "      <td>...</td>\n",
       "      <td>0.0</td>\n",
       "      <td>0.0</td>\n",
       "      <td>6</td>\n",
       "      <td>12</td>\n",
       "      <td>0</td>\n",
       "      <td>0</td>\n",
       "      <td>11</td>\n",
       "      <td>7</td>\n",
       "      <td>2.000</td>\n",
       "      <td>3.000</td>\n",
       "    </tr>\n",
       "    <tr>\n",
       "      <th>22</th>\n",
       "      <td>9930</td>\n",
       "      <td>10199</td>\n",
       "      <td>1</td>\n",
       "      <td>0</td>\n",
       "      <td>FC Aarau</td>\n",
       "      <td>FC Luzern</td>\n",
       "      <td>3</td>\n",
       "      <td>6</td>\n",
       "      <td>H</td>\n",
       "      <td>NNGNG</td>\n",
       "      <td>...</td>\n",
       "      <td>1.6</td>\n",
       "      <td>1.6</td>\n",
       "      <td>4</td>\n",
       "      <td>0</td>\n",
       "      <td>0</td>\n",
       "      <td>0</td>\n",
       "      <td>6</td>\n",
       "      <td>4</td>\n",
       "      <td>1.000</td>\n",
       "      <td>0.000</td>\n",
       "    </tr>\n",
       "    <tr>\n",
       "      <th>23</th>\n",
       "      <td>9829</td>\n",
       "      <td>9847</td>\n",
       "      <td>1</td>\n",
       "      <td>0</td>\n",
       "      <td>AS Monaco</td>\n",
       "      <td>Paris Saint-Germain</td>\n",
       "      <td>15</td>\n",
       "      <td>15</td>\n",
       "      <td>H</td>\n",
       "      <td>NNNNN</td>\n",
       "      <td>...</td>\n",
       "      <td>0.0</td>\n",
       "      <td>0.0</td>\n",
       "      <td>4</td>\n",
       "      <td>0</td>\n",
       "      <td>0</td>\n",
       "      <td>0</td>\n",
       "      <td>9</td>\n",
       "      <td>6</td>\n",
       "      <td>1.000</td>\n",
       "      <td>0.000</td>\n",
       "    </tr>\n",
       "    <tr>\n",
       "      <th>24</th>\n",
       "      <td>8025</td>\n",
       "      <td>8030</td>\n",
       "      <td>1</td>\n",
       "      <td>1</td>\n",
       "      <td>Śląsk Wrocław</td>\n",
       "      <td>Lechia Gdańsk</td>\n",
       "      <td>15</td>\n",
       "      <td>15</td>\n",
       "      <td>N</td>\n",
       "      <td>NNNNN</td>\n",
       "      <td>...</td>\n",
       "      <td>0.0</td>\n",
       "      <td>0.0</td>\n",
       "      <td>4</td>\n",
       "      <td>2</td>\n",
       "      <td>0</td>\n",
       "      <td>0</td>\n",
       "      <td>2</td>\n",
       "      <td>6</td>\n",
       "      <td>1.000</td>\n",
       "      <td>1.000</td>\n",
       "    </tr>\n",
       "    <tr>\n",
       "      <th>25</th>\n",
       "      <td>9931</td>\n",
       "      <td>9824</td>\n",
       "      <td>4</td>\n",
       "      <td>0</td>\n",
       "      <td>FC Basel</td>\n",
       "      <td>FC Vaduz</td>\n",
       "      <td>7</td>\n",
       "      <td>6</td>\n",
       "      <td>H</td>\n",
       "      <td>NPGGN</td>\n",
       "      <td>...</td>\n",
       "      <td>1.0</td>\n",
       "      <td>1.0</td>\n",
       "      <td>14</td>\n",
       "      <td>0</td>\n",
       "      <td>0</td>\n",
       "      <td>0</td>\n",
       "      <td>7</td>\n",
       "      <td>5</td>\n",
       "      <td>4.000</td>\n",
       "      <td>0.000</td>\n",
       "    </tr>\n",
       "    <tr>\n",
       "      <th>26</th>\n",
       "      <td>8583</td>\n",
       "      <td>9830</td>\n",
       "      <td>2</td>\n",
       "      <td>1</td>\n",
       "      <td>AJ Auxerre</td>\n",
       "      <td>FC Nantes</td>\n",
       "      <td>15</td>\n",
       "      <td>15</td>\n",
       "      <td>H</td>\n",
       "      <td>NNNNN</td>\n",
       "      <td>...</td>\n",
       "      <td>0.0</td>\n",
       "      <td>0.0</td>\n",
       "      <td>8</td>\n",
       "      <td>6</td>\n",
       "      <td>0</td>\n",
       "      <td>0</td>\n",
       "      <td>2</td>\n",
       "      <td>6</td>\n",
       "      <td>2.000</td>\n",
       "      <td>1.000</td>\n",
       "    </tr>\n",
       "    <tr>\n",
       "      <th>27</th>\n",
       "      <td>9873</td>\n",
       "      <td>9853</td>\n",
       "      <td>1</td>\n",
       "      <td>0</td>\n",
       "      <td>Valenciennes FC</td>\n",
       "      <td>AS Saint-Étienne</td>\n",
       "      <td>15</td>\n",
       "      <td>15</td>\n",
       "      <td>H</td>\n",
       "      <td>NNNNN</td>\n",
       "      <td>...</td>\n",
       "      <td>0.0</td>\n",
       "      <td>0.0</td>\n",
       "      <td>4</td>\n",
       "      <td>0</td>\n",
       "      <td>0</td>\n",
       "      <td>0</td>\n",
       "      <td>6</td>\n",
       "      <td>4</td>\n",
       "      <td>1.000</td>\n",
       "      <td>0.000</td>\n",
       "    </tr>\n",
       "    <tr>\n",
       "      <th>28</th>\n",
       "      <td>9851</td>\n",
       "      <td>8592</td>\n",
       "      <td>4</td>\n",
       "      <td>4</td>\n",
       "      <td>Stade Rennais FC</td>\n",
       "      <td>Olympique de Marseille</td>\n",
       "      <td>15</td>\n",
       "      <td>15</td>\n",
       "      <td>N</td>\n",
       "      <td>NNNNN</td>\n",
       "      <td>...</td>\n",
       "      <td>0.0</td>\n",
       "      <td>0.0</td>\n",
       "      <td>19</td>\n",
       "      <td>20</td>\n",
       "      <td>0</td>\n",
       "      <td>0</td>\n",
       "      <td>5</td>\n",
       "      <td>3</td>\n",
       "      <td>4.000</td>\n",
       "      <td>4.000</td>\n",
       "    </tr>\n",
       "    <tr>\n",
       "      <th>29</th>\n",
       "      <td>10179</td>\n",
       "      <td>6493</td>\n",
       "      <td>0</td>\n",
       "      <td>2</td>\n",
       "      <td>FC Sion</td>\n",
       "      <td>AC Bellinzona</td>\n",
       "      <td>7</td>\n",
       "      <td>3</td>\n",
       "      <td>N</td>\n",
       "      <td>NGPGP</td>\n",
       "      <td>...</td>\n",
       "      <td>-0.4</td>\n",
       "      <td>-0.4</td>\n",
       "      <td>0</td>\n",
       "      <td>0</td>\n",
       "      <td>0</td>\n",
       "      <td>0</td>\n",
       "      <td>8</td>\n",
       "      <td>3</td>\n",
       "      <td>0.000</td>\n",
       "      <td>2.000</td>\n",
       "    </tr>\n",
       "    <tr>\n",
       "      <th>...</th>\n",
       "      <td>...</td>\n",
       "      <td>...</td>\n",
       "      <td>...</td>\n",
       "      <td>...</td>\n",
       "      <td>...</td>\n",
       "      <td>...</td>\n",
       "      <td>...</td>\n",
       "      <td>...</td>\n",
       "      <td>...</td>\n",
       "      <td>...</td>\n",
       "      <td>...</td>\n",
       "      <td>...</td>\n",
       "      <td>...</td>\n",
       "      <td>...</td>\n",
       "      <td>...</td>\n",
       "      <td>...</td>\n",
       "      <td>...</td>\n",
       "      <td>...</td>\n",
       "      <td>...</td>\n",
       "      <td>...</td>\n",
       "      <td>...</td>\n",
       "    </tr>\n",
       "    <tr>\n",
       "      <th>25949</th>\n",
       "      <td>8600</td>\n",
       "      <td>208931</td>\n",
       "      <td>1</td>\n",
       "      <td>2</td>\n",
       "      <td>Udinese</td>\n",
       "      <td>Carpi</td>\n",
       "      <td>7</td>\n",
       "      <td>7</td>\n",
       "      <td>N</td>\n",
       "      <td>GNNPG</td>\n",
       "      <td>...</td>\n",
       "      <td>0.4</td>\n",
       "      <td>0.4</td>\n",
       "      <td>8</td>\n",
       "      <td>5</td>\n",
       "      <td>0</td>\n",
       "      <td>1</td>\n",
       "      <td>6</td>\n",
       "      <td>3</td>\n",
       "      <td>2.132</td>\n",
       "      <td>1.816</td>\n",
       "    </tr>\n",
       "    <tr>\n",
       "      <th>25950</th>\n",
       "      <td>8485</td>\n",
       "      <td>8649</td>\n",
       "      <td>0</td>\n",
       "      <td>4</td>\n",
       "      <td>Aberdeen</td>\n",
       "      <td>Ross County FC</td>\n",
       "      <td>3</td>\n",
       "      <td>4</td>\n",
       "      <td>N</td>\n",
       "      <td>NNNNN</td>\n",
       "      <td>...</td>\n",
       "      <td>0.0</td>\n",
       "      <td>0.0</td>\n",
       "      <td>0</td>\n",
       "      <td>0</td>\n",
       "      <td>0</td>\n",
       "      <td>0</td>\n",
       "      <td>3</td>\n",
       "      <td>3</td>\n",
       "      <td>0.000</td>\n",
       "      <td>4.000</td>\n",
       "    </tr>\n",
       "    <tr>\n",
       "      <th>25951</th>\n",
       "      <td>9869</td>\n",
       "      <td>10205</td>\n",
       "      <td>2</td>\n",
       "      <td>0</td>\n",
       "      <td>Real Sporting de Gijón</td>\n",
       "      <td>Villarreal CF</td>\n",
       "      <td>7</td>\n",
       "      <td>7</td>\n",
       "      <td>H</td>\n",
       "      <td>NPNPN</td>\n",
       "      <td>...</td>\n",
       "      <td>-1.2</td>\n",
       "      <td>-1.2</td>\n",
       "      <td>9</td>\n",
       "      <td>8</td>\n",
       "      <td>1</td>\n",
       "      <td>0</td>\n",
       "      <td>4</td>\n",
       "      <td>1</td>\n",
       "      <td>2.838</td>\n",
       "      <td>2.022</td>\n",
       "    </tr>\n",
       "    <tr>\n",
       "      <th>25952</th>\n",
       "      <td>8466</td>\n",
       "      <td>9826</td>\n",
       "      <td>4</td>\n",
       "      <td>1</td>\n",
       "      <td>Southampton</td>\n",
       "      <td>Crystal Palace</td>\n",
       "      <td>7</td>\n",
       "      <td>8</td>\n",
       "      <td>H</td>\n",
       "      <td>GPNNP</td>\n",
       "      <td>...</td>\n",
       "      <td>-1.2</td>\n",
       "      <td>-1.2</td>\n",
       "      <td>4</td>\n",
       "      <td>5</td>\n",
       "      <td>1</td>\n",
       "      <td>0</td>\n",
       "      <td>2</td>\n",
       "      <td>5</td>\n",
       "      <td>1.544</td>\n",
       "      <td>1.360</td>\n",
       "    </tr>\n",
       "    <tr>\n",
       "      <th>25953</th>\n",
       "      <td>8540</td>\n",
       "      <td>9876</td>\n",
       "      <td>3</td>\n",
       "      <td>2</td>\n",
       "      <td>Palermo</td>\n",
       "      <td>Hellas Verona</td>\n",
       "      <td>7</td>\n",
       "      <td>7</td>\n",
       "      <td>H</td>\n",
       "      <td>GPGGP</td>\n",
       "      <td>...</td>\n",
       "      <td>0.2</td>\n",
       "      <td>0.2</td>\n",
       "      <td>6</td>\n",
       "      <td>4</td>\n",
       "      <td>2</td>\n",
       "      <td>0</td>\n",
       "      <td>4</td>\n",
       "      <td>4</td>\n",
       "      <td>2.588</td>\n",
       "      <td>1.088</td>\n",
       "    </tr>\n",
       "    <tr>\n",
       "      <th>25954</th>\n",
       "      <td>9860</td>\n",
       "      <td>8467</td>\n",
       "      <td>2</td>\n",
       "      <td>2</td>\n",
       "      <td>Heart of Midlothian</td>\n",
       "      <td>St. Johnstone FC</td>\n",
       "      <td>3</td>\n",
       "      <td>4</td>\n",
       "      <td>N</td>\n",
       "      <td>PNGPG</td>\n",
       "      <td>...</td>\n",
       "      <td>0.6</td>\n",
       "      <td>0.6</td>\n",
       "      <td>6</td>\n",
       "      <td>9</td>\n",
       "      <td>0</td>\n",
       "      <td>0</td>\n",
       "      <td>1</td>\n",
       "      <td>5</td>\n",
       "      <td>2.000</td>\n",
       "      <td>2.000</td>\n",
       "    </tr>\n",
       "    <tr>\n",
       "      <th>25955</th>\n",
       "      <td>8603</td>\n",
       "      <td>8305</td>\n",
       "      <td>2</td>\n",
       "      <td>1</td>\n",
       "      <td>Real Betis Balompié</td>\n",
       "      <td>Getafe CF</td>\n",
       "      <td>7</td>\n",
       "      <td>7</td>\n",
       "      <td>H</td>\n",
       "      <td>NPNNN</td>\n",
       "      <td>...</td>\n",
       "      <td>-0.4</td>\n",
       "      <td>-0.4</td>\n",
       "      <td>5</td>\n",
       "      <td>6</td>\n",
       "      <td>1</td>\n",
       "      <td>0</td>\n",
       "      <td>3</td>\n",
       "      <td>2</td>\n",
       "      <td>1.816</td>\n",
       "      <td>1.544</td>\n",
       "    </tr>\n",
       "    <tr>\n",
       "      <th>25956</th>\n",
       "      <td>8455</td>\n",
       "      <td>8197</td>\n",
       "      <td>1</td>\n",
       "      <td>1</td>\n",
       "      <td>Chelsea</td>\n",
       "      <td>Leicester City</td>\n",
       "      <td>4</td>\n",
       "      <td>8</td>\n",
       "      <td>N</td>\n",
       "      <td>NNNNG</td>\n",
       "      <td>...</td>\n",
       "      <td>1.0</td>\n",
       "      <td>1.0</td>\n",
       "      <td>11</td>\n",
       "      <td>10</td>\n",
       "      <td>1</td>\n",
       "      <td>0</td>\n",
       "      <td>7</td>\n",
       "      <td>6</td>\n",
       "      <td>3.404</td>\n",
       "      <td>2.632</td>\n",
       "    </tr>\n",
       "    <tr>\n",
       "      <th>25957</th>\n",
       "      <td>10003</td>\n",
       "      <td>8456</td>\n",
       "      <td>1</td>\n",
       "      <td>1</td>\n",
       "      <td>Swansea City</td>\n",
       "      <td>Manchester City</td>\n",
       "      <td>8</td>\n",
       "      <td>7</td>\n",
       "      <td>N</td>\n",
       "      <td>GPNNP</td>\n",
       "      <td>...</td>\n",
       "      <td>-1.2</td>\n",
       "      <td>-1.2</td>\n",
       "      <td>1</td>\n",
       "      <td>5</td>\n",
       "      <td>0</td>\n",
       "      <td>1</td>\n",
       "      <td>4</td>\n",
       "      <td>4</td>\n",
       "      <td>0.338</td>\n",
       "      <td>1.838</td>\n",
       "    </tr>\n",
       "    <tr>\n",
       "      <th>25958</th>\n",
       "      <td>10261</td>\n",
       "      <td>8586</td>\n",
       "      <td>5</td>\n",
       "      <td>1</td>\n",
       "      <td>Newcastle United</td>\n",
       "      <td>Tottenham Hotspur</td>\n",
       "      <td>8</td>\n",
       "      <td>7</td>\n",
       "      <td>H</td>\n",
       "      <td>PNPGN</td>\n",
       "      <td>...</td>\n",
       "      <td>0.0</td>\n",
       "      <td>0.0</td>\n",
       "      <td>11</td>\n",
       "      <td>8</td>\n",
       "      <td>1</td>\n",
       "      <td>0</td>\n",
       "      <td>3</td>\n",
       "      <td>8</td>\n",
       "      <td>3.316</td>\n",
       "      <td>2.176</td>\n",
       "    </tr>\n",
       "    <tr>\n",
       "      <th>25959</th>\n",
       "      <td>8370</td>\n",
       "      <td>8581</td>\n",
       "      <td>3</td>\n",
       "      <td>1</td>\n",
       "      <td>Rayo Vallecano</td>\n",
       "      <td>Levante UD</td>\n",
       "      <td>7</td>\n",
       "      <td>7</td>\n",
       "      <td>H</td>\n",
       "      <td>PNNNN</td>\n",
       "      <td>...</td>\n",
       "      <td>-0.2</td>\n",
       "      <td>-0.2</td>\n",
       "      <td>10</td>\n",
       "      <td>3</td>\n",
       "      <td>1</td>\n",
       "      <td>0</td>\n",
       "      <td>9</td>\n",
       "      <td>3</td>\n",
       "      <td>3.198</td>\n",
       "      <td>0.816</td>\n",
       "    </tr>\n",
       "    <tr>\n",
       "      <th>25960</th>\n",
       "      <td>10264</td>\n",
       "      <td>9768</td>\n",
       "      <td>0</td>\n",
       "      <td>4</td>\n",
       "      <td>SC Braga</td>\n",
       "      <td>Sporting CP</td>\n",
       "      <td>8</td>\n",
       "      <td>8</td>\n",
       "      <td>N</td>\n",
       "      <td>NNPNN</td>\n",
       "      <td>...</td>\n",
       "      <td>-0.6</td>\n",
       "      <td>-0.6</td>\n",
       "      <td>0</td>\n",
       "      <td>0</td>\n",
       "      <td>0</td>\n",
       "      <td>0</td>\n",
       "      <td>6</td>\n",
       "      <td>9</td>\n",
       "      <td>0.000</td>\n",
       "      <td>4.000</td>\n",
       "    </tr>\n",
       "    <tr>\n",
       "      <th>25961</th>\n",
       "      <td>8543</td>\n",
       "      <td>8535</td>\n",
       "      <td>2</td>\n",
       "      <td>4</td>\n",
       "      <td>Lazio</td>\n",
       "      <td>Fiorentina</td>\n",
       "      <td>7</td>\n",
       "      <td>7</td>\n",
       "      <td>N</td>\n",
       "      <td>NGPGN</td>\n",
       "      <td>...</td>\n",
       "      <td>0.6</td>\n",
       "      <td>0.6</td>\n",
       "      <td>6</td>\n",
       "      <td>6</td>\n",
       "      <td>1</td>\n",
       "      <td>1</td>\n",
       "      <td>6</td>\n",
       "      <td>4</td>\n",
       "      <td>2.132</td>\n",
       "      <td>2.088</td>\n",
       "    </tr>\n",
       "    <tr>\n",
       "      <th>25962</th>\n",
       "      <td>9925</td>\n",
       "      <td>9927</td>\n",
       "      <td>7</td>\n",
       "      <td>0</td>\n",
       "      <td>Celtic</td>\n",
       "      <td>Motherwell</td>\n",
       "      <td>4</td>\n",
       "      <td>4</td>\n",
       "      <td>H</td>\n",
       "      <td>NNGNG</td>\n",
       "      <td>...</td>\n",
       "      <td>1.6</td>\n",
       "      <td>1.6</td>\n",
       "      <td>25</td>\n",
       "      <td>0</td>\n",
       "      <td>0</td>\n",
       "      <td>0</td>\n",
       "      <td>7</td>\n",
       "      <td>4</td>\n",
       "      <td>7.000</td>\n",
       "      <td>0.000</td>\n",
       "    </tr>\n",
       "    <tr>\n",
       "      <th>25963</th>\n",
       "      <td>10190</td>\n",
       "      <td>10243</td>\n",
       "      <td>3</td>\n",
       "      <td>0</td>\n",
       "      <td>FC St. Gallen</td>\n",
       "      <td>FC Zürich</td>\n",
       "      <td>4</td>\n",
       "      <td>5</td>\n",
       "      <td>H</td>\n",
       "      <td>NNPNG</td>\n",
       "      <td>...</td>\n",
       "      <td>0.4</td>\n",
       "      <td>0.4</td>\n",
       "      <td>7</td>\n",
       "      <td>0</td>\n",
       "      <td>1</td>\n",
       "      <td>0</td>\n",
       "      <td>0</td>\n",
       "      <td>0</td>\n",
       "      <td>2.250</td>\n",
       "      <td>0.000</td>\n",
       "    </tr>\n",
       "    <tr>\n",
       "      <th>25964</th>\n",
       "      <td>7896</td>\n",
       "      <td>10192</td>\n",
       "      <td>1</td>\n",
       "      <td>3</td>\n",
       "      <td>Lugano</td>\n",
       "      <td>BSC Young Boys</td>\n",
       "      <td>5</td>\n",
       "      <td>4</td>\n",
       "      <td>N</td>\n",
       "      <td>NPGNP</td>\n",
       "      <td>...</td>\n",
       "      <td>-0.8</td>\n",
       "      <td>-0.8</td>\n",
       "      <td>2</td>\n",
       "      <td>3</td>\n",
       "      <td>1</td>\n",
       "      <td>1</td>\n",
       "      <td>0</td>\n",
       "      <td>0</td>\n",
       "      <td>1.000</td>\n",
       "      <td>1.250</td>\n",
       "    </tr>\n",
       "    <tr>\n",
       "      <th>25965</th>\n",
       "      <td>10199</td>\n",
       "      <td>9931</td>\n",
       "      <td>4</td>\n",
       "      <td>0</td>\n",
       "      <td>FC Luzern</td>\n",
       "      <td>FC Basel</td>\n",
       "      <td>5</td>\n",
       "      <td>6</td>\n",
       "      <td>H</td>\n",
       "      <td>PNNPN</td>\n",
       "      <td>...</td>\n",
       "      <td>-1.0</td>\n",
       "      <td>-1.0</td>\n",
       "      <td>27</td>\n",
       "      <td>0</td>\n",
       "      <td>1</td>\n",
       "      <td>0</td>\n",
       "      <td>0</td>\n",
       "      <td>0</td>\n",
       "      <td>7.250</td>\n",
       "      <td>0.000</td>\n",
       "    </tr>\n",
       "    <tr>\n",
       "      <th>25966</th>\n",
       "      <td>9956</td>\n",
       "      <td>9824</td>\n",
       "      <td>1</td>\n",
       "      <td>2</td>\n",
       "      <td>Grasshopper Club Zürich</td>\n",
       "      <td>FC Vaduz</td>\n",
       "      <td>5</td>\n",
       "      <td>5</td>\n",
       "      <td>N</td>\n",
       "      <td>NNNGP</td>\n",
       "      <td>...</td>\n",
       "      <td>-0.2</td>\n",
       "      <td>-0.2</td>\n",
       "      <td>5</td>\n",
       "      <td>5</td>\n",
       "      <td>0</td>\n",
       "      <td>2</td>\n",
       "      <td>0</td>\n",
       "      <td>0</td>\n",
       "      <td>1.250</td>\n",
       "      <td>2.250</td>\n",
       "    </tr>\n",
       "    <tr>\n",
       "      <th>25967</th>\n",
       "      <td>10191</td>\n",
       "      <td>10179</td>\n",
       "      <td>1</td>\n",
       "      <td>1</td>\n",
       "      <td>FC Thun</td>\n",
       "      <td>FC Sion</td>\n",
       "      <td>6</td>\n",
       "      <td>5</td>\n",
       "      <td>N</td>\n",
       "      <td>NGNNN</td>\n",
       "      <td>...</td>\n",
       "      <td>0.4</td>\n",
       "      <td>0.4</td>\n",
       "      <td>5</td>\n",
       "      <td>5</td>\n",
       "      <td>1</td>\n",
       "      <td>1</td>\n",
       "      <td>0</td>\n",
       "      <td>0</td>\n",
       "      <td>1.750</td>\n",
       "      <td>1.750</td>\n",
       "    </tr>\n",
       "    <tr>\n",
       "      <th>25968</th>\n",
       "      <td>10260</td>\n",
       "      <td>8678</td>\n",
       "      <td>3</td>\n",
       "      <td>1</td>\n",
       "      <td>Manchester United</td>\n",
       "      <td>Bournemouth</td>\n",
       "      <td>7</td>\n",
       "      <td>10</td>\n",
       "      <td>H</td>\n",
       "      <td>GNPNN</td>\n",
       "      <td>...</td>\n",
       "      <td>-0.4</td>\n",
       "      <td>-0.4</td>\n",
       "      <td>5</td>\n",
       "      <td>5</td>\n",
       "      <td>1</td>\n",
       "      <td>0</td>\n",
       "      <td>7</td>\n",
       "      <td>1</td>\n",
       "      <td>1.904</td>\n",
       "      <td>1.272</td>\n",
       "    </tr>\n",
       "    <tr>\n",
       "      <th>25969</th>\n",
       "      <td>10190</td>\n",
       "      <td>10199</td>\n",
       "      <td>1</td>\n",
       "      <td>4</td>\n",
       "      <td>FC St. Gallen</td>\n",
       "      <td>FC Luzern</td>\n",
       "      <td>6</td>\n",
       "      <td>6</td>\n",
       "      <td>N</td>\n",
       "      <td>NNPNG</td>\n",
       "      <td>...</td>\n",
       "      <td>0.4</td>\n",
       "      <td>0.4</td>\n",
       "      <td>4</td>\n",
       "      <td>4</td>\n",
       "      <td>0</td>\n",
       "      <td>1</td>\n",
       "      <td>0</td>\n",
       "      <td>0</td>\n",
       "      <td>1.000</td>\n",
       "      <td>1.500</td>\n",
       "    </tr>\n",
       "    <tr>\n",
       "      <th>25970</th>\n",
       "      <td>9956</td>\n",
       "      <td>10191</td>\n",
       "      <td>0</td>\n",
       "      <td>0</td>\n",
       "      <td>Grasshopper Club Zürich</td>\n",
       "      <td>FC Thun</td>\n",
       "      <td>6</td>\n",
       "      <td>6</td>\n",
       "      <td>N</td>\n",
       "      <td>NNNGP</td>\n",
       "      <td>...</td>\n",
       "      <td>-0.2</td>\n",
       "      <td>-0.2</td>\n",
       "      <td>0</td>\n",
       "      <td>0</td>\n",
       "      <td>0</td>\n",
       "      <td>0</td>\n",
       "      <td>0</td>\n",
       "      <td>0</td>\n",
       "      <td>0.000</td>\n",
       "      <td>0.000</td>\n",
       "    </tr>\n",
       "    <tr>\n",
       "      <th>25971</th>\n",
       "      <td>10179</td>\n",
       "      <td>10243</td>\n",
       "      <td>2</td>\n",
       "      <td>2</td>\n",
       "      <td>FC Sion</td>\n",
       "      <td>FC Zürich</td>\n",
       "      <td>6</td>\n",
       "      <td>6</td>\n",
       "      <td>N</td>\n",
       "      <td>NGPGP</td>\n",
       "      <td>...</td>\n",
       "      <td>-0.4</td>\n",
       "      <td>-0.4</td>\n",
       "      <td>4</td>\n",
       "      <td>4</td>\n",
       "      <td>0</td>\n",
       "      <td>2</td>\n",
       "      <td>0</td>\n",
       "      <td>0</td>\n",
       "      <td>1.000</td>\n",
       "      <td>2.000</td>\n",
       "    </tr>\n",
       "    <tr>\n",
       "      <th>25972</th>\n",
       "      <td>10192</td>\n",
       "      <td>9931</td>\n",
       "      <td>2</td>\n",
       "      <td>3</td>\n",
       "      <td>BSC Young Boys</td>\n",
       "      <td>FC Basel</td>\n",
       "      <td>6</td>\n",
       "      <td>6</td>\n",
       "      <td>N</td>\n",
       "      <td>GPNPN</td>\n",
       "      <td>...</td>\n",
       "      <td>-1.0</td>\n",
       "      <td>-1.0</td>\n",
       "      <td>8</td>\n",
       "      <td>5</td>\n",
       "      <td>0</td>\n",
       "      <td>1</td>\n",
       "      <td>0</td>\n",
       "      <td>0</td>\n",
       "      <td>2.000</td>\n",
       "      <td>1.750</td>\n",
       "    </tr>\n",
       "    <tr>\n",
       "      <th>25973</th>\n",
       "      <td>9824</td>\n",
       "      <td>7896</td>\n",
       "      <td>0</td>\n",
       "      <td>0</td>\n",
       "      <td>FC Vaduz</td>\n",
       "      <td>Lugano</td>\n",
       "      <td>6</td>\n",
       "      <td>6</td>\n",
       "      <td>N</td>\n",
       "      <td>PNNNN</td>\n",
       "      <td>...</td>\n",
       "      <td>-0.2</td>\n",
       "      <td>-0.2</td>\n",
       "      <td>0</td>\n",
       "      <td>0</td>\n",
       "      <td>0</td>\n",
       "      <td>0</td>\n",
       "      <td>0</td>\n",
       "      <td>0</td>\n",
       "      <td>0.000</td>\n",
       "      <td>0.000</td>\n",
       "    </tr>\n",
       "    <tr>\n",
       "      <th>25974</th>\n",
       "      <td>10199</td>\n",
       "      <td>10179</td>\n",
       "      <td>2</td>\n",
       "      <td>2</td>\n",
       "      <td>FC Luzern</td>\n",
       "      <td>FC Sion</td>\n",
       "      <td>3</td>\n",
       "      <td>3</td>\n",
       "      <td>N</td>\n",
       "      <td>PNNPN</td>\n",
       "      <td>...</td>\n",
       "      <td>-1.0</td>\n",
       "      <td>-1.0</td>\n",
       "      <td>9</td>\n",
       "      <td>10</td>\n",
       "      <td>0</td>\n",
       "      <td>1</td>\n",
       "      <td>0</td>\n",
       "      <td>0</td>\n",
       "      <td>2.250</td>\n",
       "      <td>3.000</td>\n",
       "    </tr>\n",
       "    <tr>\n",
       "      <th>25975</th>\n",
       "      <td>10243</td>\n",
       "      <td>9824</td>\n",
       "      <td>3</td>\n",
       "      <td>1</td>\n",
       "      <td>FC Zürich</td>\n",
       "      <td>FC Vaduz</td>\n",
       "      <td>3</td>\n",
       "      <td>3</td>\n",
       "      <td>H</td>\n",
       "      <td>NGPGN</td>\n",
       "      <td>...</td>\n",
       "      <td>0.6</td>\n",
       "      <td>0.6</td>\n",
       "      <td>12</td>\n",
       "      <td>16</td>\n",
       "      <td>1</td>\n",
       "      <td>1</td>\n",
       "      <td>0</td>\n",
       "      <td>0</td>\n",
       "      <td>3.500</td>\n",
       "      <td>4.500</td>\n",
       "    </tr>\n",
       "    <tr>\n",
       "      <th>25976</th>\n",
       "      <td>9931</td>\n",
       "      <td>9956</td>\n",
       "      <td>0</td>\n",
       "      <td>1</td>\n",
       "      <td>FC Basel</td>\n",
       "      <td>Grasshopper Club Zürich</td>\n",
       "      <td>3</td>\n",
       "      <td>3</td>\n",
       "      <td>N</td>\n",
       "      <td>GPGGN</td>\n",
       "      <td>...</td>\n",
       "      <td>1.2</td>\n",
       "      <td>1.2</td>\n",
       "      <td>0</td>\n",
       "      <td>0</td>\n",
       "      <td>1</td>\n",
       "      <td>0</td>\n",
       "      <td>0</td>\n",
       "      <td>0</td>\n",
       "      <td>0.500</td>\n",
       "      <td>0.000</td>\n",
       "    </tr>\n",
       "    <tr>\n",
       "      <th>25977</th>\n",
       "      <td>10191</td>\n",
       "      <td>10192</td>\n",
       "      <td>0</td>\n",
       "      <td>3</td>\n",
       "      <td>FC Thun</td>\n",
       "      <td>BSC Young Boys</td>\n",
       "      <td>3</td>\n",
       "      <td>3</td>\n",
       "      <td>N</td>\n",
       "      <td>NGNNN</td>\n",
       "      <td>...</td>\n",
       "      <td>0.4</td>\n",
       "      <td>0.4</td>\n",
       "      <td>0</td>\n",
       "      <td>0</td>\n",
       "      <td>0</td>\n",
       "      <td>1</td>\n",
       "      <td>0</td>\n",
       "      <td>0</td>\n",
       "      <td>0.000</td>\n",
       "      <td>0.500</td>\n",
       "    </tr>\n",
       "    <tr>\n",
       "      <th>25978</th>\n",
       "      <td>7896</td>\n",
       "      <td>10190</td>\n",
       "      <td>3</td>\n",
       "      <td>0</td>\n",
       "      <td>Lugano</td>\n",
       "      <td>FC St. Gallen</td>\n",
       "      <td>3</td>\n",
       "      <td>3</td>\n",
       "      <td>H</td>\n",
       "      <td>NPGNP</td>\n",
       "      <td>...</td>\n",
       "      <td>-0.8</td>\n",
       "      <td>-0.8</td>\n",
       "      <td>15</td>\n",
       "      <td>0</td>\n",
       "      <td>1</td>\n",
       "      <td>0</td>\n",
       "      <td>0</td>\n",
       "      <td>0</td>\n",
       "      <td>4.250</td>\n",
       "      <td>0.000</td>\n",
       "    </tr>\n",
       "  </tbody>\n",
       "</table>\n",
       "<p>25979 rows × 21 columns</p>\n",
       "</div>"
      ],
      "text/plain": [
       "       home_team_api_id  away_team_api_id  home_team_goal  away_team_goal  \\\n",
       "0                 10192              9931               1               2   \n",
       "1                  9930             10179               3               1   \n",
       "2                 10199              9824               1               2   \n",
       "3                  7955             10243               1               2   \n",
       "4                 10243             10199               1               0   \n",
       "5                  6493              7955               1               2   \n",
       "6                  9931              9956               1               0   \n",
       "7                 10179             10192               2               1   \n",
       "8                  9824              9930               0               2   \n",
       "9                 10199              7955               0               1   \n",
       "10                 9931              6493               2               0   \n",
       "11                 9930             10243               2               1   \n",
       "12                10192              9824               0               0   \n",
       "13                 9956             10179               3               1   \n",
       "14                10179              9931               2               0   \n",
       "15                 7955              9930               0               0   \n",
       "16                 9824              9956               1               1   \n",
       "17                10243             10192               2               1   \n",
       "18                 6493             10199               2               2   \n",
       "19                 6493              9930               1               1   \n",
       "20                 8673              2183               2               2   \n",
       "21                 2182              8569               2               3   \n",
       "22                 9930             10199               1               0   \n",
       "23                 9829              9847               1               0   \n",
       "24                 8025              8030               1               1   \n",
       "25                 9931              9824               4               0   \n",
       "26                 8583              9830               2               1   \n",
       "27                 9873              9853               1               0   \n",
       "28                 9851              8592               4               4   \n",
       "29                10179              6493               0               2   \n",
       "...                 ...               ...             ...             ...   \n",
       "25949              8600            208931               1               2   \n",
       "25950              8485              8649               0               4   \n",
       "25951              9869             10205               2               0   \n",
       "25952              8466              9826               4               1   \n",
       "25953              8540              9876               3               2   \n",
       "25954              9860              8467               2               2   \n",
       "25955              8603              8305               2               1   \n",
       "25956              8455              8197               1               1   \n",
       "25957             10003              8456               1               1   \n",
       "25958             10261              8586               5               1   \n",
       "25959              8370              8581               3               1   \n",
       "25960             10264              9768               0               4   \n",
       "25961              8543              8535               2               4   \n",
       "25962              9925              9927               7               0   \n",
       "25963             10190             10243               3               0   \n",
       "25964              7896             10192               1               3   \n",
       "25965             10199              9931               4               0   \n",
       "25966              9956              9824               1               2   \n",
       "25967             10191             10179               1               1   \n",
       "25968             10260              8678               3               1   \n",
       "25969             10190             10199               1               4   \n",
       "25970              9956             10191               0               0   \n",
       "25971             10179             10243               2               2   \n",
       "25972             10192              9931               2               3   \n",
       "25973              9824              7896               0               0   \n",
       "25974             10199             10179               2               2   \n",
       "25975             10243              9824               3               1   \n",
       "25976              9931              9956               0               1   \n",
       "25977             10191             10192               0               3   \n",
       "25978              7896             10190               3               0   \n",
       "\n",
       "           home_team_long_name      away_team_long_name  recuperation_home  \\\n",
       "0               BSC Young Boys                 FC Basel                 15   \n",
       "1                     FC Aarau                  FC Sion                 15   \n",
       "2                    FC Luzern                 FC Vaduz                 15   \n",
       "3              Neuchâtel Xamax                FC Zürich                 15   \n",
       "4                    FC Zürich                FC Luzern                  3   \n",
       "5                AC Bellinzona          Neuchâtel Xamax                 15   \n",
       "6                     FC Basel  Grasshopper Club Zürich                  5   \n",
       "7                      FC Sion           BSC Young Boys                  5   \n",
       "8                     FC Vaduz                 FC Aarau                  4   \n",
       "9                    FC Luzern          Neuchâtel Xamax                  3   \n",
       "10                    FC Basel            AC Bellinzona                  3   \n",
       "11                    FC Aarau                FC Zürich                  3   \n",
       "12              BSC Young Boys                 FC Vaduz                  3   \n",
       "13     Grasshopper Club Zürich                  FC Sion                  7   \n",
       "14                     FC Sion                 FC Basel                  3   \n",
       "15             Neuchâtel Xamax                 FC Aarau                  7   \n",
       "16                    FC Vaduz  Grasshopper Club Zürich                  7   \n",
       "17                   FC Zürich           BSC Young Boys                  7   \n",
       "18               AC Bellinzona                FC Luzern                  8   \n",
       "19               AC Bellinzona                 FC Aarau                  3   \n",
       "20              Legia Warszawa              P. Warszawa                 15   \n",
       "21                 Lech Poznań            GKS Bełchatów                 15   \n",
       "22                    FC Aarau                FC Luzern                  3   \n",
       "23                   AS Monaco      Paris Saint-Germain                 15   \n",
       "24               Śląsk Wrocław            Lechia Gdańsk                 15   \n",
       "25                    FC Basel                 FC Vaduz                  7   \n",
       "26                  AJ Auxerre                FC Nantes                 15   \n",
       "27             Valenciennes FC         AS Saint-Étienne                 15   \n",
       "28            Stade Rennais FC   Olympique de Marseille                 15   \n",
       "29                     FC Sion            AC Bellinzona                  7   \n",
       "...                        ...                      ...                ...   \n",
       "25949                  Udinese                    Carpi                  7   \n",
       "25950                 Aberdeen           Ross County FC                  3   \n",
       "25951   Real Sporting de Gijón            Villarreal CF                  7   \n",
       "25952              Southampton           Crystal Palace                  7   \n",
       "25953                  Palermo            Hellas Verona                  7   \n",
       "25954      Heart of Midlothian         St. Johnstone FC                  3   \n",
       "25955      Real Betis Balompié                Getafe CF                  7   \n",
       "25956                  Chelsea           Leicester City                  4   \n",
       "25957             Swansea City          Manchester City                  8   \n",
       "25958         Newcastle United        Tottenham Hotspur                  8   \n",
       "25959           Rayo Vallecano               Levante UD                  7   \n",
       "25960                 SC Braga              Sporting CP                  8   \n",
       "25961                    Lazio               Fiorentina                  7   \n",
       "25962                   Celtic               Motherwell                  4   \n",
       "25963            FC St. Gallen                FC Zürich                  4   \n",
       "25964                   Lugano           BSC Young Boys                  5   \n",
       "25965                FC Luzern                 FC Basel                  5   \n",
       "25966  Grasshopper Club Zürich                 FC Vaduz                  5   \n",
       "25967                  FC Thun                  FC Sion                  6   \n",
       "25968        Manchester United              Bournemouth                  7   \n",
       "25969            FC St. Gallen                FC Luzern                  6   \n",
       "25970  Grasshopper Club Zürich                  FC Thun                  6   \n",
       "25971                  FC Sion                FC Zürich                  6   \n",
       "25972           BSC Young Boys                 FC Basel                  6   \n",
       "25973                 FC Vaduz                   Lugano                  6   \n",
       "25974                FC Luzern                  FC Sion                  3   \n",
       "25975                FC Zürich                 FC Vaduz                  3   \n",
       "25976                 FC Basel  Grasshopper Club Zürich                  3   \n",
       "25977                  FC Thun           BSC Young Boys                  3   \n",
       "25978                   Lugano            FC St. Gallen                  3   \n",
       "\n",
       "       recuperation_away vainqueur home_dynamique         ...          \\\n",
       "0                     15         N          NNNNN         ...           \n",
       "1                     15         H          NNNNN         ...           \n",
       "2                     15         N          NNNNN         ...           \n",
       "3                     15         N          NNNNN         ...           \n",
       "4                      3         H          NNNNN         ...           \n",
       "5                      3         N          NNNNN         ...           \n",
       "6                     15         H          NNNNN         ...           \n",
       "7                      6         H          NNNNP         ...           \n",
       "8                      5         N          NNNNN         ...           \n",
       "9                      3         N          NNNPN         ...           \n",
       "10                     3         H          NNNGN         ...           \n",
       "11                     4         H          NNNNG         ...           \n",
       "12                     3         N          NNNPN         ...           \n",
       "13                     6         H          NNNNP         ...           \n",
       "14                     7         H          NNPGP         ...           \n",
       "15                     6         N          NNNNN         ...           \n",
       "16                     4         N          NNNNN         ...           \n",
       "17                     7         H          NNPGN         ...           \n",
       "18                     8         N          NNNPN         ...           \n",
       "19                     4         N          NNNPN         ...           \n",
       "20                    15         N          NNNNN         ...           \n",
       "21                    15         N          NNNNN         ...           \n",
       "22                     6         H          NNGNG         ...           \n",
       "23                    15         H          NNNNN         ...           \n",
       "24                    15         N          NNNNN         ...           \n",
       "25                     6         H          NPGGN         ...           \n",
       "26                    15         H          NNNNN         ...           \n",
       "27                    15         H          NNNNN         ...           \n",
       "28                    15         N          NNNNN         ...           \n",
       "29                     3         N          NGPGP         ...           \n",
       "...                  ...       ...            ...         ...           \n",
       "25949                  7         N          GNNPG         ...           \n",
       "25950                  4         N          NNNNN         ...           \n",
       "25951                  7         H          NPNPN         ...           \n",
       "25952                  8         H          GPNNP         ...           \n",
       "25953                  7         H          GPGGP         ...           \n",
       "25954                  4         N          PNGPG         ...           \n",
       "25955                  7         H          NPNNN         ...           \n",
       "25956                  8         N          NNNNG         ...           \n",
       "25957                  7         N          GPNNP         ...           \n",
       "25958                  7         H          PNPGN         ...           \n",
       "25959                  7         H          PNNNN         ...           \n",
       "25960                  8         N          NNPNN         ...           \n",
       "25961                  7         N          NGPGN         ...           \n",
       "25962                  4         H          NNGNG         ...           \n",
       "25963                  5         H          NNPNG         ...           \n",
       "25964                  4         N          NPGNP         ...           \n",
       "25965                  6         H          PNNPN         ...           \n",
       "25966                  5         N          NNNGP         ...           \n",
       "25967                  5         N          NGNNN         ...           \n",
       "25968                 10         H          GNPNN         ...           \n",
       "25969                  6         N          NNPNG         ...           \n",
       "25970                  6         N          NNNGP         ...           \n",
       "25971                  6         N          NGPGP         ...           \n",
       "25972                  6         N          GPNPN         ...           \n",
       "25973                  6         N          PNNNN         ...           \n",
       "25974                  3         N          PNNPN         ...           \n",
       "25975                  3         H          NGPGN         ...           \n",
       "25976                  3         N          GPGGN         ...           \n",
       "25977                  3         N          NGNNN         ...           \n",
       "25978                  3         H          NPGNP         ...           \n",
       "\n",
       "      home_score_dynamique  away_score_dynamique  home_tir_cadre  \\\n",
       "0                      0.0                   0.0               1   \n",
       "1                      0.0                   0.0               8   \n",
       "2                      0.0                   0.0               6   \n",
       "3                      0.0                   0.0               1   \n",
       "4                      0.0                   0.0               1   \n",
       "5                      0.0                   0.0               2   \n",
       "6                      0.0                   0.0               4   \n",
       "7                     -1.0                  -1.0               5   \n",
       "8                      0.0                   0.0               0   \n",
       "9                     -0.8                  -0.8               0   \n",
       "10                     0.8                   0.8               8   \n",
       "11                     1.0                   1.0               8   \n",
       "12                    -0.8                  -0.8               0   \n",
       "13                    -1.0                  -1.0              13   \n",
       "14                    -0.8                  -0.8               6   \n",
       "15                     0.0                   0.0               0   \n",
       "16                     0.0                   0.0               3   \n",
       "17                     0.2                   0.2              12   \n",
       "18                    -0.8                  -0.8              16   \n",
       "19                    -0.8                  -0.8               2   \n",
       "20                     0.0                   0.0               8   \n",
       "21                     0.0                   0.0               6   \n",
       "22                     1.6                   1.6               4   \n",
       "23                     0.0                   0.0               4   \n",
       "24                     0.0                   0.0               4   \n",
       "25                     1.0                   1.0              14   \n",
       "26                     0.0                   0.0               8   \n",
       "27                     0.0                   0.0               4   \n",
       "28                     0.0                   0.0              19   \n",
       "29                    -0.4                  -0.4               0   \n",
       "...                    ...                   ...             ...   \n",
       "25949                  0.4                   0.4               8   \n",
       "25950                  0.0                   0.0               0   \n",
       "25951                 -1.2                  -1.2               9   \n",
       "25952                 -1.2                  -1.2               4   \n",
       "25953                  0.2                   0.2               6   \n",
       "25954                  0.6                   0.6               6   \n",
       "25955                 -0.4                  -0.4               5   \n",
       "25956                  1.0                   1.0              11   \n",
       "25957                 -1.2                  -1.2               1   \n",
       "25958                  0.0                   0.0              11   \n",
       "25959                 -0.2                  -0.2              10   \n",
       "25960                 -0.6                  -0.6               0   \n",
       "25961                  0.6                   0.6               6   \n",
       "25962                  1.6                   1.6              25   \n",
       "25963                  0.4                   0.4               7   \n",
       "25964                 -0.8                  -0.8               2   \n",
       "25965                 -1.0                  -1.0              27   \n",
       "25966                 -0.2                  -0.2               5   \n",
       "25967                  0.4                   0.4               5   \n",
       "25968                 -0.4                  -0.4               5   \n",
       "25969                  0.4                   0.4               4   \n",
       "25970                 -0.2                  -0.2               0   \n",
       "25971                 -0.4                  -0.4               4   \n",
       "25972                 -1.0                  -1.0               8   \n",
       "25973                 -0.2                  -0.2               0   \n",
       "25974                 -1.0                  -1.0               9   \n",
       "25975                  0.6                   0.6              12   \n",
       "25976                  1.2                   1.2               0   \n",
       "25977                  0.4                   0.4               0   \n",
       "25978                 -0.8                  -0.8              15   \n",
       "\n",
       "       away_tir_cadre  home_avantage  away_avantage  home_corner  away_corner  \\\n",
       "0                   3              0              0            7            2   \n",
       "1                  12              0              0            7            9   \n",
       "2                   3              0              0            5            8   \n",
       "3                   3              0              0            5            5   \n",
       "4                   0              0              0           11            6   \n",
       "5                  10              0              0            9            1   \n",
       "6                   0              0              0            7            1   \n",
       "7                  10              0              0            6            7   \n",
       "8                   0              0              0            3            5   \n",
       "9                   0              0              0            5            6   \n",
       "10                  0              0              0            8            3   \n",
       "11                  9              0              0            6            7   \n",
       "12                  0              0              0            8            5   \n",
       "13                 14              0              0            4            5   \n",
       "14                  0              0              0            8            6   \n",
       "15                  0              0              0            5            5   \n",
       "16                  3              0              0            3            2   \n",
       "17                  5              0              0            5            2   \n",
       "18                  7              0              0            8            4   \n",
       "19                  4              0              0            5            4   \n",
       "20                 11              0              0            8            5   \n",
       "21                 12              0              0           11            7   \n",
       "22                  0              0              0            6            4   \n",
       "23                  0              0              0            9            6   \n",
       "24                  2              0              0            2            6   \n",
       "25                  0              0              0            7            5   \n",
       "26                  6              0              0            2            6   \n",
       "27                  0              0              0            6            4   \n",
       "28                 20              0              0            5            3   \n",
       "29                  0              0              0            8            3   \n",
       "...               ...            ...            ...          ...          ...   \n",
       "25949               5              0              1            6            3   \n",
       "25950               0              0              0            3            3   \n",
       "25951               8              1              0            4            1   \n",
       "25952               5              1              0            2            5   \n",
       "25953               4              2              0            4            4   \n",
       "25954               9              0              0            1            5   \n",
       "25955               6              1              0            3            2   \n",
       "25956              10              1              0            7            6   \n",
       "25957               5              0              1            4            4   \n",
       "25958               8              1              0            3            8   \n",
       "25959               3              1              0            9            3   \n",
       "25960               0              0              0            6            9   \n",
       "25961               6              1              1            6            4   \n",
       "25962               0              0              0            7            4   \n",
       "25963               0              1              0            0            0   \n",
       "25964               3              1              1            0            0   \n",
       "25965               0              1              0            0            0   \n",
       "25966               5              0              2            0            0   \n",
       "25967               5              1              1            0            0   \n",
       "25968               5              1              0            7            1   \n",
       "25969               4              0              1            0            0   \n",
       "25970               0              0              0            0            0   \n",
       "25971               4              0              2            0            0   \n",
       "25972               5              0              1            0            0   \n",
       "25973               0              0              0            0            0   \n",
       "25974              10              0              1            0            0   \n",
       "25975              16              1              1            0            0   \n",
       "25976               0              1              0            0            0   \n",
       "25977               0              0              1            0            0   \n",
       "25978               0              1              0            0            0   \n",
       "\n",
       "       home_goal_adjusted  away_goal_adjusted  \n",
       "0                   1.000               2.000  \n",
       "1                   3.000               1.000  \n",
       "2                   1.000               2.000  \n",
       "3                   1.000               2.000  \n",
       "4                   1.000               0.000  \n",
       "5                   1.000               2.000  \n",
       "6                   1.000               0.000  \n",
       "7                   2.000               1.000  \n",
       "8                   0.000               2.000  \n",
       "9                   0.000               1.000  \n",
       "10                  2.000               0.000  \n",
       "11                  2.000               1.000  \n",
       "12                  0.000               0.000  \n",
       "13                  3.000               1.000  \n",
       "14                  2.000               0.000  \n",
       "15                  0.000               0.000  \n",
       "16                  1.000               1.000  \n",
       "17                  2.000               1.000  \n",
       "18                  2.000               2.000  \n",
       "19                  1.000               1.000  \n",
       "20                  2.000               2.000  \n",
       "21                  2.000               3.000  \n",
       "22                  1.000               0.000  \n",
       "23                  1.000               0.000  \n",
       "24                  1.000               1.000  \n",
       "25                  4.000               0.000  \n",
       "26                  2.000               1.000  \n",
       "27                  1.000               0.000  \n",
       "28                  4.000               4.000  \n",
       "29                  0.000               2.000  \n",
       "...                   ...                 ...  \n",
       "25949               2.132               1.816  \n",
       "25950               0.000               4.000  \n",
       "25951               2.838               2.022  \n",
       "25952               1.544               1.360  \n",
       "25953               2.588               1.088  \n",
       "25954               2.000               2.000  \n",
       "25955               1.816               1.544  \n",
       "25956               3.404               2.632  \n",
       "25957               0.338               1.838  \n",
       "25958               3.316               2.176  \n",
       "25959               3.198               0.816  \n",
       "25960               0.000               4.000  \n",
       "25961               2.132               2.088  \n",
       "25962               7.000               0.000  \n",
       "25963               2.250               0.000  \n",
       "25964               1.000               1.250  \n",
       "25965               7.250               0.000  \n",
       "25966               1.250               2.250  \n",
       "25967               1.750               1.750  \n",
       "25968               1.904               1.272  \n",
       "25969               1.000               1.500  \n",
       "25970               0.000               0.000  \n",
       "25971               1.000               2.000  \n",
       "25972               2.000               1.750  \n",
       "25973               0.000               0.000  \n",
       "25974               2.250               3.000  \n",
       "25975               3.500               4.500  \n",
       "25976               0.500               0.000  \n",
       "25977               0.000               0.500  \n",
       "25978               4.250               0.000  \n",
       "\n",
       "[25979 rows x 21 columns]"
      ]
     },
     "execution_count": 40,
     "metadata": {},
     "output_type": "execute_result"
    }
   ],
   "source": [
    "match"
   ]
  },
  {
   "cell_type": "markdown",
   "metadata": {},
   "source": [
    "## Construction du modèle"
   ]
  },
  {
   "cell_type": "markdown",
   "metadata": {},
   "source": [
    "Maintenant que les données sont propres et identifiées, on va construire le modèle pymc3. Pour cela, il faut changer les noms des équipes en indices allant de 1 au nombre total d'équipe"
   ]
  },
  {
   "cell_type": "code",
   "execution_count": 41,
   "metadata": {
    "collapsed": false
   },
   "outputs": [],
   "source": [
    "teams = match_ligue_1.home_team_long_name.unique()\n",
    "teams = pd.DataFrame(teams, columns=['team'])\n",
    "teams['i'] = teams.index"
   ]
  },
  {
   "cell_type": "code",
   "execution_count": 42,
   "metadata": {
    "collapsed": false
   },
   "outputs": [
    {
     "data": {
      "text/html": [
       "<div>\n",
       "<table border=\"1\" class=\"dataframe\">\n",
       "  <thead>\n",
       "    <tr style=\"text-align: right;\">\n",
       "      <th></th>\n",
       "      <th>team</th>\n",
       "      <th>i</th>\n",
       "    </tr>\n",
       "  </thead>\n",
       "  <tbody>\n",
       "    <tr>\n",
       "      <th>0</th>\n",
       "      <td>AS Monaco</td>\n",
       "      <td>0</td>\n",
       "    </tr>\n",
       "    <tr>\n",
       "      <th>1</th>\n",
       "      <td>AJ Auxerre</td>\n",
       "      <td>1</td>\n",
       "    </tr>\n",
       "    <tr>\n",
       "      <th>2</th>\n",
       "      <td>Valenciennes FC</td>\n",
       "      <td>2</td>\n",
       "    </tr>\n",
       "    <tr>\n",
       "      <th>3</th>\n",
       "      <td>Stade Rennais FC</td>\n",
       "      <td>3</td>\n",
       "    </tr>\n",
       "    <tr>\n",
       "      <th>4</th>\n",
       "      <td>FC Sochaux-Montbéliard</td>\n",
       "      <td>4</td>\n",
       "    </tr>\n",
       "    <tr>\n",
       "      <th>5</th>\n",
       "      <td>Le Havre AC</td>\n",
       "      <td>5</td>\n",
       "    </tr>\n",
       "    <tr>\n",
       "      <th>6</th>\n",
       "      <td>Le Mans FC</td>\n",
       "      <td>6</td>\n",
       "    </tr>\n",
       "    <tr>\n",
       "      <th>7</th>\n",
       "      <td>Girondins de Bordeaux</td>\n",
       "      <td>7</td>\n",
       "    </tr>\n",
       "    <tr>\n",
       "      <th>8</th>\n",
       "      <td>AS Nancy-Lorraine</td>\n",
       "      <td>8</td>\n",
       "    </tr>\n",
       "    <tr>\n",
       "      <th>9</th>\n",
       "      <td>Olympique Lyonnais</td>\n",
       "      <td>9</td>\n",
       "    </tr>\n",
       "    <tr>\n",
       "      <th>10</th>\n",
       "      <td>OGC Nice</td>\n",
       "      <td>10</td>\n",
       "    </tr>\n",
       "    <tr>\n",
       "      <th>11</th>\n",
       "      <td>AS Saint-Étienne</td>\n",
       "      <td>11</td>\n",
       "    </tr>\n",
       "    <tr>\n",
       "      <th>12</th>\n",
       "      <td>Paris Saint-Germain</td>\n",
       "      <td>12</td>\n",
       "    </tr>\n",
       "    <tr>\n",
       "      <th>13</th>\n",
       "      <td>SM Caen</td>\n",
       "      <td>13</td>\n",
       "    </tr>\n",
       "    <tr>\n",
       "      <th>14</th>\n",
       "      <td>LOSC Lille</td>\n",
       "      <td>14</td>\n",
       "    </tr>\n",
       "    <tr>\n",
       "      <th>15</th>\n",
       "      <td>Toulouse FC</td>\n",
       "      <td>15</td>\n",
       "    </tr>\n",
       "    <tr>\n",
       "      <th>16</th>\n",
       "      <td>FC Nantes</td>\n",
       "      <td>16</td>\n",
       "    </tr>\n",
       "    <tr>\n",
       "      <th>17</th>\n",
       "      <td>FC Lorient</td>\n",
       "      <td>17</td>\n",
       "    </tr>\n",
       "    <tr>\n",
       "      <th>18</th>\n",
       "      <td>Olympique de Marseille</td>\n",
       "      <td>18</td>\n",
       "    </tr>\n",
       "    <tr>\n",
       "      <th>19</th>\n",
       "      <td>Grenoble Foot 38</td>\n",
       "      <td>19</td>\n",
       "    </tr>\n",
       "    <tr>\n",
       "      <th>20</th>\n",
       "      <td>Montpellier Hérault SC</td>\n",
       "      <td>20</td>\n",
       "    </tr>\n",
       "    <tr>\n",
       "      <th>21</th>\n",
       "      <td>RC Lens</td>\n",
       "      <td>21</td>\n",
       "    </tr>\n",
       "    <tr>\n",
       "      <th>22</th>\n",
       "      <td>US Boulogne Cote D'Opale</td>\n",
       "      <td>22</td>\n",
       "    </tr>\n",
       "    <tr>\n",
       "      <th>23</th>\n",
       "      <td>AC Arles-Avignon</td>\n",
       "      <td>23</td>\n",
       "    </tr>\n",
       "    <tr>\n",
       "      <th>24</th>\n",
       "      <td>Stade Brestois 29</td>\n",
       "      <td>24</td>\n",
       "    </tr>\n",
       "    <tr>\n",
       "      <th>25</th>\n",
       "      <td>AC Ajaccio</td>\n",
       "      <td>25</td>\n",
       "    </tr>\n",
       "    <tr>\n",
       "      <th>26</th>\n",
       "      <td>Dijon FCO</td>\n",
       "      <td>26</td>\n",
       "    </tr>\n",
       "    <tr>\n",
       "      <th>27</th>\n",
       "      <td>Évian Thonon Gaillard FC</td>\n",
       "      <td>27</td>\n",
       "    </tr>\n",
       "    <tr>\n",
       "      <th>28</th>\n",
       "      <td>ES Troyes AC</td>\n",
       "      <td>28</td>\n",
       "    </tr>\n",
       "    <tr>\n",
       "      <th>29</th>\n",
       "      <td>Stade de Reims</td>\n",
       "      <td>29</td>\n",
       "    </tr>\n",
       "    <tr>\n",
       "      <th>30</th>\n",
       "      <td>SC Bastia</td>\n",
       "      <td>30</td>\n",
       "    </tr>\n",
       "    <tr>\n",
       "      <th>31</th>\n",
       "      <td>En Avant de Guingamp</td>\n",
       "      <td>31</td>\n",
       "    </tr>\n",
       "    <tr>\n",
       "      <th>32</th>\n",
       "      <td>FC Metz</td>\n",
       "      <td>32</td>\n",
       "    </tr>\n",
       "    <tr>\n",
       "      <th>33</th>\n",
       "      <td>Angers SCO</td>\n",
       "      <td>33</td>\n",
       "    </tr>\n",
       "    <tr>\n",
       "      <th>34</th>\n",
       "      <td>GFC Ajaccio</td>\n",
       "      <td>34</td>\n",
       "    </tr>\n",
       "  </tbody>\n",
       "</table>\n",
       "</div>"
      ],
      "text/plain": [
       "                        team   i\n",
       "0                  AS Monaco   0\n",
       "1                 AJ Auxerre   1\n",
       "2            Valenciennes FC   2\n",
       "3           Stade Rennais FC   3\n",
       "4     FC Sochaux-Montbéliard   4\n",
       "5                Le Havre AC   5\n",
       "6                 Le Mans FC   6\n",
       "7      Girondins de Bordeaux   7\n",
       "8          AS Nancy-Lorraine   8\n",
       "9         Olympique Lyonnais   9\n",
       "10                  OGC Nice  10\n",
       "11          AS Saint-Étienne  11\n",
       "12       Paris Saint-Germain  12\n",
       "13                   SM Caen  13\n",
       "14                LOSC Lille  14\n",
       "15               Toulouse FC  15\n",
       "16                 FC Nantes  16\n",
       "17                FC Lorient  17\n",
       "18    Olympique de Marseille  18\n",
       "19          Grenoble Foot 38  19\n",
       "20    Montpellier Hérault SC  20\n",
       "21                   RC Lens  21\n",
       "22  US Boulogne Cote D'Opale  22\n",
       "23          AC Arles-Avignon  23\n",
       "24         Stade Brestois 29  24\n",
       "25                AC Ajaccio  25\n",
       "26                 Dijon FCO  26\n",
       "27  Évian Thonon Gaillard FC  27\n",
       "28              ES Troyes AC  28\n",
       "29            Stade de Reims  29\n",
       "30                 SC Bastia  30\n",
       "31      En Avant de Guingamp  31\n",
       "32                   FC Metz  32\n",
       "33                Angers SCO  33\n",
       "34               GFC Ajaccio  34"
      ]
     },
     "execution_count": 42,
     "metadata": {},
     "output_type": "execute_result"
    }
   ],
   "source": [
    "teams"
   ]
  },
  {
   "cell_type": "code",
   "execution_count": 43,
   "metadata": {
    "collapsed": true
   },
   "outputs": [],
   "source": [
    "match_ligue_1 = pd.merge(match_ligue_1, teams, left_on='home_team_long_name', right_on='team', how='left')\n",
    "match_ligue_1 = match_ligue_1.rename(columns = {'i': 'i_home'}).drop('team', 1)\n",
    "match_ligue_1 = pd.merge(match_ligue_1, teams, left_on='away_team_long_name', right_on='team', how='left')\n",
    "match_ligue_1 = match_ligue_1.rename(columns = {'i': 'i_away'}).drop('team', 1)"
   ]
  },
  {
   "cell_type": "code",
   "execution_count": 44,
   "metadata": {
    "collapsed": false
   },
   "outputs": [
    {
     "data": {
      "text/html": [
       "<div>\n",
       "<table border=\"1\" class=\"dataframe\">\n",
       "  <thead>\n",
       "    <tr style=\"text-align: right;\">\n",
       "      <th></th>\n",
       "      <th>id</th>\n",
       "      <th>league_id</th>\n",
       "      <th>date</th>\n",
       "      <th>home_team_api_id</th>\n",
       "      <th>away_team_api_id</th>\n",
       "      <th>home_team_goal</th>\n",
       "      <th>away_team_goal</th>\n",
       "      <th>goal</th>\n",
       "      <th>shoton</th>\n",
       "      <th>shotoff</th>\n",
       "      <th>...</th>\n",
       "      <th>avantage</th>\n",
       "      <th>home_avantage</th>\n",
       "      <th>away_avantage</th>\n",
       "      <th>nb_corner</th>\n",
       "      <th>home_corner</th>\n",
       "      <th>away_corner</th>\n",
       "      <th>home_goal_adjusted</th>\n",
       "      <th>away_goal_adjusted</th>\n",
       "      <th>i_home</th>\n",
       "      <th>i_away</th>\n",
       "    </tr>\n",
       "  </thead>\n",
       "  <tbody>\n",
       "    <tr>\n",
       "      <th>0</th>\n",
       "      <td>4774</td>\n",
       "      <td>4769</td>\n",
       "      <td>2008-08-09</td>\n",
       "      <td>9829</td>\n",
       "      <td>9847</td>\n",
       "      <td>1</td>\n",
       "      <td>0</td>\n",
       "      <td>NaN</td>\n",
       "      <td>NaN</td>\n",
       "      <td>NaN</td>\n",
       "      <td>...</td>\n",
       "      <td>[]</td>\n",
       "      <td>0</td>\n",
       "      <td>0</td>\n",
       "      <td>[]</td>\n",
       "      <td>9</td>\n",
       "      <td>6</td>\n",
       "      <td>1.0</td>\n",
       "      <td>0.0</td>\n",
       "      <td>0</td>\n",
       "      <td>12</td>\n",
       "    </tr>\n",
       "    <tr>\n",
       "      <th>1</th>\n",
       "      <td>4769</td>\n",
       "      <td>4769</td>\n",
       "      <td>2008-08-09</td>\n",
       "      <td>8583</td>\n",
       "      <td>9830</td>\n",
       "      <td>2</td>\n",
       "      <td>1</td>\n",
       "      <td>NaN</td>\n",
       "      <td>NaN</td>\n",
       "      <td>NaN</td>\n",
       "      <td>...</td>\n",
       "      <td>[]</td>\n",
       "      <td>0</td>\n",
       "      <td>0</td>\n",
       "      <td>[]</td>\n",
       "      <td>2</td>\n",
       "      <td>6</td>\n",
       "      <td>2.0</td>\n",
       "      <td>1.0</td>\n",
       "      <td>1</td>\n",
       "      <td>16</td>\n",
       "    </tr>\n",
       "    <tr>\n",
       "      <th>2</th>\n",
       "      <td>4778</td>\n",
       "      <td>4769</td>\n",
       "      <td>2008-08-09</td>\n",
       "      <td>9873</td>\n",
       "      <td>9853</td>\n",
       "      <td>1</td>\n",
       "      <td>0</td>\n",
       "      <td>NaN</td>\n",
       "      <td>NaN</td>\n",
       "      <td>NaN</td>\n",
       "      <td>...</td>\n",
       "      <td>[]</td>\n",
       "      <td>0</td>\n",
       "      <td>0</td>\n",
       "      <td>[]</td>\n",
       "      <td>6</td>\n",
       "      <td>4</td>\n",
       "      <td>1.0</td>\n",
       "      <td>0.0</td>\n",
       "      <td>2</td>\n",
       "      <td>11</td>\n",
       "    </tr>\n",
       "    <tr>\n",
       "      <th>3</th>\n",
       "      <td>4776</td>\n",
       "      <td>4769</td>\n",
       "      <td>2008-08-09</td>\n",
       "      <td>9851</td>\n",
       "      <td>8592</td>\n",
       "      <td>4</td>\n",
       "      <td>4</td>\n",
       "      <td>NaN</td>\n",
       "      <td>NaN</td>\n",
       "      <td>NaN</td>\n",
       "      <td>...</td>\n",
       "      <td>[]</td>\n",
       "      <td>0</td>\n",
       "      <td>0</td>\n",
       "      <td>[]</td>\n",
       "      <td>5</td>\n",
       "      <td>3</td>\n",
       "      <td>4.0</td>\n",
       "      <td>4.0</td>\n",
       "      <td>3</td>\n",
       "      <td>18</td>\n",
       "    </tr>\n",
       "    <tr>\n",
       "      <th>4</th>\n",
       "      <td>4777</td>\n",
       "      <td>4769</td>\n",
       "      <td>2008-08-09</td>\n",
       "      <td>9874</td>\n",
       "      <td>9855</td>\n",
       "      <td>1</td>\n",
       "      <td>2</td>\n",
       "      <td>NaN</td>\n",
       "      <td>NaN</td>\n",
       "      <td>NaN</td>\n",
       "      <td>...</td>\n",
       "      <td>[]</td>\n",
       "      <td>0</td>\n",
       "      <td>0</td>\n",
       "      <td>[]</td>\n",
       "      <td>5</td>\n",
       "      <td>4</td>\n",
       "      <td>1.0</td>\n",
       "      <td>2.0</td>\n",
       "      <td>4</td>\n",
       "      <td>19</td>\n",
       "    </tr>\n",
       "  </tbody>\n",
       "</table>\n",
       "<p>5 rows × 37 columns</p>\n",
       "</div>"
      ],
      "text/plain": [
       "     id  league_id       date  home_team_api_id  away_team_api_id  \\\n",
       "0  4774       4769 2008-08-09              9829              9847   \n",
       "1  4769       4769 2008-08-09              8583              9830   \n",
       "2  4778       4769 2008-08-09              9873              9853   \n",
       "3  4776       4769 2008-08-09              9851              8592   \n",
       "4  4777       4769 2008-08-09              9874              9855   \n",
       "\n",
       "   home_team_goal  away_team_goal goal shoton shotoff  ...   avantage  \\\n",
       "0               1               0  NaN    NaN     NaN  ...         []   \n",
       "1               2               1  NaN    NaN     NaN  ...         []   \n",
       "2               1               0  NaN    NaN     NaN  ...         []   \n",
       "3               4               4  NaN    NaN     NaN  ...         []   \n",
       "4               1               2  NaN    NaN     NaN  ...         []   \n",
       "\n",
       "  home_avantage away_avantage nb_corner home_corner away_corner  \\\n",
       "0             0             0        []           9           6   \n",
       "1             0             0        []           2           6   \n",
       "2             0             0        []           6           4   \n",
       "3             0             0        []           5           3   \n",
       "4             0             0        []           5           4   \n",
       "\n",
       "  home_goal_adjusted  away_goal_adjusted  i_home i_away  \n",
       "0                1.0                 0.0       0     12  \n",
       "1                2.0                 1.0       1     16  \n",
       "2                1.0                 0.0       2     11  \n",
       "3                4.0                 4.0       3     18  \n",
       "4                1.0                 2.0       4     19  \n",
       "\n",
       "[5 rows x 37 columns]"
      ]
     },
     "execution_count": 44,
     "metadata": {},
     "output_type": "execute_result"
    }
   ],
   "source": [
    "match_ligue_1.head()"
   ]
  },
  {
   "cell_type": "markdown",
   "metadata": {},
   "source": [
    "On split notre jeu de données (60/20/20) afin de pouvoir mesurer plus tard les perfomances des différents modèles testés. NB : on fait exprès de ne pas randomiser les individus qui iront en train/CV/test. En effet, les observations sont ordonnées dans le temps, et en application réelle, on a accès uniquement au passé pour prédire le futur."
   ]
  },
  {
   "cell_type": "code",
   "execution_count": 78,
   "metadata": {
    "collapsed": false
   },
   "outputs": [],
   "source": [
    "# On compte le nombre d'observations dont on dispose\n",
    "taille_totale = len(match_ligue_1.home_team_goal.values)\n",
    "# on calcule le nombre d'observations que l'on envoie en training set\n",
    "train_size = int(taille_totale*0.6)\n",
    "CV_size = int(taille_totale*0.8)\n",
    "\n",
    "observed_home_goals = match_ligue_1.home_goal_adjusted.values[:train_size]/float(4)\n",
    "observed_away_goals = match_ligue_1.away_goal_adjusted.values[:train_size]/float(4)\n",
    "\n",
    "home_team = match_ligue_1.i_home.values[:train_size]\n",
    "away_team = match_ligue_1.i_away.values[:train_size]\n",
    "\n",
    "home_recuperation = np.array(match_ligue_1.recuperation_home.values[:train_size], dtype=np.float64)\n",
    "away_recuperation = np.array(match_ligue_1.recuperation_away.values[:train_size], dtype=np.float64)\n",
    "\n",
    "home_dynamique = np.array(match_ligue_1.home_score_dynamique.values[:train_size], dtype=np.float64)\n",
    "away_dynamique = np.array(match_ligue_1.away_score_dynamique.values[:train_size], dtype=np.float64)"
   ]
  },
  {
   "cell_type": "markdown",
   "metadata": {},
   "source": [
    "On décrit notre modélisation. On commence par spécifier les entrées et sorties de notre modélisation ![title](illustrations/V1.png)"
   ]
  },
  {
   "cell_type": "code",
   "execution_count": 79,
   "metadata": {
    "collapsed": false
   },
   "outputs": [],
   "source": [
    "import theano\n",
    "import numpy as np\n",
    "\n",
    "model_input_team = theano.shared(np.array([home_team, away_team]))\n",
    "model_input_conditions = theano.shared(np.array([home_recuperation, away_recuperation, home_dynamique, away_dynamique]))\n",
    "model_output = theano.shared(np.array([observed_home_goals, observed_away_goals]))"
   ]
  },
  {
   "cell_type": "markdown",
   "metadata": {},
   "source": [
    "Puis on écrit le modèle"
   ]
  },
  {
   "cell_type": "code",
   "execution_count": 83,
   "metadata": {
    "collapsed": false
   },
   "outputs": [],
   "source": [
    "import pymc3 as pm\n",
    "\n",
    "model = pm.Model()\n",
    "with pm.Model() as model:\n",
    "    # Paramètres spécifiques à chaque équipe  \n",
    "    attaque = pm.Normal(\"attaque\", mu=0, sd=1, shape=num_teams)\n",
    "    defense = pm.Normal(\"defense\", mu=0, sd=1, shape=num_teams)\n",
    "    \n",
    "    # Paramètre lié aux conditions du match\n",
    "    coeff_home = pm.Normal(\"coeff_home\", mu=0, sd=1, shape=1)\n",
    "    coeff_recup = pm.Normal(\"coeff_recup\", mu=0, sd=1, shape=1)\n",
    "    coeff_dynamique = pm.Normal(\"coeff_dynamique\", mu=0, sd=1, shape=1)\n",
    "    coeff_perf = pm.Normal(\"coeff_perf\", mu=0, sd=1, shape=1)\n",
    "    \n",
    "    # et un intercept\n",
    "    intercept = pm.Normal(\"intercept\", mu=0, sd=1, shape=1)\n",
    "    \n",
    "    home_theta  = pm.math.exp(intercept + \n",
    "                              coeff_home + \n",
    "                              coeff_recup * (model_input_conditions[0] - model_input_conditions[1]) + \n",
    "                              coeff_dynamique * (model_input_conditions[2] - model_input_conditions[3]) +\n",
    "                              coeff_perf * (attaque[model_input_team[0]] - defense[model_input_team[1]])\n",
    "                              )\n",
    "    away_theta  = pm.math.exp(intercept + \n",
    "                              coeff_recup * (model_input_conditions[1] - model_input_conditions[0]) +\n",
    "                              coeff_dynamique * (model_input_conditions[3] - model_input_conditions[2]) +\n",
    "                              coeff_perf * (attaque[model_input_team[1]] - defense[model_input_team[0]])\n",
    "                             )\n",
    "\n",
    "    # likelihood of observed data \n",
    "    home_points = pm.Gamma('home_points', alpha=home_theta, beta=1, observed=model_output[0])\n",
    "    away_points = pm.Gamma('away_points', alpha=away_theta, beta=1, observed=model_output[1])"
   ]
  },
  {
   "cell_type": "code",
   "execution_count": 84,
   "metadata": {
    "collapsed": false,
    "scrolled": true
   },
   "outputs": [
    {
     "name": "stderr",
     "output_type": "stream",
     "text": [
      "Auto-assigning NUTS sampler...\n",
      "Initializing NUTS using advi...\n",
      "Average ELBO = -inf: 100%|██████████████████████████████████████████████████████| 20000/20000 [00:44<00:00, 444.93it/s]\n",
      "Finished [100%]: Average ELBO = -inf\n",
      "100%|███████████████████████████████████████████████████████████████████████████████| 500/500 [00:03<00:00, 166.22it/s]\n"
     ]
    },
    {
     "data": {
      "image/png": "[encoded data removed]",
      "text/plain": [
       "<matplotlib.figure.Figure at 0x57597550>"
      ]
     },
     "metadata": {},
     "output_type": "display_data"
    }
   ],
   "source": [
    "with model:\n",
    "    trace = pm.sample(500, n_init=20000)\n",
    "\n",
    "    pm.traceplot(trace)"
   ]
  },
  {
   "cell_type": "markdown",
   "metadata": {},
   "source": [
    "La phase de sampling étant terminé, on va afficher pour chaque équipe la ditribution à posteriori des paramètres d'attaque et de défense sous forme de forestplot : "
   ]
  },
  {
   "cell_type": "code",
   "execution_count": 82,
   "metadata": {
    "collapsed": false
   },
   "outputs": [
    {
     "data": {
      "text/plain": [
       "<matplotlib.gridspec.GridSpec at 0x58564358>"
      ]
     },
     "execution_count": 82,
     "metadata": {},
     "output_type": "execute_result"
    },
    {
     "data": {
      "image/png": "[encoded data removed]",
      "text/plain": [
       "<matplotlib.figure.Figure at 0x584bbd68>"
      ]
     },
     "metadata": {},
     "output_type": "display_data"
    }
   ],
   "source": [
    "pm.forestplot(trace[10:], varnames=['attaque'], ylabels=teams.values, main=\"Team Offense\", chain_spacing=0.2)"
   ]
  },
  {
   "cell_type": "code",
   "execution_count": 50,
   "metadata": {
    "collapsed": false
   },
   "outputs": [
    {
     "data": {
      "text/plain": [
       "<matplotlib.gridspec.GridSpec at 0x402c1c18>"
      ]
     },
     "execution_count": 50,
     "metadata": {},
     "output_type": "execute_result"
    },
    {
     "data": {
      "image/png": "[encoded data removed]",
      "text/plain": [
       "<matplotlib.figure.Figure at 0x4061dac8>"
      ]
     },
     "metadata": {},
     "output_type": "display_data"
    }
   ],
   "source": [
    "pm.forestplot(trace[10:], varnames=['defense'], ylabels=teams.values, main=\"Team Defense\", chain_spacing=0.2)"
   ]
  },
  {
   "cell_type": "markdown",
   "metadata": {},
   "source": [
    "Les résultats semblent cohérents (le trio de tête est PSG - OL - OM), passons à la prédiction d'un nouveau match."
   ]
  },
  {
   "cell_type": "markdown",
   "metadata": {},
   "source": [
    "# Prédiction de l'issue d'un match"
   ]
  },
  {
   "cell_type": "markdown",
   "metadata": {},
   "source": [
    "On cherche à prédire l'issue d'un match. Pour cela, on change les paramètres d'entrée, et on relance notre modèle : (ici : PSG contre Grenoble (indice 18 vs indice 17), on s'attend à voir le PSG gagner.."
   ]
  },
  {
   "cell_type": "code",
   "execution_count": 51,
   "metadata": {
    "collapsed": false
   },
   "outputs": [],
   "source": [
    "model_input_team.set_value(np.array([[18],[17]]))\n",
    "model_input_conditions.set_value([[1],[7],[2],[-2]])"
   ]
  },
  {
   "cell_type": "markdown",
   "metadata": {},
   "source": [
    "Et on sample depuis notre modèle avec les nouvelles entrées"
   ]
  },
  {
   "cell_type": "code",
   "execution_count": 52,
   "metadata": {
    "collapsed": false,
    "scrolled": true
   },
   "outputs": [
    {
     "name": "stderr",
     "output_type": "stream",
     "text": [
      "100%|████████████████████████████████████████████████████████████████████████████████| 100/100 [00:30<00:00,  4.77it/s]\n"
     ]
    }
   ],
   "source": [
    "ppc = pm.sample_ppc(trace[10:], model=model, samples=100)"
   ]
  },
  {
   "cell_type": "markdown",
   "metadata": {},
   "source": [
    "On fait un peu de mise en forme des résultats afin de pouvoir les exploiter simplement"
   ]
  },
  {
   "cell_type": "code",
   "execution_count": 53,
   "metadata": {
    "collapsed": false
   },
   "outputs": [],
   "source": [
    "away = pd.DataFrame(ppc['away_points'])\n",
    "home = pd.DataFrame(ppc['home_points'])  \n",
    "\n",
    "prediction_score = home.merge(away, how='inner', left_index=True, right_index=True)\n",
    "prediction_score.columns = ['home_points', 'away_points']"
   ]
  },
  {
   "cell_type": "code",
   "execution_count": 54,
   "metadata": {
    "collapsed": false
   },
   "outputs": [
    {
     "data": {
      "text/html": [
       "<div>\n",
       "<table border=\"1\" class=\"dataframe\">\n",
       "  <thead>\n",
       "    <tr style=\"text-align: right;\">\n",
       "      <th></th>\n",
       "      <th>home_points</th>\n",
       "      <th>away_points</th>\n",
       "    </tr>\n",
       "  </thead>\n",
       "  <tbody>\n",
       "    <tr>\n",
       "      <th>0</th>\n",
       "      <td>0</td>\n",
       "      <td>0</td>\n",
       "    </tr>\n",
       "    <tr>\n",
       "      <th>1</th>\n",
       "      <td>0</td>\n",
       "      <td>0</td>\n",
       "    </tr>\n",
       "    <tr>\n",
       "      <th>2</th>\n",
       "      <td>117</td>\n",
       "      <td>0</td>\n",
       "    </tr>\n",
       "    <tr>\n",
       "      <th>3</th>\n",
       "      <td>0</td>\n",
       "      <td>1</td>\n",
       "    </tr>\n",
       "    <tr>\n",
       "      <th>4</th>\n",
       "      <td>0</td>\n",
       "      <td>0</td>\n",
       "    </tr>\n",
       "  </tbody>\n",
       "</table>\n",
       "</div>"
      ],
      "text/plain": [
       "   home_points  away_points\n",
       "0            0            0\n",
       "1            0            0\n",
       "2          117            0\n",
       "3            0            1\n",
       "4            0            0"
      ]
     },
     "execution_count": 54,
     "metadata": {},
     "output_type": "execute_result"
    }
   ],
   "source": [
    "prediction_score.head()"
   ]
  },
  {
   "cell_type": "code",
   "execution_count": 55,
   "metadata": {
    "collapsed": false
   },
   "outputs": [],
   "source": [
    "def vainqueur(row):\n",
    "    if row[0] > row[1]:\n",
    "        return 'H'\n",
    "    elif row[0] < row[1]:\n",
    "        return 'A'\n",
    "    else:\n",
    "        return 'N'\n",
    "\n",
    "prediction_score['vainqueur'] = prediction_score.apply(vainqueur, axis=1)"
   ]
  },
  {
   "cell_type": "code",
   "execution_count": 56,
   "metadata": {
    "collapsed": false
   },
   "outputs": [
    {
     "data": {
      "text/html": [
       "<div>\n",
       "<table border=\"1\" class=\"dataframe\">\n",
       "  <thead>\n",
       "    <tr style=\"text-align: right;\">\n",
       "      <th></th>\n",
       "      <th>home_points</th>\n",
       "      <th>away_points</th>\n",
       "      <th>vainqueur</th>\n",
       "    </tr>\n",
       "  </thead>\n",
       "  <tbody>\n",
       "    <tr>\n",
       "      <th>0</th>\n",
       "      <td>0</td>\n",
       "      <td>0</td>\n",
       "      <td>N</td>\n",
       "    </tr>\n",
       "    <tr>\n",
       "      <th>1</th>\n",
       "      <td>0</td>\n",
       "      <td>0</td>\n",
       "      <td>N</td>\n",
       "    </tr>\n",
       "    <tr>\n",
       "      <th>2</th>\n",
       "      <td>117</td>\n",
       "      <td>0</td>\n",
       "      <td>H</td>\n",
       "    </tr>\n",
       "    <tr>\n",
       "      <th>3</th>\n",
       "      <td>0</td>\n",
       "      <td>1</td>\n",
       "      <td>A</td>\n",
       "    </tr>\n",
       "    <tr>\n",
       "      <th>4</th>\n",
       "      <td>0</td>\n",
       "      <td>0</td>\n",
       "      <td>N</td>\n",
       "    </tr>\n",
       "  </tbody>\n",
       "</table>\n",
       "</div>"
      ],
      "text/plain": [
       "   home_points  away_points vainqueur\n",
       "0            0            0         N\n",
       "1            0            0         N\n",
       "2          117            0         H\n",
       "3            0            1         A\n",
       "4            0            0         N"
      ]
     },
     "execution_count": 56,
     "metadata": {},
     "output_type": "execute_result"
    }
   ],
   "source": [
    "prediction_score.head()"
   ]
  },
  {
   "cell_type": "code",
   "execution_count": 57,
   "metadata": {
    "collapsed": false
   },
   "outputs": [
    {
     "data": {
      "text/plain": [
       "N    47\n",
       "H    34\n",
       "A    19\n",
       "Name: vainqueur, dtype: int64"
      ]
     },
     "execution_count": 57,
     "metadata": {},
     "output_type": "execute_result"
    }
   ],
   "source": [
    "prediction_score.vainqueur.value_counts()"
   ]
  },
  {
   "cell_type": "markdown",
   "metadata": {},
   "source": [
    "On calcule les probabilités associées"
   ]
  },
  {
   "cell_type": "code",
   "execution_count": 58,
   "metadata": {
    "collapsed": false
   },
   "outputs": [
    {
     "data": {
      "text/plain": [
       "N    47.0\n",
       "H    34.0\n",
       "A    19.0\n",
       "Name: vainqueur, dtype: float64"
      ]
     },
     "execution_count": 58,
     "metadata": {},
     "output_type": "execute_result"
    }
   ],
   "source": [
    "100 * prediction_score.vainqueur.value_counts() / prediction_score.vainqueur.count()"
   ]
  },
  {
   "cell_type": "markdown",
   "metadata": {},
   "source": [
    "Le PSG (home ici) a 77.9% de chances de l'emporter. \n",
    "\n",
    "On va enfin calculer le résultat le plus probable (les buts encaissés pour chacune des équipes). Une rapide visualisation nous montre que le résultat le plus probable est 2-0. Vérifions le :"
   ]
  },
  {
   "cell_type": "code",
   "execution_count": 59,
   "metadata": {
    "collapsed": false
   },
   "outputs": [
    {
     "name": "stderr",
     "output_type": "stream",
     "text": [
      "C:\\Users\\Alexis\\Anaconda2\\lib\\site-packages\\numpy\\ma\\core.py:4185: UserWarning: Warning: converting a masked element to nan.\n",
      "  warnings.warn(\"Warning: converting a masked element to nan.\")\n"
     ]
    },
    {
     "data": {
      "text/plain": [
       "<matplotlib.axes._subplots.AxesSubplot at 0x451661d0>"
      ]
     },
     "execution_count": 59,
     "metadata": {},
     "output_type": "execute_result"
    },
    {
     "data": {
      "image/png": "[encoded data removed]",
      "text/plain": [
       "<matplotlib.figure.Figure at 0x45151b38>"
      ]
     },
     "metadata": {},
     "output_type": "display_data"
    }
   ],
   "source": [
    "import seaborn\n",
    "seaborn.kdeplot(data=prediction_score.home_points, data2=prediction_score.away_points, shade=True)"
   ]
  },
  {
   "cell_type": "code",
   "execution_count": 60,
   "metadata": {
    "collapsed": false
   },
   "outputs": [
    {
     "data": {
      "text/plain": [
       "home_points  away_points\n",
       "0            0              47\n",
       "             1               7\n",
       "             2               5\n",
       "             3               1\n",
       "             4               1\n",
       "             9               1\n",
       "             15              1\n",
       "             18              1\n",
       "             44              1\n",
       "             142             1\n",
       "1            0               6\n",
       "2            0               3\n",
       "3            0               1\n",
       "4            0               2\n",
       "5            0               2\n",
       "7            0               1\n",
       "9            0               2\n",
       "10           0               1\n",
       "12           0               1\n",
       "13           0               1\n",
       "15           0               1\n",
       "21           0               1\n",
       "37           0               1\n",
       "40           0               1\n",
       "42           0               1\n",
       "54           0               1\n",
       "117          0               1\n",
       "162          0               1\n",
       "183          0               1\n",
       "690          0               1\n",
       "1547         0               1\n",
       "1557         0               1\n",
       "3247         0               1\n",
       "3279         0               1\n",
       "dtype: int64"
      ]
     },
     "execution_count": 60,
     "metadata": {},
     "output_type": "execute_result"
    }
   ],
   "source": [
    "prediction_score.groupby([\"home_points\", \"away_points\"]).size()"
   ]
  },
  {
   "cell_type": "code",
   "execution_count": 61,
   "metadata": {
    "collapsed": false
   },
   "outputs": [
    {
     "data": {
      "text/plain": [
       "(0, 0)"
      ]
     },
     "execution_count": 61,
     "metadata": {},
     "output_type": "execute_result"
    }
   ],
   "source": [
    "prediction_score.groupby([\"home_points\", \"away_points\"]).size().idxmax()"
   ]
  },
  {
   "cell_type": "code",
   "execution_count": 62,
   "metadata": {
    "collapsed": false
   },
   "outputs": [
    {
     "data": {
      "text/plain": [
       "47.0"
      ]
     },
     "execution_count": 62,
     "metadata": {},
     "output_type": "execute_result"
    }
   ],
   "source": [
    "100. * prediction_score.groupby([\"home_points\", \"away_points\"]).size().max() / prediction_score.vainqueur.count()"
   ]
  },
  {
   "cell_type": "markdown",
   "metadata": {},
   "source": [
    "Conclusion, le résultat est cohérent, on s'attend à ce que le PSG l'emporte (77.9% de chances) avec un score de 2-0 (17.4 % de chances)"
   ]
  },
  {
   "cell_type": "markdown",
   "metadata": {},
   "source": [
    "# Evaluation des perfomances du modèle"
   ]
  },
  {
   "cell_type": "markdown",
   "metadata": {},
   "source": [
    "Maintenant que l'on a vu que notre modèle est fonctionnel (et cohérent !), nous allons dans cette dernière section évaluer notre modèle. On commence par récupérer les données de cross-validation :"
   ]
  },
  {
   "cell_type": "code",
   "execution_count": 63,
   "metadata": {
    "collapsed": false
   },
   "outputs": [],
   "source": [
    "observed_home_goals = match_ligue_1.home_goal_adjusted.values[train_size+1:CV_size]/float(4)\n",
    "observed_away_goals = match_ligue_1.away_goal_adjusted.values[train_size+1:CV_size]/float(4)\n",
    "\n",
    "home_team = match_ligue_1.i_home.values[train_size+1:CV_size]\n",
    "away_team = match_ligue_1.i_away.values[train_size+1:CV_size]\n",
    "\n",
    "home_recuperation = np.array(match_ligue_1.recuperation_home.values[train_size+1:CV_size], dtype=np.float64)\n",
    "away_recuperation = np.array(match_ligue_1.recuperation_away.values[train_size+1:CV_size], dtype=np.float64)\n",
    "\n",
    "home_dynamique = np.array(match_ligue_1.home_score_dynamique.values[train_size+1:CV_size], dtype=np.float64)\n",
    "away_dynamique = np.array(match_ligue_1.away_score_dynamique.values[train_size+1:CV_size], dtype=np.float64)"
   ]
  },
  {
   "cell_type": "markdown",
   "metadata": {},
   "source": [
    "Et on assigne ces nouveaux individus comme entrée et sortie de notre modèle"
   ]
  },
  {
   "cell_type": "code",
   "execution_count": 64,
   "metadata": {
    "collapsed": false
   },
   "outputs": [],
   "source": [
    "model_input_team.set_value(np.array([home_team,away_team], dtype=np.int32))\n",
    "model_input_conditions.set_value(np.array([home_recuperation,away_recuperation,home_dynamique,away_dynamique], dtype=np.float64))"
   ]
  },
  {
   "cell_type": "markdown",
   "metadata": {},
   "source": [
    "Et on tire 10000 réalisations pour chacun des matchs"
   ]
  },
  {
   "cell_type": "code",
   "execution_count": 65,
   "metadata": {
    "collapsed": false,
    "scrolled": true
   },
   "outputs": [
    {
     "name": "stderr",
     "output_type": "stream",
     "text": [
      "100%|████████████████████████████████████████████████████████████████████████████████| 100/100 [00:25<00:00,  4.68it/s]\n"
     ]
    }
   ],
   "source": [
    "ppc = pm.sample_ppc(trace[10:], model=model, samples=100)"
   ]
  },
  {
   "cell_type": "markdown",
   "metadata": {},
   "source": [
    "L'échantillon est désormais créer, on va maintenant comparer nos prédictions avec la réalité :"
   ]
  },
  {
   "cell_type": "code",
   "execution_count": 66,
   "metadata": {
    "collapsed": true
   },
   "outputs": [],
   "source": [
    "away_prediction = pd.DataFrame(ppc['away_points'])\n",
    "home_prediction = pd.DataFrame(ppc['home_points'])  "
   ]
  },
  {
   "cell_type": "markdown",
   "metadata": {},
   "source": [
    "On crée un dataframe pour chaque match (chacun contenant 10000 simulations)"
   ]
  },
  {
   "cell_type": "code",
   "execution_count": 67,
   "metadata": {
    "collapsed": false
   },
   "outputs": [],
   "source": [
    "prediction_score = [home_prediction[[i]].merge(away_prediction[[i]], \n",
    "                                               how='inner', \n",
    "                                               left_index=True, right_index=True) \n",
    "                    for i in range(len(home_team))]\n",
    "\n",
    "for df in prediction_score:\n",
    "    df.columns = ['home_prediction', 'away_prediction']"
   ]
  },
  {
   "cell_type": "markdown",
   "metadata": {},
   "source": [
    "Pour chaque dataframe, on détermine l'équipe qui gagne"
   ]
  },
  {
   "cell_type": "code",
   "execution_count": 68,
   "metadata": {
    "collapsed": true
   },
   "outputs": [],
   "source": [
    "def vainqueur(row):\n",
    "    if row[0] > row[1]:\n",
    "        return 'H'\n",
    "    elif row[0] < row[1]:\n",
    "        return 'A'\n",
    "    else:\n",
    "        return 'N'"
   ]
  },
  {
   "cell_type": "code",
   "execution_count": 69,
   "metadata": {
    "collapsed": false
   },
   "outputs": [],
   "source": [
    "for df in prediction_score:\n",
    "    df['prediction_vainqueur'] = df.apply(vainqueur, axis=1) "
   ]
  },
  {
   "cell_type": "markdown",
   "metadata": {},
   "source": [
    "On ajoute aussi le score le plus probable d'après nos simulations :"
   ]
  },
  {
   "cell_type": "code",
   "execution_count": 70,
   "metadata": {
    "collapsed": false
   },
   "outputs": [],
   "source": [
    "resultats = list()\n",
    "    \n",
    "for df in prediction_score:\n",
    "    home_score, away_score = df.groupby([\"home_prediction\", \"away_prediction\"]).size().idxmax()\n",
    "    resultats.append(\n",
    "        [df.prediction_vainqueur.value_counts().idxmax(), home_score, away_score]\n",
    "    )\n",
    "    \n",
    "resultats = pd.DataFrame(np.array(resultats))\n",
    "resultats.columns = ['prediction_vainqueur', 'prediction_home_score', 'prediction_away_score']\n",
    "\n",
    "#on remet les scores au type int, sinon il sont converti en 'objet' ...\n",
    "resultats[['prediction_home_score', 'prediction_away_score']] = resultats[['prediction_home_score', 'prediction_away_score']].astype(np.int32)"
   ]
  },
  {
   "cell_type": "markdown",
   "metadata": {},
   "source": [
    "On met en forme aussi les vrais résultats (ie. les observations)"
   ]
  },
  {
   "cell_type": "code",
   "execution_count": 71,
   "metadata": {
    "collapsed": false
   },
   "outputs": [],
   "source": [
    "vrai_home = pd.DataFrame(observed_home_goals)\n",
    "vrai_away = pd.DataFrame(observed_away_goals)  "
   ]
  },
  {
   "cell_type": "code",
   "execution_count": 72,
   "metadata": {
    "collapsed": false
   },
   "outputs": [],
   "source": [
    "vrai_resultats = vrai_home.merge(vrai_away, how='inner', left_index=True, right_index=True)\n",
    "vrai_resultats.columns = ['home_points', 'away_points']\n",
    "\n",
    "vrai_resultats['vainqueur'] = vrai_resultats.apply(vainqueur, axis=1)\n",
    "\n",
    "vrai_resultats = vrai_resultats.merge(resultats, how='inner', left_index=True, right_index=True)"
   ]
  },
  {
   "cell_type": "markdown",
   "metadata": {},
   "source": [
    "On a enfin notre dataframe contenant les observations et les prédictions (gagnant + score) match par match :"
   ]
  },
  {
   "cell_type": "code",
   "execution_count": 73,
   "metadata": {
    "collapsed": false
   },
   "outputs": [
    {
     "data": {
      "text/html": [
       "<div>\n",
       "<table border=\"1\" class=\"dataframe\">\n",
       "  <thead>\n",
       "    <tr style=\"text-align: right;\">\n",
       "      <th></th>\n",
       "      <th>home_points</th>\n",
       "      <th>away_points</th>\n",
       "      <th>vainqueur</th>\n",
       "      <th>prediction_vainqueur</th>\n",
       "      <th>prediction_home_score</th>\n",
       "      <th>prediction_away_score</th>\n",
       "    </tr>\n",
       "  </thead>\n",
       "  <tbody>\n",
       "    <tr>\n",
       "      <th>0</th>\n",
       "      <td>0.0000</td>\n",
       "      <td>0.1250</td>\n",
       "      <td>A</td>\n",
       "      <td>N</td>\n",
       "      <td>0</td>\n",
       "      <td>0</td>\n",
       "    </tr>\n",
       "    <tr>\n",
       "      <th>1</th>\n",
       "      <td>0.7500</td>\n",
       "      <td>1.1250</td>\n",
       "      <td>A</td>\n",
       "      <td>N</td>\n",
       "      <td>0</td>\n",
       "      <td>0</td>\n",
       "    </tr>\n",
       "    <tr>\n",
       "      <th>2</th>\n",
       "      <td>1.5625</td>\n",
       "      <td>0.0000</td>\n",
       "      <td>H</td>\n",
       "      <td>N</td>\n",
       "      <td>0</td>\n",
       "      <td>0</td>\n",
       "    </tr>\n",
       "    <tr>\n",
       "      <th>3</th>\n",
       "      <td>0.4375</td>\n",
       "      <td>0.0000</td>\n",
       "      <td>H</td>\n",
       "      <td>N</td>\n",
       "      <td>0</td>\n",
       "      <td>0</td>\n",
       "    </tr>\n",
       "    <tr>\n",
       "      <th>4</th>\n",
       "      <td>0.3750</td>\n",
       "      <td>0.1250</td>\n",
       "      <td>H</td>\n",
       "      <td>N</td>\n",
       "      <td>0</td>\n",
       "      <td>0</td>\n",
       "    </tr>\n",
       "    <tr>\n",
       "      <th>5</th>\n",
       "      <td>0.0000</td>\n",
       "      <td>0.0000</td>\n",
       "      <td>N</td>\n",
       "      <td>N</td>\n",
       "      <td>0</td>\n",
       "      <td>0</td>\n",
       "    </tr>\n",
       "    <tr>\n",
       "      <th>6</th>\n",
       "      <td>0.0000</td>\n",
       "      <td>0.1250</td>\n",
       "      <td>A</td>\n",
       "      <td>N</td>\n",
       "      <td>0</td>\n",
       "      <td>0</td>\n",
       "    </tr>\n",
       "    <tr>\n",
       "      <th>7</th>\n",
       "      <td>0.3125</td>\n",
       "      <td>0.4375</td>\n",
       "      <td>A</td>\n",
       "      <td>N</td>\n",
       "      <td>0</td>\n",
       "      <td>0</td>\n",
       "    </tr>\n",
       "    <tr>\n",
       "      <th>8</th>\n",
       "      <td>1.4375</td>\n",
       "      <td>1.1250</td>\n",
       "      <td>H</td>\n",
       "      <td>N</td>\n",
       "      <td>0</td>\n",
       "      <td>0</td>\n",
       "    </tr>\n",
       "    <tr>\n",
       "      <th>9</th>\n",
       "      <td>1.5625</td>\n",
       "      <td>0.8750</td>\n",
       "      <td>H</td>\n",
       "      <td>N</td>\n",
       "      <td>0</td>\n",
       "      <td>0</td>\n",
       "    </tr>\n",
       "    <tr>\n",
       "      <th>10</th>\n",
       "      <td>0.0000</td>\n",
       "      <td>0.1250</td>\n",
       "      <td>A</td>\n",
       "      <td>N</td>\n",
       "      <td>0</td>\n",
       "      <td>0</td>\n",
       "    </tr>\n",
       "    <tr>\n",
       "      <th>11</th>\n",
       "      <td>0.8125</td>\n",
       "      <td>1.1250</td>\n",
       "      <td>A</td>\n",
       "      <td>N</td>\n",
       "      <td>0</td>\n",
       "      <td>0</td>\n",
       "    </tr>\n",
       "    <tr>\n",
       "      <th>12</th>\n",
       "      <td>0.7500</td>\n",
       "      <td>0.0000</td>\n",
       "      <td>H</td>\n",
       "      <td>N</td>\n",
       "      <td>0</td>\n",
       "      <td>0</td>\n",
       "    </tr>\n",
       "    <tr>\n",
       "      <th>13</th>\n",
       "      <td>0.7500</td>\n",
       "      <td>0.8750</td>\n",
       "      <td>A</td>\n",
       "      <td>N</td>\n",
       "      <td>0</td>\n",
       "      <td>0</td>\n",
       "    </tr>\n",
       "    <tr>\n",
       "      <th>14</th>\n",
       "      <td>0.0000</td>\n",
       "      <td>0.0000</td>\n",
       "      <td>N</td>\n",
       "      <td>N</td>\n",
       "      <td>0</td>\n",
       "      <td>0</td>\n",
       "    </tr>\n",
       "    <tr>\n",
       "      <th>15</th>\n",
       "      <td>0.3750</td>\n",
       "      <td>0.6875</td>\n",
       "      <td>A</td>\n",
       "      <td>N</td>\n",
       "      <td>0</td>\n",
       "      <td>0</td>\n",
       "    </tr>\n",
       "    <tr>\n",
       "      <th>16</th>\n",
       "      <td>0.2500</td>\n",
       "      <td>0.0000</td>\n",
       "      <td>H</td>\n",
       "      <td>N</td>\n",
       "      <td>0</td>\n",
       "      <td>0</td>\n",
       "    </tr>\n",
       "    <tr>\n",
       "      <th>17</th>\n",
       "      <td>0.0000</td>\n",
       "      <td>0.1250</td>\n",
       "      <td>A</td>\n",
       "      <td>N</td>\n",
       "      <td>0</td>\n",
       "      <td>0</td>\n",
       "    </tr>\n",
       "    <tr>\n",
       "      <th>18</th>\n",
       "      <td>1.0000</td>\n",
       "      <td>0.3125</td>\n",
       "      <td>H</td>\n",
       "      <td>N</td>\n",
       "      <td>0</td>\n",
       "      <td>0</td>\n",
       "    </tr>\n",
       "    <tr>\n",
       "      <th>19</th>\n",
       "      <td>1.2500</td>\n",
       "      <td>0.9375</td>\n",
       "      <td>H</td>\n",
       "      <td>N</td>\n",
       "      <td>0</td>\n",
       "      <td>0</td>\n",
       "    </tr>\n",
       "    <tr>\n",
       "      <th>20</th>\n",
       "      <td>0.3125</td>\n",
       "      <td>0.4375</td>\n",
       "      <td>A</td>\n",
       "      <td>N</td>\n",
       "      <td>0</td>\n",
       "      <td>0</td>\n",
       "    </tr>\n",
       "    <tr>\n",
       "      <th>21</th>\n",
       "      <td>0.0000</td>\n",
       "      <td>0.1250</td>\n",
       "      <td>A</td>\n",
       "      <td>N</td>\n",
       "      <td>0</td>\n",
       "      <td>0</td>\n",
       "    </tr>\n",
       "    <tr>\n",
       "      <th>22</th>\n",
       "      <td>1.1250</td>\n",
       "      <td>0.0000</td>\n",
       "      <td>H</td>\n",
       "      <td>N</td>\n",
       "      <td>0</td>\n",
       "      <td>0</td>\n",
       "    </tr>\n",
       "    <tr>\n",
       "      <th>23</th>\n",
       "      <td>1.0625</td>\n",
       "      <td>1.3125</td>\n",
       "      <td>A</td>\n",
       "      <td>N</td>\n",
       "      <td>0</td>\n",
       "      <td>0</td>\n",
       "    </tr>\n",
       "    <tr>\n",
       "      <th>24</th>\n",
       "      <td>0.3125</td>\n",
       "      <td>0.3750</td>\n",
       "      <td>A</td>\n",
       "      <td>N</td>\n",
       "      <td>0</td>\n",
       "      <td>0</td>\n",
       "    </tr>\n",
       "    <tr>\n",
       "      <th>25</th>\n",
       "      <td>0.9375</td>\n",
       "      <td>0.7500</td>\n",
       "      <td>H</td>\n",
       "      <td>N</td>\n",
       "      <td>0</td>\n",
       "      <td>0</td>\n",
       "    </tr>\n",
       "    <tr>\n",
       "      <th>26</th>\n",
       "      <td>0.0000</td>\n",
       "      <td>0.0000</td>\n",
       "      <td>N</td>\n",
       "      <td>N</td>\n",
       "      <td>0</td>\n",
       "      <td>0</td>\n",
       "    </tr>\n",
       "    <tr>\n",
       "      <th>27</th>\n",
       "      <td>0.0000</td>\n",
       "      <td>0.1250</td>\n",
       "      <td>A</td>\n",
       "      <td>N</td>\n",
       "      <td>0</td>\n",
       "      <td>0</td>\n",
       "    </tr>\n",
       "    <tr>\n",
       "      <th>28</th>\n",
       "      <td>0.0000</td>\n",
       "      <td>0.1250</td>\n",
       "      <td>A</td>\n",
       "      <td>N</td>\n",
       "      <td>0</td>\n",
       "      <td>0</td>\n",
       "    </tr>\n",
       "    <tr>\n",
       "      <th>29</th>\n",
       "      <td>0.6250</td>\n",
       "      <td>0.7500</td>\n",
       "      <td>A</td>\n",
       "      <td>N</td>\n",
       "      <td>0</td>\n",
       "      <td>0</td>\n",
       "    </tr>\n",
       "    <tr>\n",
       "      <th>...</th>\n",
       "      <td>...</td>\n",
       "      <td>...</td>\n",
       "      <td>...</td>\n",
       "      <td>...</td>\n",
       "      <td>...</td>\n",
       "      <td>...</td>\n",
       "    </tr>\n",
       "    <tr>\n",
       "      <th>577</th>\n",
       "      <td>0.4080</td>\n",
       "      <td>0.1985</td>\n",
       "      <td>H</td>\n",
       "      <td>N</td>\n",
       "      <td>0</td>\n",
       "      <td>0</td>\n",
       "    </tr>\n",
       "    <tr>\n",
       "      <th>578</th>\n",
       "      <td>0.2040</td>\n",
       "      <td>0.3345</td>\n",
       "      <td>A</td>\n",
       "      <td>N</td>\n",
       "      <td>0</td>\n",
       "      <td>0</td>\n",
       "    </tr>\n",
       "    <tr>\n",
       "      <th>579</th>\n",
       "      <td>0.4705</td>\n",
       "      <td>0.1985</td>\n",
       "      <td>H</td>\n",
       "      <td>N</td>\n",
       "      <td>0</td>\n",
       "      <td>0</td>\n",
       "    </tr>\n",
       "    <tr>\n",
       "      <th>580</th>\n",
       "      <td>0.4300</td>\n",
       "      <td>0.3805</td>\n",
       "      <td>H</td>\n",
       "      <td>N</td>\n",
       "      <td>0</td>\n",
       "      <td>0</td>\n",
       "    </tr>\n",
       "    <tr>\n",
       "      <th>581</th>\n",
       "      <td>0.3400</td>\n",
       "      <td>0.3180</td>\n",
       "      <td>H</td>\n",
       "      <td>N</td>\n",
       "      <td>0</td>\n",
       "      <td>0</td>\n",
       "    </tr>\n",
       "    <tr>\n",
       "      <th>582</th>\n",
       "      <td>0.9245</td>\n",
       "      <td>0.2040</td>\n",
       "      <td>H</td>\n",
       "      <td>N</td>\n",
       "      <td>0</td>\n",
       "      <td>0</td>\n",
       "    </tr>\n",
       "    <tr>\n",
       "      <th>583</th>\n",
       "      <td>0.4190</td>\n",
       "      <td>0.2665</td>\n",
       "      <td>H</td>\n",
       "      <td>N</td>\n",
       "      <td>0</td>\n",
       "      <td>0</td>\n",
       "    </tr>\n",
       "    <tr>\n",
       "      <th>584</th>\n",
       "      <td>0.8455</td>\n",
       "      <td>0.5440</td>\n",
       "      <td>H</td>\n",
       "      <td>N</td>\n",
       "      <td>0</td>\n",
       "      <td>0</td>\n",
       "    </tr>\n",
       "    <tr>\n",
       "      <th>585</th>\n",
       "      <td>0.4540</td>\n",
       "      <td>0.6415</td>\n",
       "      <td>A</td>\n",
       "      <td>N</td>\n",
       "      <td>0</td>\n",
       "      <td>0</td>\n",
       "    </tr>\n",
       "    <tr>\n",
       "      <th>586</th>\n",
       "      <td>1.1690</td>\n",
       "      <td>0.3180</td>\n",
       "      <td>H</td>\n",
       "      <td>N</td>\n",
       "      <td>0</td>\n",
       "      <td>0</td>\n",
       "    </tr>\n",
       "    <tr>\n",
       "      <th>587</th>\n",
       "      <td>0.8510</td>\n",
       "      <td>0.5220</td>\n",
       "      <td>H</td>\n",
       "      <td>N</td>\n",
       "      <td>0</td>\n",
       "      <td>0</td>\n",
       "    </tr>\n",
       "    <tr>\n",
       "      <th>588</th>\n",
       "      <td>0.3345</td>\n",
       "      <td>0.2205</td>\n",
       "      <td>H</td>\n",
       "      <td>N</td>\n",
       "      <td>0</td>\n",
       "      <td>0</td>\n",
       "    </tr>\n",
       "    <tr>\n",
       "      <th>589</th>\n",
       "      <td>0.2260</td>\n",
       "      <td>0.3970</td>\n",
       "      <td>A</td>\n",
       "      <td>N</td>\n",
       "      <td>0</td>\n",
       "      <td>0</td>\n",
       "    </tr>\n",
       "    <tr>\n",
       "      <th>590</th>\n",
       "      <td>0.4080</td>\n",
       "      <td>0.2150</td>\n",
       "      <td>H</td>\n",
       "      <td>N</td>\n",
       "      <td>0</td>\n",
       "      <td>0</td>\n",
       "    </tr>\n",
       "    <tr>\n",
       "      <th>591</th>\n",
       "      <td>0.8345</td>\n",
       "      <td>0.4135</td>\n",
       "      <td>H</td>\n",
       "      <td>N</td>\n",
       "      <td>0</td>\n",
       "      <td>0</td>\n",
       "    </tr>\n",
       "    <tr>\n",
       "      <th>592</th>\n",
       "      <td>0.5385</td>\n",
       "      <td>0.2665</td>\n",
       "      <td>H</td>\n",
       "      <td>N</td>\n",
       "      <td>0</td>\n",
       "      <td>0</td>\n",
       "    </tr>\n",
       "    <tr>\n",
       "      <th>593</th>\n",
       "      <td>0.4485</td>\n",
       "      <td>0.1525</td>\n",
       "      <td>H</td>\n",
       "      <td>N</td>\n",
       "      <td>0</td>\n",
       "      <td>0</td>\n",
       "    </tr>\n",
       "    <tr>\n",
       "      <th>594</th>\n",
       "      <td>0.3400</td>\n",
       "      <td>0.3565</td>\n",
       "      <td>A</td>\n",
       "      <td>N</td>\n",
       "      <td>0</td>\n",
       "      <td>0</td>\n",
       "    </tr>\n",
       "    <tr>\n",
       "      <th>595</th>\n",
       "      <td>0.3970</td>\n",
       "      <td>0.3400</td>\n",
       "      <td>H</td>\n",
       "      <td>N</td>\n",
       "      <td>0</td>\n",
       "      <td>0</td>\n",
       "    </tr>\n",
       "    <tr>\n",
       "      <th>596</th>\n",
       "      <td>0.3805</td>\n",
       "      <td>0.3345</td>\n",
       "      <td>H</td>\n",
       "      <td>N</td>\n",
       "      <td>0</td>\n",
       "      <td>0</td>\n",
       "    </tr>\n",
       "    <tr>\n",
       "      <th>597</th>\n",
       "      <td>0.6580</td>\n",
       "      <td>0.1415</td>\n",
       "      <td>H</td>\n",
       "      <td>N</td>\n",
       "      <td>0</td>\n",
       "      <td>0</td>\n",
       "    </tr>\n",
       "    <tr>\n",
       "      <th>598</th>\n",
       "      <td>0.4760</td>\n",
       "      <td>0.4080</td>\n",
       "      <td>H</td>\n",
       "      <td>N</td>\n",
       "      <td>0</td>\n",
       "      <td>0</td>\n",
       "    </tr>\n",
       "    <tr>\n",
       "      <th>599</th>\n",
       "      <td>0.0900</td>\n",
       "      <td>0.4135</td>\n",
       "      <td>A</td>\n",
       "      <td>N</td>\n",
       "      <td>0</td>\n",
       "      <td>0</td>\n",
       "    </tr>\n",
       "    <tr>\n",
       "      <th>600</th>\n",
       "      <td>0.4025</td>\n",
       "      <td>0.0735</td>\n",
       "      <td>H</td>\n",
       "      <td>N</td>\n",
       "      <td>0</td>\n",
       "      <td>0</td>\n",
       "    </tr>\n",
       "    <tr>\n",
       "      <th>601</th>\n",
       "      <td>0.4025</td>\n",
       "      <td>0.1985</td>\n",
       "      <td>H</td>\n",
       "      <td>N</td>\n",
       "      <td>0</td>\n",
       "      <td>0</td>\n",
       "    </tr>\n",
       "    <tr>\n",
       "      <th>602</th>\n",
       "      <td>0.3970</td>\n",
       "      <td>0.2205</td>\n",
       "      <td>H</td>\n",
       "      <td>N</td>\n",
       "      <td>0</td>\n",
       "      <td>0</td>\n",
       "    </tr>\n",
       "    <tr>\n",
       "      <th>603</th>\n",
       "      <td>0.2095</td>\n",
       "      <td>0.4025</td>\n",
       "      <td>A</td>\n",
       "      <td>N</td>\n",
       "      <td>0</td>\n",
       "      <td>0</td>\n",
       "    </tr>\n",
       "    <tr>\n",
       "      <th>604</th>\n",
       "      <td>0.4540</td>\n",
       "      <td>0.3970</td>\n",
       "      <td>H</td>\n",
       "      <td>N</td>\n",
       "      <td>0</td>\n",
       "      <td>0</td>\n",
       "    </tr>\n",
       "    <tr>\n",
       "      <th>605</th>\n",
       "      <td>0.3345</td>\n",
       "      <td>0.7775</td>\n",
       "      <td>A</td>\n",
       "      <td>N</td>\n",
       "      <td>0</td>\n",
       "      <td>0</td>\n",
       "    </tr>\n",
       "    <tr>\n",
       "      <th>606</th>\n",
       "      <td>0.6470</td>\n",
       "      <td>0.5110</td>\n",
       "      <td>H</td>\n",
       "      <td>N</td>\n",
       "      <td>0</td>\n",
       "      <td>0</td>\n",
       "    </tr>\n",
       "  </tbody>\n",
       "</table>\n",
       "<p>607 rows × 6 columns</p>\n",
       "</div>"
      ],
      "text/plain": [
       "     home_points  away_points vainqueur prediction_vainqueur  \\\n",
       "0         0.0000       0.1250         A                    N   \n",
       "1         0.7500       1.1250         A                    N   \n",
       "2         1.5625       0.0000         H                    N   \n",
       "3         0.4375       0.0000         H                    N   \n",
       "4         0.3750       0.1250         H                    N   \n",
       "5         0.0000       0.0000         N                    N   \n",
       "6         0.0000       0.1250         A                    N   \n",
       "7         0.3125       0.4375         A                    N   \n",
       "8         1.4375       1.1250         H                    N   \n",
       "9         1.5625       0.8750         H                    N   \n",
       "10        0.0000       0.1250         A                    N   \n",
       "11        0.8125       1.1250         A                    N   \n",
       "12        0.7500       0.0000         H                    N   \n",
       "13        0.7500       0.8750         A                    N   \n",
       "14        0.0000       0.0000         N                    N   \n",
       "15        0.3750       0.6875         A                    N   \n",
       "16        0.2500       0.0000         H                    N   \n",
       "17        0.0000       0.1250         A                    N   \n",
       "18        1.0000       0.3125         H                    N   \n",
       "19        1.2500       0.9375         H                    N   \n",
       "20        0.3125       0.4375         A                    N   \n",
       "21        0.0000       0.1250         A                    N   \n",
       "22        1.1250       0.0000         H                    N   \n",
       "23        1.0625       1.3125         A                    N   \n",
       "24        0.3125       0.3750         A                    N   \n",
       "25        0.9375       0.7500         H                    N   \n",
       "26        0.0000       0.0000         N                    N   \n",
       "27        0.0000       0.1250         A                    N   \n",
       "28        0.0000       0.1250         A                    N   \n",
       "29        0.6250       0.7500         A                    N   \n",
       "..           ...          ...       ...                  ...   \n",
       "577       0.4080       0.1985         H                    N   \n",
       "578       0.2040       0.3345         A                    N   \n",
       "579       0.4705       0.1985         H                    N   \n",
       "580       0.4300       0.3805         H                    N   \n",
       "581       0.3400       0.3180         H                    N   \n",
       "582       0.9245       0.2040         H                    N   \n",
       "583       0.4190       0.2665         H                    N   \n",
       "584       0.8455       0.5440         H                    N   \n",
       "585       0.4540       0.6415         A                    N   \n",
       "586       1.1690       0.3180         H                    N   \n",
       "587       0.8510       0.5220         H                    N   \n",
       "588       0.3345       0.2205         H                    N   \n",
       "589       0.2260       0.3970         A                    N   \n",
       "590       0.4080       0.2150         H                    N   \n",
       "591       0.8345       0.4135         H                    N   \n",
       "592       0.5385       0.2665         H                    N   \n",
       "593       0.4485       0.1525         H                    N   \n",
       "594       0.3400       0.3565         A                    N   \n",
       "595       0.3970       0.3400         H                    N   \n",
       "596       0.3805       0.3345         H                    N   \n",
       "597       0.6580       0.1415         H                    N   \n",
       "598       0.4760       0.4080         H                    N   \n",
       "599       0.0900       0.4135         A                    N   \n",
       "600       0.4025       0.0735         H                    N   \n",
       "601       0.4025       0.1985         H                    N   \n",
       "602       0.3970       0.2205         H                    N   \n",
       "603       0.2095       0.4025         A                    N   \n",
       "604       0.4540       0.3970         H                    N   \n",
       "605       0.3345       0.7775         A                    N   \n",
       "606       0.6470       0.5110         H                    N   \n",
       "\n",
       "     prediction_home_score  prediction_away_score  \n",
       "0                        0                      0  \n",
       "1                        0                      0  \n",
       "2                        0                      0  \n",
       "3                        0                      0  \n",
       "4                        0                      0  \n",
       "5                        0                      0  \n",
       "6                        0                      0  \n",
       "7                        0                      0  \n",
       "8                        0                      0  \n",
       "9                        0                      0  \n",
       "10                       0                      0  \n",
       "11                       0                      0  \n",
       "12                       0                      0  \n",
       "13                       0                      0  \n",
       "14                       0                      0  \n",
       "15                       0                      0  \n",
       "16                       0                      0  \n",
       "17                       0                      0  \n",
       "18                       0                      0  \n",
       "19                       0                      0  \n",
       "20                       0                      0  \n",
       "21                       0                      0  \n",
       "22                       0                      0  \n",
       "23                       0                      0  \n",
       "24                       0                      0  \n",
       "25                       0                      0  \n",
       "26                       0                      0  \n",
       "27                       0                      0  \n",
       "28                       0                      0  \n",
       "29                       0                      0  \n",
       "..                     ...                    ...  \n",
       "577                      0                      0  \n",
       "578                      0                      0  \n",
       "579                      0                      0  \n",
       "580                      0                      0  \n",
       "581                      0                      0  \n",
       "582                      0                      0  \n",
       "583                      0                      0  \n",
       "584                      0                      0  \n",
       "585                      0                      0  \n",
       "586                      0                      0  \n",
       "587                      0                      0  \n",
       "588                      0                      0  \n",
       "589                      0                      0  \n",
       "590                      0                      0  \n",
       "591                      0                      0  \n",
       "592                      0                      0  \n",
       "593                      0                      0  \n",
       "594                      0                      0  \n",
       "595                      0                      0  \n",
       "596                      0                      0  \n",
       "597                      0                      0  \n",
       "598                      0                      0  \n",
       "599                      0                      0  \n",
       "600                      0                      0  \n",
       "601                      0                      0  \n",
       "602                      0                      0  \n",
       "603                      0                      0  \n",
       "604                      0                      0  \n",
       "605                      0                      0  \n",
       "606                      0                      0  \n",
       "\n",
       "[607 rows x 6 columns]"
      ]
     },
     "execution_count": 73,
     "metadata": {},
     "output_type": "execute_result"
    }
   ],
   "source": [
    "vrai_resultats"
   ]
  },
  {
   "cell_type": "markdown",
   "metadata": {},
   "source": [
    "On calcule notre score :"
   ]
  },
  {
   "cell_type": "code",
   "execution_count": 74,
   "metadata": {
    "collapsed": false
   },
   "outputs": [
    {
     "data": {
      "text/plain": [
       "0.090609555189456348"
      ]
     },
     "execution_count": 74,
     "metadata": {},
     "output_type": "execute_result"
    }
   ],
   "source": [
    "from sklearn import metrics\n",
    "\n",
    "metrics.accuracy_score(vrai_resultats.vainqueur.values, vrai_resultats.prediction_vainqueur.values)"
   ]
  },
  {
   "cell_type": "markdown",
   "metadata": {},
   "source": [
    "Ce n'est pas si mal pour un premier modèle, extrèmement simple pour le moment... Cherchons à identifier quels matchs sont mal classifiés :"
   ]
  },
  {
   "cell_type": "code",
   "execution_count": 75,
   "metadata": {
    "collapsed": false
   },
   "outputs": [
    {
     "name": "stdout",
     "output_type": "stream",
     "text": [
      "Confusion matrix, without normalization\n",
      "[[  0   0 221]\n",
      " [  0   0 331]\n",
      " [  0   0  55]]\n"
     ]
    },
    {
     "data": {
      "image/png": "[encoded data removed]",
      "text/plain": [
       "<matplotlib.figure.Figure at 0x4ecd88d0>"
      ]
     },
     "metadata": {},
     "output_type": "display_data"
    }
   ],
   "source": [
    "#Code repris entièrement des exemples scikit-learn\n",
    "\n",
    "import itertools\n",
    "import matplotlib.pyplot as plt\n",
    "\n",
    "from sklearn.metrics import confusion_matrix\n",
    "\n",
    "class_names = ['A','H','N']\n",
    "\n",
    "def plot_confusion_matrix(cm, classes,\n",
    "                          normalize=False,\n",
    "                          title='Confusion matrix',\n",
    "                          cmap=plt.cm.Blues):\n",
    "    \"\"\"\n",
    "    This function prints and plots the confusion matrix.\n",
    "    Normalization can be applied by setting `normalize=True`.\n",
    "    \"\"\"\n",
    "    plt.imshow(cm, interpolation='nearest', cmap=cmap)\n",
    "    plt.title(title)\n",
    "    plt.colorbar()\n",
    "    tick_marks = np.arange(len(classes))\n",
    "    plt.xticks(tick_marks, classes, rotation=45)\n",
    "    plt.yticks(tick_marks, classes)\n",
    "\n",
    "    if normalize:\n",
    "        cm = cm.astype('float') / cm.sum(axis=1)[:, np.newaxis]\n",
    "        print(\"Normalized confusion matrix\")\n",
    "    else:\n",
    "        print('Confusion matrix, without normalization')\n",
    "\n",
    "    print(cm)\n",
    "\n",
    "    thresh = cm.max() / 2.\n",
    "    for i, j in itertools.product(range(cm.shape[0]), range(cm.shape[1])):\n",
    "        plt.text(j, i, cm[i, j],\n",
    "                 horizontalalignment=\"center\",\n",
    "                 color=\"white\" if cm[i, j] > thresh else \"black\")\n",
    "\n",
    "    plt.tight_layout()\n",
    "    plt.ylabel('True label')\n",
    "    plt.xlabel('Predicted label')\n",
    "\n",
    "# Compute confusion matrix\n",
    "cnf_matrix = confusion_matrix(vrai_resultats.vainqueur.values, vrai_resultats.prediction_vainqueur.values)\n",
    "np.set_printoptions(precision=2)\n",
    "\n",
    "# Plot non-normalized confusion matrix\n",
    "plt.figure()\n",
    "plot_confusion_matrix(cnf_matrix, classes=class_names,\n",
    "                      title='Confusion matrix, without normalization')\n",
    "\n",
    "plt.show()"
   ]
  },
  {
   "cell_type": "markdown",
   "metadata": {
    "collapsed": true
   },
   "source": [
    "Commentaires :\n",
    "- Les résultats sont encourageant pour un modèle aussi simple (quasiment 50% de réussite, à comparer aux 33% d'une méthode complètement aléatoire)\n",
    "- On prédit trop souvent Away : peut être que le modèle favorise trop l'équipe à domicile..."
   ]
  },
  {
   "cell_type": "code",
   "execution_count": 76,
   "metadata": {
    "collapsed": false
   },
   "outputs": [
    {
     "data": {
      "text/plain": [
       "607"
      ]
     },
     "execution_count": 76,
     "metadata": {},
     "output_type": "execute_result"
    }
   ],
   "source": [
    "vrai_resultats.vainqueur.count()"
   ]
  },
  {
   "cell_type": "code",
   "execution_count": 77,
   "metadata": {
    "collapsed": false
   },
   "outputs": [
    {
     "data": {
      "text/plain": [
       "H    0.545305\n",
       "A    0.364086\n",
       "N    0.090610\n",
       "Name: vainqueur, dtype: float64"
      ]
     },
     "execution_count": 77,
     "metadata": {},
     "output_type": "execute_result"
    }
   ],
   "source": [
    "vrai_resultats.vainqueur.value_counts() / vrai_resultats.vainqueur.count()"
   ]
  },
  {
   "cell_type": "markdown",
   "metadata": {},
   "source": [
    "prochaine étapes :\n",
    "- améliorer le modèle hierarchique (prendre en compte les tirs cadrés, etc.)\n",
    "- modéliser au niveau de chaque joueur ?\n",
    "- écrire le code d'une simulation d'une saison entière pour obtenir le classement final"
   ]
  },
  {
   "cell_type": "markdown",
   "metadata": {
    "collapsed": true
   },
   "source": [
    "Enfin, on va compter le nombre de fois où notre projection de score est correcte"
   ]
  },
  {
   "cell_type": "code",
   "execution_count": null,
   "metadata": {
    "collapsed": false
   },
   "outputs": [],
   "source": [
    "score_juste = vrai_resultats[vrai_resultats.home_points == vrai_resultats.prediction_home_score]\n",
    "score_juste = score_juste[vrai_resultats.away_points == vrai_resultats.prediction_away_score]\n",
    "len(score_juste) / float(len(vrai_resultats))"
   ]
  },
  {
   "cell_type": "markdown",
   "metadata": {},
   "source": [
    "On a prédit le bon score dans 14.5% des cas."
   ]
  },
  {
   "cell_type": "markdown",
   "metadata": {
    "collapsed": true
   },
   "source": [
    "Par la suite, on améliorera le modèle selon 3 axes :\n",
    "- les buts étant des évênements rares, ils sont soumis à une grande variabilité et peuvent donc être une métrique trompeuse. Il va donc falloir \"l'augmenter\" avec d'autres évênements moins rares, mais quasiment tout autant important : le nombre de tirs cadrés, non cadrés, corner, de pénaltis, etc.\n",
    "- mieux charactériser les paramètres latents d'une équipe. On a ici résumé l'information disponible à un score d'attaque et un score de défense, mais il y en a certainement d'autres : la possession moyenne de balle par exemple ? ...\n",
    "- mieux charactériser la situation du match, indépendement des performances d'une équipe : le fait de jouer à domicile a été pris en compte ici, mais on peut penser à d'autres choses, tels que le temps de repos depuis le dernier match, etc.\n",
    "- prendre en compte l'évolution du style de jeu au cours des années (cf le notebook sur les buts vs loi de poisson)\n",
    "\n",
    "Eventuellement plus tard modéliser au niveau du joueur"
   ]
  },
  {
   "cell_type": "code",
   "execution_count": null,
   "metadata": {
    "collapsed": true
   },
   "outputs": [],
   "source": []
  },
  {
   "cell_type": "code",
   "execution_count": null,
   "metadata": {
    "collapsed": true
   },
   "outputs": [],
   "source": []
  },
  {
   "cell_type": "markdown",
   "metadata": {
    "collapsed": true
   },
   "source": [
    "# Quelques analyses en plus "
   ]
  },
  {
   "cell_type": "code",
   "execution_count": 190,
   "metadata": {
    "collapsed": false
   },
   "outputs": [],
   "source": [
    "def extract_time_elapsed(row):\n",
    "    if(not pd.isnull(row)):\n",
    "        tree = html.fromstring(row)\n",
    "        coord = tree.xpath('//elapsed/text()')\n",
    "        return np.array(coord, dtype=np.int32)\n",
    "    return np.nan\n",
    "\n",
    "match['time_elapsed'] = match.goal.apply(lambda row: extract_time_elapsed(row))"
   ]
  },
  {
   "cell_type": "markdown",
   "metadata": {},
   "source": [
    "Regardons la distribution des buts par minute d'un match"
   ]
  },
  {
   "cell_type": "code",
   "execution_count": 191,
   "metadata": {
    "collapsed": false
   },
   "outputs": [
    {
     "data": {
      "text/plain": [
       "array([[<matplotlib.axes._subplots.AxesSubplot object at 0x0000000068D1E8D0>]], dtype=object)"
      ]
     },
     "execution_count": 191,
     "metadata": {},
     "output_type": "execute_result"
    },
    {
     "data": {
      "image/png": "[encoded data removed]",
      "text/plain": [
       "<matplotlib.figure.Figure at 0x851e10b8>"
      ]
     },
     "metadata": {},
     "output_type": "display_data"
    }
   ],
   "source": [
    "pd.DataFrame(np.hstack(match.time_elapsed.values)).hist(bins=90)"
   ]
  },
  {
   "cell_type": "markdown",
   "metadata": {},
   "source": [
    "On observe beaucoup plus de buts à la 45ème et à la 90ème minutes ! En effet, les buts marqués pendants le temps additionel (91, 92, 93ème minutes) sont compté comme 90. Idem pour 45."
   ]
  },
  {
   "cell_type": "markdown",
   "metadata": {},
   "source": [
    "Etudions la position (distance + angle en degré) des tirs :"
   ]
  },
  {
   "cell_type": "code",
   "execution_count": 192,
   "metadata": {
    "collapsed": false
   },
   "outputs": [],
   "source": [
    "def extract_position_distance(row):\n",
    "    if(not pd.isnull(row)):\n",
    "        tree = html.fromstring(row)\n",
    "        coord = tree.xpath('//coordinates/value/text()')\n",
    "        return np.array(coord[0:][::2], dtype=np.int32)\n",
    "    return np.nan\n",
    "\n",
    "def extract_position_angle(row):\n",
    "    if(not pd.isnull(row)):\n",
    "        tree = html.fromstring(row)\n",
    "        coord = tree.xpath('//coordinates/value/text()')\n",
    "        return np.array(coord[1:][::2], dtype=np.int32)\n",
    "    return np.nan\n",
    "\n",
    "match['position_distance'] = match.goal.apply(lambda row: extract_position_distance(row))\n",
    "match['position_angle'] = match.goal.apply(lambda row: extract_position_angle(row))"
   ]
  },
  {
   "cell_type": "code",
   "execution_count": 193,
   "metadata": {
    "collapsed": false
   },
   "outputs": [],
   "source": [
    "heatmap = pd.DataFrame([np.hstack(match.position_distance.values),np.hstack(match.position_angle.values)]).T\n",
    "heatmap.dropna(inplace=True)\n",
    "heatmap.columns = ['Distance', 'Angle']"
   ]
  },
  {
   "cell_type": "code",
   "execution_count": 194,
   "metadata": {
    "collapsed": false
   },
   "outputs": [
    {
     "data": {
      "text/plain": [
       "<matplotlib.axes._subplots.AxesSubplot at 0x97b76ba8>"
      ]
     },
     "execution_count": 194,
     "metadata": {},
     "output_type": "execute_result"
    },
    {
     "data": {
      "image/png": "[encoded data removed]",
      "text/plain": [
       "<matplotlib.figure.Figure at 0x97b76518>"
      ]
     },
     "metadata": {},
     "output_type": "display_data"
    }
   ],
   "source": [
    "import seaborn\n",
    "seaborn.kdeplot(heatmap.Distance, heatmap.Angle, shade=True)"
   ]
  },
  {
   "cell_type": "code",
   "execution_count": 195,
   "metadata": {
    "collapsed": false
   },
   "outputs": [
    {
     "data": {
      "text/plain": [
       "<matplotlib.axes._subplots.AxesSubplot at 0x97bbc3c8>"
      ]
     },
     "execution_count": 195,
     "metadata": {},
     "output_type": "execute_result"
    },
    {
     "data": {
      "image/png": "[encoded data removed]",
      "text/plain": [
       "<matplotlib.figure.Figure at 0x97d2e2b0>"
      ]
     },
     "metadata": {},
     "output_type": "display_data"
    }
   ],
   "source": [
    "seaborn.distplot(heatmap.Distance, bins=30)\n",
    "seaborn.distplot(heatmap.Angle, bins=30)"
   ]
  }
 ],
 "metadata": {
  "kernelspec": {
   "display_name": "Python 2",
   "language": "python",
   "name": "python2"
  },
  "language_info": {
   "codemirror_mode": {
    "name": "ipython",
    "version": 2
   },
   "file_extension": ".py",
   "mimetype": "text/x-python",
   "name": "python",
   "nbconvert_exporter": "python",
   "pygments_lexer": "ipython2",
   "version": "2.7.13"
  }
 },
 "nbformat": 4,
 "nbformat_minor": 2
}
