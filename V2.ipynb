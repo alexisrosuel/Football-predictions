{
 "cells": [
  {
   "cell_type": "code",
   "execution_count": 172,
   "metadata": {
    "collapsed": true
   },
   "outputs": [],
   "source": [
    "%matplotlib inline"
   ]
  },
  {
   "cell_type": "markdown",
   "metadata": {},
   "source": [
    "# Version 2 du modèle prédictif"
   ]
  },
  {
   "cell_type": "markdown",
   "metadata": {},
   "source": [
    "Dans ce notebook, nous allons améliorer le modèle V1 en prenant en compte d'autres prédicteurs dans le modèle linéaire. \n",
    "\n",
    "On commence par importer les données dont on aura besoin (le tout est rassemblé en une seule cellule cette fois-ci) :"
   ]
  },
  {
   "cell_type": "code",
   "execution_count": 173,
   "metadata": {
    "collapsed": false
   },
   "outputs": [
    {
     "data": {
      "text/html": [
       "<div>\n",
       "<table border=\"1\" class=\"dataframe\">\n",
       "  <thead>\n",
       "    <tr style=\"text-align: right;\">\n",
       "      <th></th>\n",
       "      <th>id</th>\n",
       "      <th>league_id</th>\n",
       "      <th>date</th>\n",
       "      <th>home_team_api_id</th>\n",
       "      <th>away_team_api_id</th>\n",
       "      <th>home_team_goal</th>\n",
       "      <th>away_team_goal</th>\n",
       "      <th>goal</th>\n",
       "      <th>shoton</th>\n",
       "      <th>shotoff</th>\n",
       "      <th>foulcommit</th>\n",
       "      <th>card</th>\n",
       "      <th>cross</th>\n",
       "      <th>corner</th>\n",
       "      <th>possession</th>\n",
       "      <th>home_team_long_name</th>\n",
       "      <th>away_team_long_name</th>\n",
       "    </tr>\n",
       "  </thead>\n",
       "  <tbody>\n",
       "    <tr>\n",
       "      <th>4768</th>\n",
       "      <td>4769</td>\n",
       "      <td>4769</td>\n",
       "      <td>2008-08-09</td>\n",
       "      <td>8583</td>\n",
       "      <td>9830</td>\n",
       "      <td>2</td>\n",
       "      <td>1</td>\n",
       "      <td>NaN</td>\n",
       "      <td>NaN</td>\n",
       "      <td>NaN</td>\n",
       "      <td>NaN</td>\n",
       "      <td>NaN</td>\n",
       "      <td>NaN</td>\n",
       "      <td>NaN</td>\n",
       "      <td>NaN</td>\n",
       "      <td>AJ Auxerre</td>\n",
       "      <td>FC Nantes</td>\n",
       "    </tr>\n",
       "    <tr>\n",
       "      <th>4769</th>\n",
       "      <td>4990</td>\n",
       "      <td>4769</td>\n",
       "      <td>2008-08-24</td>\n",
       "      <td>9827</td>\n",
       "      <td>9830</td>\n",
       "      <td>2</td>\n",
       "      <td>0</td>\n",
       "      <td>NaN</td>\n",
       "      <td>NaN</td>\n",
       "      <td>NaN</td>\n",
       "      <td>NaN</td>\n",
       "      <td>NaN</td>\n",
       "      <td>NaN</td>\n",
       "      <td>NaN</td>\n",
       "      <td>NaN</td>\n",
       "      <td>Girondins de Bordeaux</td>\n",
       "      <td>FC Nantes</td>\n",
       "    </tr>\n",
       "    <tr>\n",
       "      <th>4770</th>\n",
       "      <td>6710</td>\n",
       "      <td>4769</td>\n",
       "      <td>2013-11-10</td>\n",
       "      <td>9827</td>\n",
       "      <td>9830</td>\n",
       "      <td>0</td>\n",
       "      <td>3</td>\n",
       "      <td>&lt;goal&gt;&lt;value&gt;&lt;comment&gt;n&lt;/comment&gt;&lt;stats&gt;&lt;goals...</td>\n",
       "      <td>&lt;shoton /&gt;</td>\n",
       "      <td>&lt;shotoff /&gt;</td>\n",
       "      <td>&lt;foulcommit /&gt;</td>\n",
       "      <td>&lt;card&gt;&lt;value&gt;&lt;comment&gt;y&lt;/comment&gt;&lt;stats&gt;&lt;ycard...</td>\n",
       "      <td>&lt;cross /&gt;</td>\n",
       "      <td>&lt;corner /&gt;</td>\n",
       "      <td>&lt;possession /&gt;</td>\n",
       "      <td>Girondins de Bordeaux</td>\n",
       "      <td>FC Nantes</td>\n",
       "    </tr>\n",
       "    <tr>\n",
       "      <th>4771</th>\n",
       "      <td>7339</td>\n",
       "      <td>4769</td>\n",
       "      <td>2015-05-09</td>\n",
       "      <td>9827</td>\n",
       "      <td>9830</td>\n",
       "      <td>2</td>\n",
       "      <td>1</td>\n",
       "      <td>&lt;goal&gt;&lt;value&gt;&lt;comment&gt;p&lt;/comment&gt;&lt;stats&gt;&lt;penal...</td>\n",
       "      <td>&lt;shoton&gt;&lt;value&gt;&lt;stats&gt;&lt;shoton&gt;1&lt;/shoton&gt;&lt;/stat...</td>\n",
       "      <td>&lt;shotoff&gt;&lt;value&gt;&lt;stats&gt;&lt;shotoff&gt;1&lt;/shotoff&gt;&lt;/s...</td>\n",
       "      <td>&lt;foulcommit&gt;&lt;value&gt;&lt;stats&gt;&lt;foulscommitted&gt;1&lt;/f...</td>\n",
       "      <td>&lt;card&gt;&lt;value&gt;&lt;comment&gt;y&lt;/comment&gt;&lt;stats&gt;&lt;ycard...</td>\n",
       "      <td>&lt;cross&gt;&lt;value&gt;&lt;stats&gt;&lt;crosses&gt;1&lt;/crosses&gt;&lt;/sta...</td>\n",
       "      <td>&lt;corner&gt;&lt;value&gt;&lt;stats&gt;&lt;corners&gt;1&lt;/corners&gt;&lt;/st...</td>\n",
       "      <td>&lt;possession&gt;&lt;value&gt;&lt;comment&gt;55&lt;/comment&gt;&lt;stats...</td>\n",
       "      <td>Girondins de Bordeaux</td>\n",
       "      <td>FC Nantes</td>\n",
       "    </tr>\n",
       "    <tr>\n",
       "      <th>4772</th>\n",
       "      <td>7750</td>\n",
       "      <td>4769</td>\n",
       "      <td>2015-08-30</td>\n",
       "      <td>9827</td>\n",
       "      <td>9830</td>\n",
       "      <td>2</td>\n",
       "      <td>0</td>\n",
       "      <td>&lt;goal&gt;&lt;value&gt;&lt;comment&gt;npm&lt;/comment&gt;&lt;event_inci...</td>\n",
       "      <td>&lt;shoton&gt;&lt;value&gt;&lt;stats&gt;&lt;blocked&gt;1&lt;/blocked&gt;&lt;/st...</td>\n",
       "      <td>&lt;shotoff&gt;&lt;value&gt;&lt;stats&gt;&lt;shotoff&gt;1&lt;/shotoff&gt;&lt;/s...</td>\n",
       "      <td>&lt;foulcommit&gt;&lt;value&gt;&lt;stats&gt;&lt;foulscommitted&gt;1&lt;/f...</td>\n",
       "      <td>&lt;card&gt;&lt;value&gt;&lt;comment&gt;y&lt;/comment&gt;&lt;stats&gt;&lt;ycard...</td>\n",
       "      <td>&lt;cross&gt;&lt;value&gt;&lt;stats&gt;&lt;crosses&gt;1&lt;/crosses&gt;&lt;/sta...</td>\n",
       "      <td>&lt;corner&gt;&lt;value&gt;&lt;stats&gt;&lt;corners&gt;1&lt;/corners&gt;&lt;/st...</td>\n",
       "      <td>&lt;possession&gt;&lt;value&gt;&lt;comment&gt;55&lt;/comment&gt;&lt;stats...</td>\n",
       "      <td>Girondins de Bordeaux</td>\n",
       "      <td>FC Nantes</td>\n",
       "    </tr>\n",
       "  </tbody>\n",
       "</table>\n",
       "</div>"
      ],
      "text/plain": [
       "        id  league_id       date  home_team_api_id  away_team_api_id  \\\n",
       "4768  4769       4769 2008-08-09              8583              9830   \n",
       "4769  4990       4769 2008-08-24              9827              9830   \n",
       "4770  6710       4769 2013-11-10              9827              9830   \n",
       "4771  7339       4769 2015-05-09              9827              9830   \n",
       "4772  7750       4769 2015-08-30              9827              9830   \n",
       "\n",
       "      home_team_goal  away_team_goal  \\\n",
       "4768               2               1   \n",
       "4769               2               0   \n",
       "4770               0               3   \n",
       "4771               2               1   \n",
       "4772               2               0   \n",
       "\n",
       "                                                   goal  \\\n",
       "4768                                                NaN   \n",
       "4769                                                NaN   \n",
       "4770  <goal><value><comment>n</comment><stats><goals...   \n",
       "4771  <goal><value><comment>p</comment><stats><penal...   \n",
       "4772  <goal><value><comment>npm</comment><event_inci...   \n",
       "\n",
       "                                                 shoton  \\\n",
       "4768                                                NaN   \n",
       "4769                                                NaN   \n",
       "4770                                         <shoton />   \n",
       "4771  <shoton><value><stats><shoton>1</shoton></stat...   \n",
       "4772  <shoton><value><stats><blocked>1</blocked></st...   \n",
       "\n",
       "                                                shotoff  \\\n",
       "4768                                                NaN   \n",
       "4769                                                NaN   \n",
       "4770                                        <shotoff />   \n",
       "4771  <shotoff><value><stats><shotoff>1</shotoff></s...   \n",
       "4772  <shotoff><value><stats><shotoff>1</shotoff></s...   \n",
       "\n",
       "                                             foulcommit  \\\n",
       "4768                                                NaN   \n",
       "4769                                                NaN   \n",
       "4770                                     <foulcommit />   \n",
       "4771  <foulcommit><value><stats><foulscommitted>1</f...   \n",
       "4772  <foulcommit><value><stats><foulscommitted>1</f...   \n",
       "\n",
       "                                                   card  \\\n",
       "4768                                                NaN   \n",
       "4769                                                NaN   \n",
       "4770  <card><value><comment>y</comment><stats><ycard...   \n",
       "4771  <card><value><comment>y</comment><stats><ycard...   \n",
       "4772  <card><value><comment>y</comment><stats><ycard...   \n",
       "\n",
       "                                                  cross  \\\n",
       "4768                                                NaN   \n",
       "4769                                                NaN   \n",
       "4770                                          <cross />   \n",
       "4771  <cross><value><stats><crosses>1</crosses></sta...   \n",
       "4772  <cross><value><stats><crosses>1</crosses></sta...   \n",
       "\n",
       "                                                 corner  \\\n",
       "4768                                                NaN   \n",
       "4769                                                NaN   \n",
       "4770                                         <corner />   \n",
       "4771  <corner><value><stats><corners>1</corners></st...   \n",
       "4772  <corner><value><stats><corners>1</corners></st...   \n",
       "\n",
       "                                             possession  \\\n",
       "4768                                                NaN   \n",
       "4769                                                NaN   \n",
       "4770                                     <possession />   \n",
       "4771  <possession><value><comment>55</comment><stats...   \n",
       "4772  <possession><value><comment>55</comment><stats...   \n",
       "\n",
       "        home_team_long_name away_team_long_name  \n",
       "4768             AJ Auxerre           FC Nantes  \n",
       "4769  Girondins de Bordeaux           FC Nantes  \n",
       "4770  Girondins de Bordeaux           FC Nantes  \n",
       "4771  Girondins de Bordeaux           FC Nantes  \n",
       "4772  Girondins de Bordeaux           FC Nantes  "
      ]
     },
     "execution_count": 173,
     "metadata": {},
     "output_type": "execute_result"
    }
   ],
   "source": [
    "import pandas as pd\n",
    "import numpy as np\n",
    "\n",
    "league = pd.read_csv('data\\\\league.csv', index_col=0)\n",
    "team = pd.read_csv('data\\\\team.csv', index_col=0)\n",
    "match = pd.read_csv('data\\\\match.csv', index_col=0, parse_dates=[6], infer_datetime_format=True)\n",
    "\n",
    "match.drop(['B365H', 'B365D', 'B365A', 'BWH', 'BWD', 'BWA', 'IWH', 'IWD', 'IWA', 'LBH', 'LBD', 'LBA', 'PSH', 'PSD', \n",
    "            'PSA', 'WHH', 'WHD', 'WHA', 'SJH', 'SJD', 'SJA', 'VCH', 'VCD', 'VCA', 'GBH', 'GBD', 'GBA', 'BSH', 'BSD', 'BSA'], \n",
    "           axis=1, inplace=True)\n",
    "\n",
    "match.drop(['home_player_X1', 'home_player_X2', 'home_player_X3', 'home_player_X4', 'home_player_X5', \n",
    "            'home_player_X6', 'home_player_X7', 'home_player_X8', 'home_player_X9', 'home_player_X10',\n",
    "            'home_player_X11', 'away_player_X1', 'away_player_X2', 'away_player_X3', 'away_player_X4', \n",
    "            'away_player_X5', 'away_player_X6', 'away_player_X7', 'away_player_X8', 'away_player_X9', \n",
    "            'away_player_X10', 'away_player_X11', 'home_player_Y1', 'home_player_Y2', 'home_player_Y3', \n",
    "            'home_player_Y4', 'home_player_Y5', 'home_player_Y6', 'home_player_Y7', 'home_player_Y8', \n",
    "            'home_player_Y9', 'home_player_Y10', 'home_player_Y11', 'away_player_Y1', 'away_player_Y2', \n",
    "            'away_player_Y3', 'away_player_Y4', 'away_player_Y5', 'away_player_Y6', 'away_player_Y7', \n",
    "            'away_player_Y8', 'away_player_Y9', 'away_player_Y10', 'away_player_Y11', 'home_player_1',\n",
    "            'home_player_2', 'home_player_3', 'home_player_4', 'home_player_5', 'home_player_6', 'home_player_7', \n",
    "            'home_player_8', 'home_player_9', 'home_player_10', 'home_player_11', 'away_player_1', 'away_player_2',\n",
    "            'away_player_3', 'away_player_4', 'away_player_5', 'away_player_6', 'away_player_7', 'away_player_8', \n",
    "            'away_player_9', 'away_player_10', 'away_player_11'],\n",
    "          axis=1, inplace=True)\n",
    "\n",
    "match.drop(['country_id', 'season', 'stage', 'match_api_id'],\n",
    "           axis=1, inplace=True)\n",
    "\n",
    "match = match.merge(team[['team_api_id', 'team_long_name']] , left_on='home_team_api_id', right_on='team_api_id')\n",
    "match.rename(columns={'team_long_name': 'home_team_long_name'}, inplace=True)\n",
    "match = match.merge(team[['team_api_id', 'team_long_name']] , left_on='away_team_api_id', right_on='team_api_id')\n",
    "match.rename(columns={'team_long_name': 'away_team_long_name'}, inplace=True)\n",
    "\n",
    "match.drop(['team_api_id_y', 'team_api_id_x'], axis=1, inplace=True)\n",
    "\n",
    "# On va tout de suite filtrer sur la ligue 1, l'extraction des features prend trop de temps sinon\n",
    "match = match[match.league_id == 4769]\n",
    "\n",
    "match.head()"
   ]
  },
  {
   "cell_type": "markdown",
   "metadata": {},
   "source": [
    "On va maintenant construire les nouvelles variables à partir des informations à disposition, à savoir :\n",
    "- le temps de récupération (ie. le nombre de jours entre le dernier match et le jour j)\n",
    "- le nombre de matchs dans le mois\n",
    "- la dynamique : c'est l'historique des 5 derniers matchs (ex: GGPPN)\n",
    "- le nombre de buts ajustés : on va pour cela considérer\n",
    "    - les buts qui permettent à une équipe de mener compte 1.2\n",
    "    - les tirs cadrés par rapport à la position (distance + angle) (pondération à définir)\n",
    "    - somme tirs cadrés + tirs non cadrés\n",
    "    - ratio tirs cadrés / tirs non cadrés\n",
    "    - compter 0.8 un but quand l'équipe adverse s'est prise en carton rouge\n",
    "    - corner, coup franc indirect comptent pour 0.1 ?\n",
    "    "
   ]
  },
  {
   "cell_type": "markdown",
   "metadata": {},
   "source": [
    "## Conditions du match"
   ]
  },
  {
   "cell_type": "markdown",
   "metadata": {},
   "source": [
    "Commençons par le temps de récupération :"
   ]
  },
  {
   "cell_type": "code",
   "execution_count": 174,
   "metadata": {
    "collapsed": false
   },
   "outputs": [],
   "source": [
    "def calcul_recup(equipe, jourJ):    \n",
    "    # on calcule toutes les différences de dates quand l'équipe a joué à domicile OU à l'extérieur\n",
    "    diff = match[(match.home_team_api_id == equipe) | (match.away_team_api_id == equipe)].date - jourJ\n",
    "    diff = diff.dt.days.values\n",
    "    \n",
    "    # Si aucun match n'a été enregistré avant, on compte le maximum de récupération possible, ie 7 jours\n",
    "    if np.min(diff) == 0:\n",
    "        return 7\n",
    "    # Si la récupération est supérieure à 7 jours, on dit que c'est quand même 7 jours (au dela plus d'effet en plus)\n",
    "    elif np.max(diff[diff<0]) <= -7:\n",
    "        return 7 \n",
    "    # Sinon on renvoie la valeur\n",
    "    return -np.max(diff[diff<0])\n",
    "\n",
    "# Finalement on rajoute les colonnes recherchées\n",
    "match['recuperation_home'] = match.apply(lambda row: calcul_recup(row.home_team_api_id, row.date), axis=1)\n",
    "match['recuperation_away'] = match.apply(lambda row: calcul_recup(row.away_team_api_id, row.date), axis=1)"
   ]
  },
  {
   "cell_type": "markdown",
   "metadata": {},
   "source": [
    "On peut regarder si on observe une tendance quand le nombre de jours de repos augmente :"
   ]
  },
  {
   "cell_type": "code",
   "execution_count": 175,
   "metadata": {
    "collapsed": false
   },
   "outputs": [
    {
     "data": {
      "text/html": [
       "<div>\n",
       "<table border=\"1\" class=\"dataframe\">\n",
       "  <thead>\n",
       "    <tr style=\"text-align: right;\">\n",
       "      <th></th>\n",
       "      <th>home_team_goal</th>\n",
       "    </tr>\n",
       "    <tr>\n",
       "      <th>recuperation_home</th>\n",
       "      <th></th>\n",
       "    </tr>\n",
       "  </thead>\n",
       "  <tbody>\n",
       "    <tr>\n",
       "      <th>3</th>\n",
       "      <td>1.352657</td>\n",
       "    </tr>\n",
       "    <tr>\n",
       "      <th>4</th>\n",
       "      <td>1.288344</td>\n",
       "    </tr>\n",
       "    <tr>\n",
       "      <th>5</th>\n",
       "      <td>1.285714</td>\n",
       "    </tr>\n",
       "    <tr>\n",
       "      <th>6</th>\n",
       "      <td>1.419865</td>\n",
       "    </tr>\n",
       "    <tr>\n",
       "      <th>7</th>\n",
       "      <td>1.417209</td>\n",
       "    </tr>\n",
       "  </tbody>\n",
       "</table>\n",
       "</div>"
      ],
      "text/plain": [
       "                   home_team_goal\n",
       "recuperation_home                \n",
       "3                        1.352657\n",
       "4                        1.288344\n",
       "5                        1.285714\n",
       "6                        1.419865\n",
       "7                        1.417209"
      ]
     },
     "execution_count": 175,
     "metadata": {},
     "output_type": "execute_result"
    }
   ],
   "source": [
    "match[['recuperation_home','home_team_goal']].sort_values(by='recuperation_home').groupby(by='recuperation_home').mean()"
   ]
  },
  {
   "cell_type": "code",
   "execution_count": 176,
   "metadata": {
    "collapsed": false
   },
   "outputs": [
    {
     "data": {
      "text/html": [
       "<div>\n",
       "<table border=\"1\" class=\"dataframe\">\n",
       "  <thead>\n",
       "    <tr style=\"text-align: right;\">\n",
       "      <th></th>\n",
       "      <th>away_team_goal</th>\n",
       "    </tr>\n",
       "    <tr>\n",
       "      <th>recuperation_away</th>\n",
       "      <th></th>\n",
       "    </tr>\n",
       "  </thead>\n",
       "  <tbody>\n",
       "    <tr>\n",
       "      <th>3</th>\n",
       "      <td>1.052133</td>\n",
       "    </tr>\n",
       "    <tr>\n",
       "      <th>4</th>\n",
       "      <td>1.063953</td>\n",
       "    </tr>\n",
       "    <tr>\n",
       "      <th>5</th>\n",
       "      <td>0.938462</td>\n",
       "    </tr>\n",
       "    <tr>\n",
       "      <th>6</th>\n",
       "      <td>1.045045</td>\n",
       "    </tr>\n",
       "    <tr>\n",
       "      <th>7</th>\n",
       "      <td>1.039106</td>\n",
       "    </tr>\n",
       "  </tbody>\n",
       "</table>\n",
       "</div>"
      ],
      "text/plain": [
       "                   away_team_goal\n",
       "recuperation_away                \n",
       "3                        1.052133\n",
       "4                        1.063953\n",
       "5                        0.938462\n",
       "6                        1.045045\n",
       "7                        1.039106"
      ]
     },
     "execution_count": 176,
     "metadata": {},
     "output_type": "execute_result"
    }
   ],
   "source": [
    "match[['recuperation_away','away_team_goal']].sort_values(by='recuperation_away').groupby(by='recuperation_away').mean()"
   ]
  },
  {
   "cell_type": "markdown",
   "metadata": {},
   "source": [
    "On observe pas vraiment d'effet...\n",
    "\n",
    "On calcule maintenant la dynamique :"
   ]
  },
  {
   "cell_type": "code",
   "execution_count": 177,
   "metadata": {
    "collapsed": false
   },
   "outputs": [],
   "source": [
    "def vainqueur(row):\n",
    "    if row.home_team_goal > row.away_team_goal:\n",
    "        return 'H'\n",
    "    elif row.home_team_goal > row.away_team_goal:\n",
    "        return 'A'\n",
    "    else:\n",
    "        return 'N'\n",
    "    \n",
    "match['vainqueur'] = match.apply(vainqueur, axis=1)"
   ]
  },
  {
   "cell_type": "code",
   "execution_count": 178,
   "metadata": {
    "collapsed": false
   },
   "outputs": [
    {
     "name": "stderr",
     "output_type": "stream",
     "text": [
      "C:\\Users\\Alexis\\Anaconda2\\lib\\site-packages\\ipykernel\\__main__.py:3: SettingWithCopyWarning: \n",
      "A value is trying to be set on a copy of a slice from a DataFrame.\n",
      "Try using .loc[row_indexer,col_indexer] = value instead\n",
      "\n",
      "See the caveats in the documentation: http://pandas.pydata.org/pandas-docs/stable/indexing.html#indexing-view-versus-copy\n",
      "  app.launch_new_instance()\n",
      "C:\\Users\\Alexis\\Anaconda2\\lib\\site-packages\\ipykernel\\__main__.py:7: FutureWarning: sort(columns=....) is deprecated, use sort_values(by=.....)\n"
     ]
    }
   ],
   "source": [
    "def dynamique(equipe, jourJ):\n",
    "    match_equipe = match[(match.home_team_api_id == equipe) | (match.away_team_api_id == equipe)]\n",
    "    match_equipe['deltaT'] = (match_equipe.date - jourJ).dt.days.values\n",
    "    match_equipe = match_equipe[match_equipe.deltaT < 0]\n",
    "    \n",
    "    # On trie les matchs pour récupérer les 5 plus récents\n",
    "    match_equipe_sorted = match_equipe.sort('deltaT', ascending=False)\n",
    "    \n",
    "    dyn = ''\n",
    "    # On prend maximum les 5 derniers matchs\n",
    "    for i in range(min(5,match_equipe_sorted.id.count())):\n",
    "        row = match_equipe_sorted.iloc[[i]]\n",
    "        # Si l'équipe qu'on regarde a joué à domicile\n",
    "        if equipe == row.home_team_api_id.values:\n",
    "            if row.vainqueur.values == 'H':\n",
    "                dyn += 'G'\n",
    "            elif row.vainqueur.values == 'A':\n",
    "                dyn += 'P'\n",
    "            else:\n",
    "                dyn += 'N'\n",
    "        # Sinon c'est que c'était l'équipe qui jouait à l'exterieur\n",
    "        else:\n",
    "            if row.vainqueur.values == 'A':\n",
    "                dyn += 'G'\n",
    "            elif row.vainqueur.values == 'H':\n",
    "                dyn += 'P'\n",
    "            else:\n",
    "                dyn += 'N'\n",
    "    \n",
    "    # Si il n'existe pas de match avant, on rempli par des matchs nuls            \n",
    "    if len(dyn) < 5:\n",
    "        dyn = dyn + ('N' * (5-len(dyn)))\n",
    "        \n",
    "    return dyn[::-1] # on renverse la chaine de caractère, car on veut du plus vieux au plus jeune de gauche à droite\n",
    "    \n",
    "match['home_dynamique'] = match.apply(lambda row: dynamique(row.home_team_api_id, row.date), axis=1)\n",
    "match['away_dynamique'] = match.apply(lambda row: dynamique(row.away_team_api_id, row.date), axis=1)"
   ]
  },
  {
   "cell_type": "code",
   "execution_count": 179,
   "metadata": {
    "collapsed": false
   },
   "outputs": [],
   "source": [
    "def score_dyn(dyn):\n",
    "    score = 0\n",
    "    for i in range(5):\n",
    "        score = score + (1 if dyn[i] == 'G' else -1 if dyn[i] == 'P' else 0) * (float(i+1)/float(5))\n",
    "    return score\n",
    "\n",
    "match['home_score_dynamique'] = match.home_dynamique.apply(score_dyn)\n",
    "match['away_score_dynamique'] = match.away_dynamique.apply(score_dyn)"
   ]
  },
  {
   "cell_type": "markdown",
   "metadata": {},
   "source": [
    "## Ajustement nombre de buts"
   ]
  },
  {
   "cell_type": "markdown",
   "metadata": {},
   "source": [
    "On ajuste maintenant le nombre de buts observés. On commence par importer la librairie nécessaire :"
   ]
  },
  {
   "cell_type": "code",
   "execution_count": 180,
   "metadata": {
    "collapsed": true
   },
   "outputs": [],
   "source": [
    "from lxml import html"
   ]
  },
  {
   "cell_type": "code",
   "execution_count": 63,
   "metadata": {
    "collapsed": false
   },
   "outputs": [],
   "source": [
    "def extract_time_elapsed(row):\n",
    "    if(not pd.isnull(row)):\n",
    "        tree = html.fromstring(row)\n",
    "        coord = tree.xpath('//elapsed/text()')\n",
    "        return np.array(coord, dtype=np.int32)\n",
    "    return np.nan\n",
    "\n",
    "match['time_elapsed'] = match.goal.apply(lambda row: extract_time_elapsed(row))"
   ]
  },
  {
   "cell_type": "markdown",
   "metadata": {},
   "source": [
    "Regardons la distribution des buts par minute d'un match"
   ]
  },
  {
   "cell_type": "code",
   "execution_count": 64,
   "metadata": {
    "collapsed": false
   },
   "outputs": [
    {
     "data": {
      "text/plain": [
       "array([[<matplotlib.axes._subplots.AxesSubplot object at 0x000000002074FE48>]], dtype=object)"
      ]
     },
     "execution_count": 64,
     "metadata": {},
     "output_type": "execute_result"
    },
    {
     "data": {
      "image/png": "[encoded data removed]",
      "text/plain": [
       "<matplotlib.figure.Figure at 0x1566e198>"
      ]
     },
     "metadata": {},
     "output_type": "display_data"
    }
   ],
   "source": [
    "pd.DataFrame(np.hstack(match.time_elapsed.values)).hist(bins=90)"
   ]
  },
  {
   "cell_type": "markdown",
   "metadata": {},
   "source": [
    "On observe beaucoup plus de buts à la 45ème et à la 90ème minutes ! En effet, les buts marqués pendants le temps additionel (91, 92, 93ème minutes) sont compté comme 90. Idem pour 45."
   ]
  },
  {
   "cell_type": "markdown",
   "metadata": {},
   "source": [
    "Etudions la position (distance + angle en degré) des tirs :"
   ]
  },
  {
   "cell_type": "code",
   "execution_count": 68,
   "metadata": {
    "collapsed": false
   },
   "outputs": [],
   "source": [
    "def extract_position_distance(row):\n",
    "    if(not pd.isnull(row)):\n",
    "        tree = html.fromstring(row)\n",
    "        coord = tree.xpath('//coordinates/value/text()')\n",
    "        return np.array(coord[0:][::2], dtype=np.int32)\n",
    "    return np.nan\n",
    "\n",
    "def extract_position_angle(row):\n",
    "    if(not pd.isnull(row)):\n",
    "        tree = html.fromstring(row)\n",
    "        coord = tree.xpath('//coordinates/value/text()')\n",
    "        return np.array(coord[1:][::2], dtype=np.int32)\n",
    "    return np.nan\n",
    "\n",
    "match['position_distance'] = match.goal.apply(lambda row: extract_position_distance(row))\n",
    "match['position_angle'] = match.goal.apply(lambda row: extract_position_angle(row))"
   ]
  },
  {
   "cell_type": "code",
   "execution_count": 99,
   "metadata": {
    "collapsed": false
   },
   "outputs": [],
   "source": [
    "heatmap = pd.DataFrame([np.hstack(match.position_distance.values),np.hstack(match.position_angle.values)]).T\n",
    "heatmap.dropna(inplace=True)\n",
    "heatmap.columns = ['Distance', 'Angle']"
   ]
  },
  {
   "cell_type": "code",
   "execution_count": 105,
   "metadata": {
    "collapsed": false
   },
   "outputs": [
    {
     "data": {
      "text/plain": [
       "<matplotlib.axes._subplots.AxesSubplot at 0x21623978>"
      ]
     },
     "execution_count": 105,
     "metadata": {},
     "output_type": "execute_result"
    },
    {
     "data": {
      "image/png": "[encoded data removed]",
      "text/plain": [
       "<matplotlib.figure.Figure at 0x20fffb38>"
      ]
     },
     "metadata": {},
     "output_type": "display_data"
    }
   ],
   "source": [
    "import seaborn\n",
    "seaborn.kdeplot(heatmap.Distance, heatmap.Angle, shade=True)"
   ]
  },
  {
   "cell_type": "code",
   "execution_count": 230,
   "metadata": {
    "collapsed": false
   },
   "outputs": [
    {
     "data": {
      "text/plain": [
       "<matplotlib.axes._subplots.AxesSubplot at 0x42e54e48>"
      ]
     },
     "execution_count": 230,
     "metadata": {},
     "output_type": "execute_result"
    },
    {
     "data": {
      "image/png": "[encoded data removed]",
      "text/plain": [
       "<matplotlib.figure.Figure at 0x430cfb00>"
      ]
     },
     "metadata": {},
     "output_type": "display_data"
    }
   ],
   "source": [
    "seaborn.distplot(heatmap.Distance, bins=30)\n",
    "seaborn.distplot(heatmap.Angle, bins=30)"
   ]
  },
  {
   "cell_type": "markdown",
   "metadata": {},
   "source": [
    "On va déterminer les tirs qui ont donné l'avantage"
   ]
  },
  {
   "cell_type": "markdown",
   "metadata": {},
   "source": [
    "On extrait le nombre de tirs cadrés"
   ]
  },
  {
   "cell_type": "code",
   "execution_count": 181,
   "metadata": {
    "collapsed": false
   },
   "outputs": [],
   "source": [
    "def extract_nb_tirs(row):\n",
    "    if(not pd.isnull(row)):\n",
    "        tree = html.fromstring(row)\n",
    "        equipe = tree.xpath('//team/text()')\n",
    "        return np.array(equipe, dtype=np.int32)\n",
    "    return []\n",
    "\n",
    "match['tirs_cadres'] = match.shoton.apply(lambda row: extract_nb_tirs(row))\n",
    "match['tirs_non_cadres'] = match.shotoff.apply(lambda row: extract_nb_tirs(row))"
   ]
  },
  {
   "cell_type": "markdown",
   "metadata": {},
   "source": [
    "Maintenant qu'on a récupéré l'équipe qui a fait un tir, on va les sommer match par match et équipe par équipe"
   ]
  },
  {
   "cell_type": "code",
   "execution_count": 182,
   "metadata": {
    "collapsed": false
   },
   "outputs": [],
   "source": [
    "def agrege_equipe_cadres(row, home=True):\n",
    "    if(len(row.tirs_cadres) > 0):\n",
    "        if home:\n",
    "            return (row.tirs_cadres == row.home_team_api_id).sum()\n",
    "        else:\n",
    "            return (row.tirs_cadres == row.away_team_api_id).sum()\n",
    "    return 0\n",
    "\n",
    "def agrege_equipe_non_cadres(row, home=True):\n",
    "    if(len(row.tirs_non_cadres) > 0):\n",
    "        if home:\n",
    "            return (row.tirs_non_cadres == row.home_team_api_id).sum()\n",
    "        else:\n",
    "            return (row.tirs_non_cadres == row.away_team_api_id).sum()\n",
    "    return 0\n",
    "    \n",
    "match['home_tir_cadre'] = match.apply(agrege_equipe_cadres, axis=1)\n",
    "match['away_tir_cadre'] = match.apply(agrege_equipe_cadres, axis=1, home=False)\n",
    "match['home_tir_non_cadre'] = match.apply(agrege_equipe_non_cadres, axis=1)\n",
    "match['away_tir_non_cadre'] = match.apply(agrege_equipe_non_cadres, axis=1, home=False)"
   ]
  },
  {
   "cell_type": "code",
   "execution_count": 183,
   "metadata": {
    "collapsed": false
   },
   "outputs": [
    {
     "data": {
      "text/plain": [
       "array([[<matplotlib.axes._subplots.AxesSubplot object at 0x0000000017B96E48>,\n",
       "        <matplotlib.axes._subplots.AxesSubplot object at 0x00000000184B6C18>],\n",
       "       [<matplotlib.axes._subplots.AxesSubplot object at 0x000000002358F588>,\n",
       "        <matplotlib.axes._subplots.AxesSubplot object at 0x000000002A3570B8>]], dtype=object)"
      ]
     },
     "execution_count": 183,
     "metadata": {},
     "output_type": "execute_result"
    },
    {
     "data": {
      "image/png": "[encoded data removed]",
      "text/plain": [
       "<matplotlib.figure.Figure at 0x1812e828>"
      ]
     },
     "metadata": {},
     "output_type": "display_data"
    }
   ],
   "source": [
    "match[['home_tir_cadre','away_tir_cadre','home_tir_non_cadre','away_tir_non_cadre']].hist()"
   ]
  },
  {
   "cell_type": "markdown",
   "metadata": {},
   "source": [
    "On remarque un problème : certaines lignes n'avaient pas l'information sur les tirs (non) cadrés. Il existe donc des lignes où le nombre de buts est différent de 0, mais où il n'y a pas l'information sur le nombre de tirs (non) cadrés. On va donc estimer le nombre de tirs cadrés en faisant nb_de_buts * coeff où coeff représente en moyenne combien de tirs cadrés il faut par but"
   ]
  },
  {
   "cell_type": "code",
   "execution_count": 184,
   "metadata": {
    "collapsed": false
   },
   "outputs": [
    {
     "data": {
      "text/plain": [
       "4768    2\n",
       "4769    2\n",
       "4770    0\n",
       "4773    0\n",
       "4774    0\n",
       "4775    3\n",
       "4776    3\n",
       "4779    1\n",
       "4780    3\n",
       "4783    2\n",
       "Name: home_team_goal, dtype: int64"
      ]
     },
     "execution_count": 184,
     "metadata": {},
     "output_type": "execute_result"
    }
   ],
   "source": [
    "match[match.home_tir_cadre ==0].home_team_goal.head(10)"
   ]
  },
  {
   "cell_type": "code",
   "execution_count": 185,
   "metadata": {
    "collapsed": false
   },
   "outputs": [
    {
     "name": "stdout",
     "output_type": "stream",
     "text": [
      "0.257081132981\n",
      "0.24855891169\n"
     ]
    }
   ],
   "source": [
    "print(match[match.home_tir_cadre!=0].home_team_goal.sum()/float(match[match.home_tir_cadre!=0].home_tir_cadre.sum()))\n",
    "print(match[match.home_tir_non_cadre!=0].home_team_goal.sum()/float(match[match.home_tir_non_cadre!=0].home_tir_non_cadre.sum()))"
   ]
  },
  {
   "cell_type": "code",
   "execution_count": 186,
   "metadata": {
    "collapsed": false
   },
   "outputs": [
    {
     "name": "stdout",
     "output_type": "stream",
     "text": [
      "0.249922576649\n",
      "0.23756582797\n"
     ]
    }
   ],
   "source": [
    "print(match[match.away_tir_cadre!=0].away_team_goal.sum()/float(match[match.away_tir_cadre!=0].away_tir_cadre.sum()))\n",
    "print(match[match.away_tir_non_cadre!=0].away_team_goal.sum()/float(match[match.away_tir_non_cadre!=0].away_tir_non_cadre.sum()))"
   ]
  },
  {
   "cell_type": "markdown",
   "metadata": {},
   "source": [
    "On va donc considérer les coefficients suivants :"
   ]
  },
  {
   "cell_type": "code",
   "execution_count": 187,
   "metadata": {
    "collapsed": false
   },
   "outputs": [],
   "source": [
    "def adjust_cadre(row, home=True):\n",
    "    if home:\n",
    "        if row.home_tir_cadre == 0 and row.home_team_goal != 0:\n",
    "            return row.home_team_goal * 4\n",
    "        return row.home_tir_cadre\n",
    "    else:\n",
    "        if row.away_tir_cadre == 0 and row.away_team_goal != 0:\n",
    "            return row.away_team_goal * 4\n",
    "        return row.away_tir_cadre\n",
    "    \n",
    "match['home_tir_cadre'] = match.apply(adjust_cadre, axis=1)\n",
    "match['away_tir_cadre'] = match.apply(adjust_cadre, axis=1, home=False)"
   ]
  },
  {
   "cell_type": "markdown",
   "metadata": {},
   "source": [
    "On a maintenant des distributions plus vraisemblables du nombre de tirs cadrés"
   ]
  },
  {
   "cell_type": "code",
   "execution_count": 188,
   "metadata": {
    "collapsed": false
   },
   "outputs": [
    {
     "data": {
      "text/plain": [
       "array([[<matplotlib.axes._subplots.AxesSubplot object at 0x0000000038FFCF60>,\n",
       "        <matplotlib.axes._subplots.AxesSubplot object at 0x000000003977C240>]], dtype=object)"
      ]
     },
     "execution_count": 188,
     "metadata": {},
     "output_type": "execute_result"
    },
    {
     "data": {
      "image/png": "[encoded data removed]",
      "text/plain": [
       "<matplotlib.figure.Figure at 0x38fedb38>"
      ]
     },
     "metadata": {},
     "output_type": "display_data"
    }
   ],
   "source": [
    "match[['home_team_goal','home_tir_cadre']].hist()"
   ]
  },
  {
   "cell_type": "markdown",
   "metadata": {},
   "source": [
    "On va maintenant filtrer sur les lignes qui possèdent les informations supplémentaires sur les tirs, les fautes, les corners, etc."
   ]
  },
  {
   "cell_type": "code",
   "execution_count": null,
   "metadata": {
    "collapsed": false
   },
   "outputs": [],
   "source": [
    "match.dropna(inplace=True)\n",
    "\n",
    "match = match[(match.goal.str.startswith('<'))]\n",
    "match = match[(match.shoton.str.startswith('<'))]\n",
    "match = match[(match.shotoff.str.startswith('<'))]\n",
    "match = match[(match.foulcommit.str.startswith('<'))]\n",
    "match = match[(match.card.str.startswith('<'))]\n",
    "match = match[(match.cross.str.startswith('<'))]\n",
    "match = match[(match.corner.str.startswith('<'))]\n",
    "match = match[(match.possession.str.startswith('<'))]\n",
    "\n",
    "match.head()"
   ]
  },
  {
   "cell_type": "code",
   "execution_count": null,
   "metadata": {
    "collapsed": false
   },
   "outputs": [],
   "source": [
    "match"
   ]
  },
  {
   "cell_type": "markdown",
   "metadata": {},
   "source": [
    "On va maintenant se limiter à la ligue 1 française dans un premier temps"
   ]
  },
  {
   "cell_type": "code",
   "execution_count": 189,
   "metadata": {
    "collapsed": false
   },
   "outputs": [
    {
     "name": "stdout",
     "output_type": "stream",
     "text": [
      "35\n"
     ]
    }
   ],
   "source": [
    "match_ligue_1 = match[match.league_id == 4769]\n",
    "num_teams = len(match_ligue_1.away_team_api_id.unique())\n",
    "print(num_teams)"
   ]
  },
  {
   "cell_type": "code",
   "execution_count": 190,
   "metadata": {
    "collapsed": false
   },
   "outputs": [],
   "source": [
    "match.drop(['goal', 'shoton', 'shotoff', 'foulcommit', 'card', 'cross', 'corner', 'possession'],\n",
    "           axis=1, inplace=True)"
   ]
  },
  {
   "cell_type": "markdown",
   "metadata": {},
   "source": [
    "## Construction du modèle"
   ]
  },
  {
   "cell_type": "markdown",
   "metadata": {},
   "source": [
    "Maintenant que les données sont propres et identifiées, on va construire le modèle pymc3. Pour cela, il faut changer les noms des équipes en indices allant de 1 au nombre total d'équipe"
   ]
  },
  {
   "cell_type": "code",
   "execution_count": 191,
   "metadata": {
    "collapsed": false
   },
   "outputs": [],
   "source": [
    "teams = match_ligue_1.home_team_long_name.unique()\n",
    "teams = pd.DataFrame(teams, columns=['team'])\n",
    "teams['i'] = teams.index"
   ]
  },
  {
   "cell_type": "code",
   "execution_count": 192,
   "metadata": {
    "collapsed": false
   },
   "outputs": [
    {
     "data": {
      "text/html": [
       "<div>\n",
       "<table border=\"1\" class=\"dataframe\">\n",
       "  <thead>\n",
       "    <tr style=\"text-align: right;\">\n",
       "      <th></th>\n",
       "      <th>team</th>\n",
       "      <th>i</th>\n",
       "    </tr>\n",
       "  </thead>\n",
       "  <tbody>\n",
       "    <tr>\n",
       "      <th>0</th>\n",
       "      <td>AJ Auxerre</td>\n",
       "      <td>0</td>\n",
       "    </tr>\n",
       "    <tr>\n",
       "      <th>1</th>\n",
       "      <td>Girondins de Bordeaux</td>\n",
       "      <td>1</td>\n",
       "    </tr>\n",
       "    <tr>\n",
       "      <th>2</th>\n",
       "      <td>Le Havre AC</td>\n",
       "      <td>2</td>\n",
       "    </tr>\n",
       "    <tr>\n",
       "      <th>3</th>\n",
       "      <td>Le Mans FC</td>\n",
       "      <td>3</td>\n",
       "    </tr>\n",
       "    <tr>\n",
       "      <th>4</th>\n",
       "      <td>Olympique Lyonnais</td>\n",
       "      <td>4</td>\n",
       "    </tr>\n",
       "    <tr>\n",
       "      <th>5</th>\n",
       "      <td>AS Monaco</td>\n",
       "      <td>5</td>\n",
       "    </tr>\n",
       "    <tr>\n",
       "      <th>6</th>\n",
       "      <td>AS Nancy-Lorraine</td>\n",
       "      <td>6</td>\n",
       "    </tr>\n",
       "    <tr>\n",
       "      <th>7</th>\n",
       "      <td>Stade Rennais FC</td>\n",
       "      <td>7</td>\n",
       "    </tr>\n",
       "    <tr>\n",
       "      <th>8</th>\n",
       "      <td>FC Sochaux-Montbéliard</td>\n",
       "      <td>8</td>\n",
       "    </tr>\n",
       "    <tr>\n",
       "      <th>9</th>\n",
       "      <td>Valenciennes FC</td>\n",
       "      <td>9</td>\n",
       "    </tr>\n",
       "    <tr>\n",
       "      <th>10</th>\n",
       "      <td>LOSC Lille</td>\n",
       "      <td>10</td>\n",
       "    </tr>\n",
       "    <tr>\n",
       "      <th>11</th>\n",
       "      <td>FC Lorient</td>\n",
       "      <td>11</td>\n",
       "    </tr>\n",
       "    <tr>\n",
       "      <th>12</th>\n",
       "      <td>Olympique de Marseille</td>\n",
       "      <td>12</td>\n",
       "    </tr>\n",
       "    <tr>\n",
       "      <th>13</th>\n",
       "      <td>OGC Nice</td>\n",
       "      <td>13</td>\n",
       "    </tr>\n",
       "    <tr>\n",
       "      <th>14</th>\n",
       "      <td>AS Saint-Étienne</td>\n",
       "      <td>14</td>\n",
       "    </tr>\n",
       "    <tr>\n",
       "      <th>15</th>\n",
       "      <td>Toulouse FC</td>\n",
       "      <td>15</td>\n",
       "    </tr>\n",
       "    <tr>\n",
       "      <th>16</th>\n",
       "      <td>SM Caen</td>\n",
       "      <td>16</td>\n",
       "    </tr>\n",
       "    <tr>\n",
       "      <th>17</th>\n",
       "      <td>Grenoble Foot 38</td>\n",
       "      <td>17</td>\n",
       "    </tr>\n",
       "    <tr>\n",
       "      <th>18</th>\n",
       "      <td>Paris Saint-Germain</td>\n",
       "      <td>18</td>\n",
       "    </tr>\n",
       "    <tr>\n",
       "      <th>19</th>\n",
       "      <td>Montpellier Hérault SC</td>\n",
       "      <td>19</td>\n",
       "    </tr>\n",
       "    <tr>\n",
       "      <th>20</th>\n",
       "      <td>RC Lens</td>\n",
       "      <td>20</td>\n",
       "    </tr>\n",
       "    <tr>\n",
       "      <th>21</th>\n",
       "      <td>AC Ajaccio</td>\n",
       "      <td>21</td>\n",
       "    </tr>\n",
       "    <tr>\n",
       "      <th>22</th>\n",
       "      <td>Évian Thonon Gaillard FC</td>\n",
       "      <td>22</td>\n",
       "    </tr>\n",
       "    <tr>\n",
       "      <th>23</th>\n",
       "      <td>Stade de Reims</td>\n",
       "      <td>23</td>\n",
       "    </tr>\n",
       "    <tr>\n",
       "      <th>24</th>\n",
       "      <td>ES Troyes AC</td>\n",
       "      <td>24</td>\n",
       "    </tr>\n",
       "    <tr>\n",
       "      <th>25</th>\n",
       "      <td>SC Bastia</td>\n",
       "      <td>25</td>\n",
       "    </tr>\n",
       "    <tr>\n",
       "      <th>26</th>\n",
       "      <td>En Avant de Guingamp</td>\n",
       "      <td>26</td>\n",
       "    </tr>\n",
       "    <tr>\n",
       "      <th>27</th>\n",
       "      <td>FC Metz</td>\n",
       "      <td>27</td>\n",
       "    </tr>\n",
       "    <tr>\n",
       "      <th>28</th>\n",
       "      <td>Angers SCO</td>\n",
       "      <td>28</td>\n",
       "    </tr>\n",
       "    <tr>\n",
       "      <th>29</th>\n",
       "      <td>GFC Ajaccio</td>\n",
       "      <td>29</td>\n",
       "    </tr>\n",
       "    <tr>\n",
       "      <th>30</th>\n",
       "      <td>FC Nantes</td>\n",
       "      <td>30</td>\n",
       "    </tr>\n",
       "    <tr>\n",
       "      <th>31</th>\n",
       "      <td>US Boulogne Cote D'Opale</td>\n",
       "      <td>31</td>\n",
       "    </tr>\n",
       "    <tr>\n",
       "      <th>32</th>\n",
       "      <td>AC Arles-Avignon</td>\n",
       "      <td>32</td>\n",
       "    </tr>\n",
       "    <tr>\n",
       "      <th>33</th>\n",
       "      <td>Stade Brestois 29</td>\n",
       "      <td>33</td>\n",
       "    </tr>\n",
       "    <tr>\n",
       "      <th>34</th>\n",
       "      <td>Dijon FCO</td>\n",
       "      <td>34</td>\n",
       "    </tr>\n",
       "  </tbody>\n",
       "</table>\n",
       "</div>"
      ],
      "text/plain": [
       "                        team   i\n",
       "0                 AJ Auxerre   0\n",
       "1      Girondins de Bordeaux   1\n",
       "2                Le Havre AC   2\n",
       "3                 Le Mans FC   3\n",
       "4         Olympique Lyonnais   4\n",
       "5                  AS Monaco   5\n",
       "6          AS Nancy-Lorraine   6\n",
       "7           Stade Rennais FC   7\n",
       "8     FC Sochaux-Montbéliard   8\n",
       "9            Valenciennes FC   9\n",
       "10                LOSC Lille  10\n",
       "11                FC Lorient  11\n",
       "12    Olympique de Marseille  12\n",
       "13                  OGC Nice  13\n",
       "14          AS Saint-Étienne  14\n",
       "15               Toulouse FC  15\n",
       "16                   SM Caen  16\n",
       "17          Grenoble Foot 38  17\n",
       "18       Paris Saint-Germain  18\n",
       "19    Montpellier Hérault SC  19\n",
       "20                   RC Lens  20\n",
       "21                AC Ajaccio  21\n",
       "22  Évian Thonon Gaillard FC  22\n",
       "23            Stade de Reims  23\n",
       "24              ES Troyes AC  24\n",
       "25                 SC Bastia  25\n",
       "26      En Avant de Guingamp  26\n",
       "27                   FC Metz  27\n",
       "28                Angers SCO  28\n",
       "29               GFC Ajaccio  29\n",
       "30                 FC Nantes  30\n",
       "31  US Boulogne Cote D'Opale  31\n",
       "32          AC Arles-Avignon  32\n",
       "33         Stade Brestois 29  33\n",
       "34                 Dijon FCO  34"
      ]
     },
     "execution_count": 192,
     "metadata": {},
     "output_type": "execute_result"
    }
   ],
   "source": [
    "teams"
   ]
  },
  {
   "cell_type": "code",
   "execution_count": 193,
   "metadata": {
    "collapsed": true
   },
   "outputs": [],
   "source": [
    "match_ligue_1 = pd.merge(match_ligue_1, teams, left_on='home_team_long_name', right_on='team', how='left')\n",
    "match_ligue_1 = match_ligue_1.rename(columns = {'i': 'i_home'}).drop('team', 1)\n",
    "match_ligue_1 = pd.merge(match_ligue_1, teams, left_on='away_team_long_name', right_on='team', how='left')\n",
    "match_ligue_1 = match_ligue_1.rename(columns = {'i': 'i_away'}).drop('team', 1)"
   ]
  },
  {
   "cell_type": "code",
   "execution_count": 194,
   "metadata": {
    "collapsed": false
   },
   "outputs": [
    {
     "data": {
      "text/html": [
       "<div>\n",
       "<table border=\"1\" class=\"dataframe\">\n",
       "  <thead>\n",
       "    <tr style=\"text-align: right;\">\n",
       "      <th></th>\n",
       "      <th>id</th>\n",
       "      <th>league_id</th>\n",
       "      <th>date</th>\n",
       "      <th>home_team_api_id</th>\n",
       "      <th>away_team_api_id</th>\n",
       "      <th>home_team_goal</th>\n",
       "      <th>away_team_goal</th>\n",
       "      <th>goal</th>\n",
       "      <th>shoton</th>\n",
       "      <th>shotoff</th>\n",
       "      <th>...</th>\n",
       "      <th>home_score_dynamique</th>\n",
       "      <th>away_score_dynamique</th>\n",
       "      <th>tirs_cadres</th>\n",
       "      <th>tirs_non_cadres</th>\n",
       "      <th>home_tir_cadre</th>\n",
       "      <th>away_tir_cadre</th>\n",
       "      <th>home_tir_non_cadre</th>\n",
       "      <th>away_tir_non_cadre</th>\n",
       "      <th>i_home</th>\n",
       "      <th>i_away</th>\n",
       "    </tr>\n",
       "  </thead>\n",
       "  <tbody>\n",
       "    <tr>\n",
       "      <th>0</th>\n",
       "      <td>4769</td>\n",
       "      <td>4769</td>\n",
       "      <td>2008-08-09</td>\n",
       "      <td>8583</td>\n",
       "      <td>9830</td>\n",
       "      <td>2</td>\n",
       "      <td>1</td>\n",
       "      <td>NaN</td>\n",
       "      <td>NaN</td>\n",
       "      <td>NaN</td>\n",
       "      <td>...</td>\n",
       "      <td>0.000000e+00</td>\n",
       "      <td>0.0</td>\n",
       "      <td>[]</td>\n",
       "      <td>[]</td>\n",
       "      <td>8</td>\n",
       "      <td>4</td>\n",
       "      <td>0</td>\n",
       "      <td>0</td>\n",
       "      <td>0</td>\n",
       "      <td>30</td>\n",
       "    </tr>\n",
       "    <tr>\n",
       "      <th>1</th>\n",
       "      <td>4990</td>\n",
       "      <td>4769</td>\n",
       "      <td>2008-08-24</td>\n",
       "      <td>9827</td>\n",
       "      <td>9830</td>\n",
       "      <td>2</td>\n",
       "      <td>0</td>\n",
       "      <td>NaN</td>\n",
       "      <td>NaN</td>\n",
       "      <td>NaN</td>\n",
       "      <td>...</td>\n",
       "      <td>-2.000000e-01</td>\n",
       "      <td>-0.8</td>\n",
       "      <td>[]</td>\n",
       "      <td>[]</td>\n",
       "      <td>8</td>\n",
       "      <td>0</td>\n",
       "      <td>0</td>\n",
       "      <td>0</td>\n",
       "      <td>1</td>\n",
       "      <td>30</td>\n",
       "    </tr>\n",
       "    <tr>\n",
       "      <th>2</th>\n",
       "      <td>6710</td>\n",
       "      <td>4769</td>\n",
       "      <td>2013-11-10</td>\n",
       "      <td>9827</td>\n",
       "      <td>9830</td>\n",
       "      <td>0</td>\n",
       "      <td>3</td>\n",
       "      <td>&lt;goal&gt;&lt;value&gt;&lt;comment&gt;n&lt;/comment&gt;&lt;stats&gt;&lt;goals...</td>\n",
       "      <td>&lt;shoton /&gt;</td>\n",
       "      <td>&lt;shotoff /&gt;</td>\n",
       "      <td>...</td>\n",
       "      <td>1.200000e+00</td>\n",
       "      <td>0.4</td>\n",
       "      <td>[]</td>\n",
       "      <td>[]</td>\n",
       "      <td>0</td>\n",
       "      <td>12</td>\n",
       "      <td>0</td>\n",
       "      <td>0</td>\n",
       "      <td>1</td>\n",
       "      <td>30</td>\n",
       "    </tr>\n",
       "    <tr>\n",
       "      <th>3</th>\n",
       "      <td>7339</td>\n",
       "      <td>4769</td>\n",
       "      <td>2015-05-09</td>\n",
       "      <td>9827</td>\n",
       "      <td>9830</td>\n",
       "      <td>2</td>\n",
       "      <td>1</td>\n",
       "      <td>&lt;goal&gt;&lt;value&gt;&lt;comment&gt;p&lt;/comment&gt;&lt;stats&gt;&lt;penal...</td>\n",
       "      <td>&lt;shoton&gt;&lt;value&gt;&lt;stats&gt;&lt;shoton&gt;1&lt;/shoton&gt;&lt;/stat...</td>\n",
       "      <td>&lt;shotoff&gt;&lt;value&gt;&lt;stats&gt;&lt;shotoff&gt;1&lt;/shotoff&gt;&lt;/s...</td>\n",
       "      <td>...</td>\n",
       "      <td>1.110223e-16</td>\n",
       "      <td>0.2</td>\n",
       "      <td>[9830, 9827, 9827, 9827, 9830, 9830]</td>\n",
       "      <td>[9827, 9830, 9827, 9827, 9827, 9830]</td>\n",
       "      <td>3</td>\n",
       "      <td>3</td>\n",
       "      <td>4</td>\n",
       "      <td>2</td>\n",
       "      <td>1</td>\n",
       "      <td>30</td>\n",
       "    </tr>\n",
       "    <tr>\n",
       "      <th>4</th>\n",
       "      <td>7750</td>\n",
       "      <td>4769</td>\n",
       "      <td>2015-08-30</td>\n",
       "      <td>9827</td>\n",
       "      <td>9830</td>\n",
       "      <td>2</td>\n",
       "      <td>0</td>\n",
       "      <td>&lt;goal&gt;&lt;value&gt;&lt;comment&gt;npm&lt;/comment&gt;&lt;event_inci...</td>\n",
       "      <td>&lt;shoton&gt;&lt;value&gt;&lt;stats&gt;&lt;blocked&gt;1&lt;/blocked&gt;&lt;/st...</td>\n",
       "      <td>&lt;shotoff&gt;&lt;value&gt;&lt;stats&gt;&lt;shotoff&gt;1&lt;/shotoff&gt;&lt;/s...</td>\n",
       "      <td>...</td>\n",
       "      <td>4.000000e-01</td>\n",
       "      <td>1.2</td>\n",
       "      <td>[9830, 9827, 9827, 9830, 9827, 9830, 9827, 982...</td>\n",
       "      <td>[9830, 9827, 9830, 9830, 9830, 9827, 9827, 983...</td>\n",
       "      <td>7</td>\n",
       "      <td>5</td>\n",
       "      <td>7</td>\n",
       "      <td>5</td>\n",
       "      <td>1</td>\n",
       "      <td>30</td>\n",
       "    </tr>\n",
       "  </tbody>\n",
       "</table>\n",
       "<p>5 rows × 32 columns</p>\n",
       "</div>"
      ],
      "text/plain": [
       "     id  league_id       date  home_team_api_id  away_team_api_id  \\\n",
       "0  4769       4769 2008-08-09              8583              9830   \n",
       "1  4990       4769 2008-08-24              9827              9830   \n",
       "2  6710       4769 2013-11-10              9827              9830   \n",
       "3  7339       4769 2015-05-09              9827              9830   \n",
       "4  7750       4769 2015-08-30              9827              9830   \n",
       "\n",
       "   home_team_goal  away_team_goal  \\\n",
       "0               2               1   \n",
       "1               2               0   \n",
       "2               0               3   \n",
       "3               2               1   \n",
       "4               2               0   \n",
       "\n",
       "                                                goal  \\\n",
       "0                                                NaN   \n",
       "1                                                NaN   \n",
       "2  <goal><value><comment>n</comment><stats><goals...   \n",
       "3  <goal><value><comment>p</comment><stats><penal...   \n",
       "4  <goal><value><comment>npm</comment><event_inci...   \n",
       "\n",
       "                                              shoton  \\\n",
       "0                                                NaN   \n",
       "1                                                NaN   \n",
       "2                                         <shoton />   \n",
       "3  <shoton><value><stats><shoton>1</shoton></stat...   \n",
       "4  <shoton><value><stats><blocked>1</blocked></st...   \n",
       "\n",
       "                                             shotoff  ...    \\\n",
       "0                                                NaN  ...     \n",
       "1                                                NaN  ...     \n",
       "2                                        <shotoff />  ...     \n",
       "3  <shotoff><value><stats><shotoff>1</shotoff></s...  ...     \n",
       "4  <shotoff><value><stats><shotoff>1</shotoff></s...  ...     \n",
       "\n",
       "  home_score_dynamique away_score_dynamique  \\\n",
       "0         0.000000e+00                  0.0   \n",
       "1        -2.000000e-01                 -0.8   \n",
       "2         1.200000e+00                  0.4   \n",
       "3         1.110223e-16                  0.2   \n",
       "4         4.000000e-01                  1.2   \n",
       "\n",
       "                                         tirs_cadres  \\\n",
       "0                                                 []   \n",
       "1                                                 []   \n",
       "2                                                 []   \n",
       "3               [9830, 9827, 9827, 9827, 9830, 9830]   \n",
       "4  [9830, 9827, 9827, 9830, 9827, 9830, 9827, 982...   \n",
       "\n",
       "                                     tirs_non_cadres home_tir_cadre  \\\n",
       "0                                                 []              8   \n",
       "1                                                 []              8   \n",
       "2                                                 []              0   \n",
       "3               [9827, 9830, 9827, 9827, 9827, 9830]              3   \n",
       "4  [9830, 9827, 9830, 9830, 9830, 9827, 9827, 983...              7   \n",
       "\n",
       "  away_tir_cadre home_tir_non_cadre  away_tir_non_cadre  i_home i_away  \n",
       "0              4                  0                   0       0     30  \n",
       "1              0                  0                   0       1     30  \n",
       "2             12                  0                   0       1     30  \n",
       "3              3                  4                   2       1     30  \n",
       "4              5                  7                   5       1     30  \n",
       "\n",
       "[5 rows x 32 columns]"
      ]
     },
     "execution_count": 194,
     "metadata": {},
     "output_type": "execute_result"
    }
   ],
   "source": [
    "match_ligue_1.head()"
   ]
  },
  {
   "cell_type": "markdown",
   "metadata": {},
   "source": [
    "On split notre jeu de données (60/20/20) afin de pouvoir mesurer plus tard les perfomances des différents modèles testés. NB : on fait exprès de ne pas randomiser les individus qui iront en train/CV/test. En effet, les observations sont ordonnées dans le temps, et en application réelle, on a accès uniquement au passé pour prédire le futur."
   ]
  },
  {
   "cell_type": "code",
   "execution_count": 231,
   "metadata": {
    "collapsed": false
   },
   "outputs": [],
   "source": [
    "# On compte le nombre d'observations dont on dispose\n",
    "taille_totale = len(match_ligue_1.home_team_goal.values)\n",
    "# on calcule le nombre d'observations que l'on envoie en training set\n",
    "train_size = int(taille_totale*0.6)\n",
    "CV_size = int(taille_totale*0.8)\n",
    "\n",
    "observed_home_goals = match_ligue_1.home_tir_cadre.values[:train_size]/float(4)\n",
    "observed_away_goals = match_ligue_1.away_tir_cadre.values[:train_size]/float(4)\n",
    "\n",
    "home_team = match_ligue_1.i_home.values[:train_size]\n",
    "away_team = match_ligue_1.i_away.values[:train_size]\n",
    "\n",
    "home_recuperation = np.array(match_ligue_1.recuperation_home.values[:train_size], dtype=np.float64)\n",
    "away_recuperation = np.array(match_ligue_1.recuperation_away.values[:train_size], dtype=np.float64)\n",
    "\n",
    "home_dynamique = np.array(match_ligue_1.home_score_dynamique.values[:train_size], dtype=np.float64)\n",
    "away_dynamique = np.array(match_ligue_1.away_score_dynamique.values[:train_size], dtype=np.float64)"
   ]
  },
  {
   "cell_type": "markdown",
   "metadata": {},
   "source": [
    "On décrit notre modélisation. On commence par spécifier les entrées et sorties de notre modélisation ![title](illustrations/V1.png)"
   ]
  },
  {
   "cell_type": "code",
   "execution_count": 232,
   "metadata": {
    "collapsed": false
   },
   "outputs": [],
   "source": [
    "import theano\n",
    "import numpy as np\n",
    "\n",
    "model_input_team = theano.shared(np.array([home_team, away_team]))\n",
    "model_input_conditions = theano.shared(np.array([home_recuperation, away_recuperation, home_dynamique, away_dynamique]))\n",
    "model_output = theano.shared(np.array([observed_home_goals, observed_away_goals]))"
   ]
  },
  {
   "cell_type": "markdown",
   "metadata": {},
   "source": [
    "Puis on écrit le modèle"
   ]
  },
  {
   "cell_type": "code",
   "execution_count": 233,
   "metadata": {
    "collapsed": false
   },
   "outputs": [],
   "source": [
    "import pymc3 as pm\n",
    "\n",
    "model = pm.Model()\n",
    "with pm.Model() as model:\n",
    "    # Paramètres spécifiques à chaque équipe  \n",
    "    attaque = pm.Normal(\"attaque\", mu=0, sd=1, shape=num_teams)\n",
    "    defense = pm.Normal(\"defense\", mu=0, sd=1, shape=num_teams)\n",
    "    \n",
    "    # Paramètre lié aux conditions du match\n",
    "    coeff_home = pm.Normal(\"coeff_home\", mu=0, sd=1, shape=1)\n",
    "    coeff_recup = pm.Normal(\"coeff_recup\", mu=0, sd=1, shape=1)\n",
    "    coeff_dynamique = pm.Normal(\"coeff_dynamique\", mu=0, sd=1, shape=1)\n",
    "    \n",
    "    # et un intercept\n",
    "    intercept = pm.Normal(\"intercept\", mu=0, sd=1, shape=1)\n",
    "    \n",
    "    home_theta  = pm.math.exp(intercept + \n",
    "                              coeff_home + \n",
    "                              coeff_recup * (model_input_conditions[0] - model_input_conditions[1]) + \n",
    "                              coeff_dynamique * (model_input_conditions[2] - model_input_conditions[3]) +\n",
    "                              attaque[model_input_team[0]] - defense[model_input_team[1]] +\n",
    "                              attaque[model_input_team[0]] * defense[model_input_team[1]]\n",
    "                             )\n",
    "    away_theta  = pm.math.exp(intercept + \n",
    "                              coeff_recup * (model_input_conditions[1] - model_input_conditions[0]) +\n",
    "                              coeff_dynamique * (model_input_conditions[3] - model_input_conditions[2]) +\n",
    "                              attaque[model_input_team[1]] - defense[model_input_team[0]] +\n",
    "                              attaque[model_input_team[1]] * defense[model_input_team[0]]\n",
    "                             )\n",
    "\n",
    "    # likelihood of observed data \n",
    "    home_points = pm.Poisson('home_points', mu=home_theta, observed=model_output[0])\n",
    "    away_points = pm.Poisson('away_points', mu=away_theta, observed=model_output[1])"
   ]
  },
  {
   "cell_type": "code",
   "execution_count": null,
   "metadata": {
    "collapsed": false,
    "scrolled": false
   },
   "outputs": [
    {
     "name": "stderr",
     "output_type": "stream",
     "text": [
      "Auto-assigning NUTS sampler...\n",
      "Initializing NUTS using advi...\n",
      "Average ELBO = -5,763.8: 100%|██████████████████████████████████████████████████| 10000/10000 [00:20<00:00, 481.49it/s]\n",
      "Finished [100%]: Average ELBO = -5,469.3\n"
     ]
    }
   ],
   "source": [
    "with model:\n",
    "    trace = pm.sample(100, n_init=10000)\n",
    "\n",
    "    pm.traceplot(trace)"
   ]
  },
  {
   "cell_type": "markdown",
   "metadata": {},
   "source": [
    "La phase de sampling étant terminé, on va afficher pour chaque équipe la ditribution à posteriori des paramètres d'attaque et de défense sous forme de forestplot : "
   ]
  },
  {
   "cell_type": "code",
   "execution_count": null,
   "metadata": {
    "collapsed": false
   },
   "outputs": [],
   "source": [
    "pm.forestplot(trace[10:], varnames=['attaque'], ylabels=teams.values, main=\"Team Offense\", chain_spacing=0.2)"
   ]
  },
  {
   "cell_type": "code",
   "execution_count": null,
   "metadata": {
    "collapsed": false
   },
   "outputs": [],
   "source": [
    "pm.forestplot(trace[10:], varnames=['defense'], ylabels=teams.values, main=\"Team Defense\", chain_spacing=0.2)"
   ]
  },
  {
   "cell_type": "markdown",
   "metadata": {},
   "source": [
    "Les résultats semblent cohérents (le trio de tête est PSG - OL - OM), passons à la prédiction d'un nouveau match."
   ]
  },
  {
   "cell_type": "markdown",
   "metadata": {},
   "source": [
    "# Prédiction de l'issue d'un match"
   ]
  },
  {
   "cell_type": "markdown",
   "metadata": {},
   "source": [
    "On cherche à prédire l'issue d'un match. Pour cela, on change les paramètres d'entrée, et on relance notre modèle : (ici : PSG contre Grenoble (indice 18 vs indice 17), on s'attend à voir le PSG gagner.."
   ]
  },
  {
   "cell_type": "code",
   "execution_count": null,
   "metadata": {
    "collapsed": false
   },
   "outputs": [],
   "source": [
    "model_input_team.set_value(np.array([[18],[17]]))\n",
    "model_input_conditions.set_value([[1],[7],[2],[-2]])"
   ]
  },
  {
   "cell_type": "markdown",
   "metadata": {},
   "source": [
    "Et on sample depuis notre modèle avec les nouvelles entrées"
   ]
  },
  {
   "cell_type": "code",
   "execution_count": null,
   "metadata": {
    "collapsed": false,
    "scrolled": true
   },
   "outputs": [],
   "source": [
    "ppc = pm.sample_ppc(trace[10:], model=model, samples=100)"
   ]
  },
  {
   "cell_type": "markdown",
   "metadata": {},
   "source": [
    "On fait un peu de mise en forme des résultats afin de pouvoir les exploiter simplement"
   ]
  },
  {
   "cell_type": "code",
   "execution_count": null,
   "metadata": {
    "collapsed": false
   },
   "outputs": [],
   "source": [
    "away = pd.DataFrame(ppc['away_points'])\n",
    "home = pd.DataFrame(ppc['home_points'])  \n",
    "\n",
    "prediction_score = home.merge(away, how='inner', left_index=True, right_index=True)\n",
    "prediction_score.columns = ['home_points', 'away_points']"
   ]
  },
  {
   "cell_type": "code",
   "execution_count": null,
   "metadata": {
    "collapsed": false
   },
   "outputs": [],
   "source": [
    "prediction_score.head()"
   ]
  },
  {
   "cell_type": "code",
   "execution_count": null,
   "metadata": {
    "collapsed": false
   },
   "outputs": [],
   "source": [
    "def vainqueur(row):\n",
    "    if row[0] > row[1]:\n",
    "        return 'H'\n",
    "    elif row[0] < row[1]:\n",
    "        return 'A'\n",
    "    else:\n",
    "        return 'N'\n",
    "\n",
    "prediction_score['vainqueur'] = prediction_score.apply(vainqueur, axis=1)"
   ]
  },
  {
   "cell_type": "code",
   "execution_count": null,
   "metadata": {
    "collapsed": false
   },
   "outputs": [],
   "source": [
    "prediction_score.head()"
   ]
  },
  {
   "cell_type": "code",
   "execution_count": null,
   "metadata": {
    "collapsed": false
   },
   "outputs": [],
   "source": [
    "prediction_score.vainqueur.value_counts()"
   ]
  },
  {
   "cell_type": "markdown",
   "metadata": {},
   "source": [
    "On calcule les probabilités associées"
   ]
  },
  {
   "cell_type": "code",
   "execution_count": null,
   "metadata": {
    "collapsed": false
   },
   "outputs": [],
   "source": [
    "100 * prediction_score.vainqueur.value_counts() / prediction_score.vainqueur.count()"
   ]
  },
  {
   "cell_type": "markdown",
   "metadata": {},
   "source": [
    "Le PSG (home ici) a 77.9% de chances de l'emporter. \n",
    "\n",
    "On va enfin calculer le résultat le plus probable (les buts encaissés pour chacune des équipes). Une rapide visualisation nous montre que le résultat le plus probable est 2-0. Vérifions le :"
   ]
  },
  {
   "cell_type": "code",
   "execution_count": null,
   "metadata": {
    "collapsed": false
   },
   "outputs": [],
   "source": [
    "import seaborn\n",
    "seaborn.kdeplot(data=prediction_score.home_points, data2=prediction_score.away_points, shade=True)"
   ]
  },
  {
   "cell_type": "code",
   "execution_count": null,
   "metadata": {
    "collapsed": false
   },
   "outputs": [],
   "source": [
    "prediction_score.groupby([\"home_points\", \"away_points\"]).size()"
   ]
  },
  {
   "cell_type": "code",
   "execution_count": null,
   "metadata": {
    "collapsed": false
   },
   "outputs": [],
   "source": [
    "prediction_score.groupby([\"home_points\", \"away_points\"]).size().idxmax()"
   ]
  },
  {
   "cell_type": "code",
   "execution_count": null,
   "metadata": {
    "collapsed": false
   },
   "outputs": [],
   "source": [
    "100. * prediction_score.groupby([\"home_points\", \"away_points\"]).size().max() / prediction_score.vainqueur.count()"
   ]
  },
  {
   "cell_type": "markdown",
   "metadata": {},
   "source": [
    "Conclusion, le résultat est cohérent, on s'attend à ce que le PSG l'emporte (77.9% de chances) avec un score de 2-0 (17.4 % de chances)"
   ]
  },
  {
   "cell_type": "markdown",
   "metadata": {},
   "source": [
    "# Evaluation des perfomances du modèle"
   ]
  },
  {
   "cell_type": "markdown",
   "metadata": {},
   "source": [
    "Maintenant que l'on a vu que notre modèle est fonctionnel (et cohérent !), nous allons dans cette dernière section évaluer notre modèle. On commence par récupérer les données de cross-validation :"
   ]
  },
  {
   "cell_type": "code",
   "execution_count": null,
   "metadata": {
    "collapsed": false
   },
   "outputs": [],
   "source": [
    "observed_home_goals = match_ligue_1.home_tir_cadre.values[train_size+1:CV_size]/float(4)\n",
    "observed_away_goals = match_ligue_1.away_tir_cadre.values[train_size+1:CV_size]/float(4)\n",
    "\n",
    "home_team = match_ligue_1.i_home.values[train_size+1:CV_size]\n",
    "away_team = match_ligue_1.i_away.values[train_size+1:CV_size]\n",
    "\n",
    "home_recuperation = np.array(match_ligue_1.recuperation_home.values[train_size+1:CV_size], dtype=np.float64)\n",
    "away_recuperation = np.array(match_ligue_1.recuperation_away.values[train_size+1:CV_size], dtype=np.float64)\n",
    "\n",
    "home_dynamique = np.array(match_ligue_1.home_score_dynamique.values[train_size+1:CV_size], dtype=np.float64)\n",
    "away_dynamique = np.array(match_ligue_1.away_score_dynamique.values[train_size+1:CV_size], dtype=np.float64)"
   ]
  },
  {
   "cell_type": "markdown",
   "metadata": {},
   "source": [
    "Et on assigne ces nouveaux individus comme entrée et sortie de notre modèle"
   ]
  },
  {
   "cell_type": "code",
   "execution_count": null,
   "metadata": {
    "collapsed": false
   },
   "outputs": [],
   "source": [
    "model_input_team.set_value(np.array([home_team,away_team], dtype=np.int32))\n",
    "model_input_conditions.set_value(np.array([home_recuperation,away_recuperation,home_dynamique,away_dynamique], dtype=np.float64))"
   ]
  },
  {
   "cell_type": "markdown",
   "metadata": {},
   "source": [
    "Et on tire 10000 réalisations pour chacun des matchs"
   ]
  },
  {
   "cell_type": "code",
   "execution_count": null,
   "metadata": {
    "collapsed": false,
    "scrolled": true
   },
   "outputs": [],
   "source": [
    "ppc = pm.sample_ppc(trace[10:], model=model, samples=100)"
   ]
  },
  {
   "cell_type": "markdown",
   "metadata": {},
   "source": [
    "L'échantillon est désormais créer, on va maintenant comparer nos prédictions avec la réalité :"
   ]
  },
  {
   "cell_type": "code",
   "execution_count": null,
   "metadata": {
    "collapsed": true
   },
   "outputs": [],
   "source": [
    "away_prediction = pd.DataFrame(ppc['away_points'])\n",
    "home_prediction = pd.DataFrame(ppc['home_points'])  "
   ]
  },
  {
   "cell_type": "markdown",
   "metadata": {},
   "source": [
    "On crée un dataframe pour chaque match (chacun contenant 10000 simulations)"
   ]
  },
  {
   "cell_type": "code",
   "execution_count": null,
   "metadata": {
    "collapsed": false
   },
   "outputs": [],
   "source": [
    "prediction_score = [home_prediction[[i]].merge(away_prediction[[i]], \n",
    "                                               how='inner', \n",
    "                                               left_index=True, right_index=True) \n",
    "                    for i in range(len(home_team))]\n",
    "\n",
    "for df in prediction_score:\n",
    "    df.columns = ['home_prediction', 'away_prediction']"
   ]
  },
  {
   "cell_type": "markdown",
   "metadata": {},
   "source": [
    "Pour chaque dataframe, on détermine l'équipe qui gagne"
   ]
  },
  {
   "cell_type": "code",
   "execution_count": null,
   "metadata": {
    "collapsed": true
   },
   "outputs": [],
   "source": [
    "def vainqueur(row):\n",
    "    if row[0] > row[1]:\n",
    "        return 'H'\n",
    "    elif row[0] < row[1]:\n",
    "        return 'A'\n",
    "    else:\n",
    "        return 'N'"
   ]
  },
  {
   "cell_type": "code",
   "execution_count": null,
   "metadata": {
    "collapsed": false
   },
   "outputs": [],
   "source": [
    "for df in prediction_score:\n",
    "    df['prediction_vainqueur'] = df.apply(vainqueur, axis=1) "
   ]
  },
  {
   "cell_type": "markdown",
   "metadata": {},
   "source": [
    "On ajoute aussi le score le plus probable d'après nos simulations :"
   ]
  },
  {
   "cell_type": "code",
   "execution_count": null,
   "metadata": {
    "collapsed": false
   },
   "outputs": [],
   "source": [
    "resultats = list()\n",
    "    \n",
    "for df in prediction_score:\n",
    "    home_score, away_score = df.groupby([\"home_prediction\", \"away_prediction\"]).size().idxmax()\n",
    "    resultats.append(\n",
    "        [df.prediction_vainqueur.value_counts().idxmax(), home_score, away_score]\n",
    "    )\n",
    "    \n",
    "resultats = pd.DataFrame(np.array(resultats))\n",
    "resultats.columns = ['prediction_vainqueur', 'prediction_home_score', 'prediction_away_score']\n",
    "\n",
    "#on remet les scores au type int, sinon il sont converti en 'objet' ...\n",
    "resultats[['prediction_home_score', 'prediction_away_score']] = resultats[['prediction_home_score', 'prediction_away_score']].astype(np.int32)"
   ]
  },
  {
   "cell_type": "markdown",
   "metadata": {},
   "source": [
    "On met en forme aussi les vrais résultats (ie. les observations)"
   ]
  },
  {
   "cell_type": "code",
   "execution_count": null,
   "metadata": {
    "collapsed": false
   },
   "outputs": [],
   "source": [
    "vrai_home = pd.DataFrame(observed_home_goals)\n",
    "vrai_away = pd.DataFrame(observed_away_goals)  "
   ]
  },
  {
   "cell_type": "code",
   "execution_count": null,
   "metadata": {
    "collapsed": false
   },
   "outputs": [],
   "source": [
    "vrai_resultats = vrai_home.merge(vrai_away, how='inner', left_index=True, right_index=True)\n",
    "vrai_resultats.columns = ['home_points', 'away_points']\n",
    "\n",
    "vrai_resultats['vainqueur'] = vrai_resultats.apply(vainqueur, axis=1)\n",
    "\n",
    "vrai_resultats = vrai_resultats.merge(resultats, how='inner', left_index=True, right_index=True)"
   ]
  },
  {
   "cell_type": "markdown",
   "metadata": {},
   "source": [
    "On a enfin notre dataframe contenant les observations et les prédictions (gagnant + score) match par match :"
   ]
  },
  {
   "cell_type": "code",
   "execution_count": null,
   "metadata": {
    "collapsed": false
   },
   "outputs": [],
   "source": [
    "vrai_resultats"
   ]
  },
  {
   "cell_type": "markdown",
   "metadata": {},
   "source": [
    "On calcule notre score :"
   ]
  },
  {
   "cell_type": "code",
   "execution_count": null,
   "metadata": {
    "collapsed": false
   },
   "outputs": [],
   "source": [
    "from sklearn import metrics\n",
    "\n",
    "metrics.accuracy_score(vrai_resultats.vainqueur.values, vrai_resultats.prediction_vainqueur.values)"
   ]
  },
  {
   "cell_type": "markdown",
   "metadata": {},
   "source": [
    "Ce n'est pas si mal pour un premier modèle, extrèmement simple pour le moment... Cherchons à identifier quels matchs sont mal classifiés :"
   ]
  },
  {
   "cell_type": "code",
   "execution_count": null,
   "metadata": {
    "collapsed": false
   },
   "outputs": [],
   "source": [
    "#Code repris entièrement des exemples scikit-learn\n",
    "\n",
    "import itertools\n",
    "import matplotlib.pyplot as plt\n",
    "\n",
    "from sklearn.metrics import confusion_matrix\n",
    "\n",
    "class_names = ['A','H','N']\n",
    "\n",
    "def plot_confusion_matrix(cm, classes,\n",
    "                          normalize=False,\n",
    "                          title='Confusion matrix',\n",
    "                          cmap=plt.cm.Blues):\n",
    "    \"\"\"\n",
    "    This function prints and plots the confusion matrix.\n",
    "    Normalization can be applied by setting `normalize=True`.\n",
    "    \"\"\"\n",
    "    plt.imshow(cm, interpolation='nearest', cmap=cmap)\n",
    "    plt.title(title)\n",
    "    plt.colorbar()\n",
    "    tick_marks = np.arange(len(classes))\n",
    "    plt.xticks(tick_marks, classes, rotation=45)\n",
    "    plt.yticks(tick_marks, classes)\n",
    "\n",
    "    if normalize:\n",
    "        cm = cm.astype('float') / cm.sum(axis=1)[:, np.newaxis]\n",
    "        print(\"Normalized confusion matrix\")\n",
    "    else:\n",
    "        print('Confusion matrix, without normalization')\n",
    "\n",
    "    print(cm)\n",
    "\n",
    "    thresh = cm.max() / 2.\n",
    "    for i, j in itertools.product(range(cm.shape[0]), range(cm.shape[1])):\n",
    "        plt.text(j, i, cm[i, j],\n",
    "                 horizontalalignment=\"center\",\n",
    "                 color=\"white\" if cm[i, j] > thresh else \"black\")\n",
    "\n",
    "    plt.tight_layout()\n",
    "    plt.ylabel('True label')\n",
    "    plt.xlabel('Predicted label')\n",
    "\n",
    "# Compute confusion matrix\n",
    "cnf_matrix = confusion_matrix(vrai_resultats.vainqueur.values, vrai_resultats.prediction_vainqueur.values)\n",
    "np.set_printoptions(precision=2)\n",
    "\n",
    "# Plot non-normalized confusion matrix\n",
    "plt.figure()\n",
    "plot_confusion_matrix(cnf_matrix, classes=class_names,\n",
    "                      title='Confusion matrix, without normalization')\n",
    "\n",
    "plt.show()"
   ]
  },
  {
   "cell_type": "markdown",
   "metadata": {
    "collapsed": true
   },
   "source": [
    "Commentaires :\n",
    "- Les résultats sont encourageant pour un modèle aussi simple (quasiment 50% de réussite, à comparer aux 33% d'une méthode complètement aléatoire)\n",
    "- On prédit trop souvent Away : peut être que le modèle favorise trop l'équipe à domicile..."
   ]
  },
  {
   "cell_type": "code",
   "execution_count": null,
   "metadata": {
    "collapsed": false
   },
   "outputs": [],
   "source": [
    "vrai_resultats.vainqueur.value_counts() / vrai_resultats.vainqueur.count()"
   ]
  },
  {
   "cell_type": "markdown",
   "metadata": {},
   "source": [
    "prochaine étapes :\n",
    "- améliorer le modèle hierarchique (prendre en compte les tirs cadrés, etc.)\n",
    "- modéliser au niveau de chaque joueur ?\n",
    "- écrire le code d'une simulation d'une saison entière pour obtenir le classement final"
   ]
  },
  {
   "cell_type": "markdown",
   "metadata": {
    "collapsed": true
   },
   "source": [
    "Enfin, on va compter le nombre de fois où notre projection de score est correcte"
   ]
  },
  {
   "cell_type": "code",
   "execution_count": null,
   "metadata": {
    "collapsed": false
   },
   "outputs": [],
   "source": [
    "score_juste = vrai_resultats[vrai_resultats.home_points == vrai_resultats.prediction_home_score]\n",
    "score_juste = score_juste[vrai_resultats.away_points == vrai_resultats.prediction_away_score]\n",
    "len(score_juste) / float(len(vrai_resultats))"
   ]
  },
  {
   "cell_type": "markdown",
   "metadata": {},
   "source": [
    "On a prédit le bon score dans 14.5% des cas."
   ]
  },
  {
   "cell_type": "markdown",
   "metadata": {
    "collapsed": true
   },
   "source": [
    "Par la suite, on améliorera le modèle selon 3 axes :\n",
    "- les buts étant des évênements rares, ils sont soumis à une grande variabilité et peuvent donc être une métrique trompeuse. Il va donc falloir \"l'augmenter\" avec d'autres évênements moins rares, mais quasiment tout autant important : le nombre de tirs cadrés, non cadrés, corner, de pénaltis, etc.\n",
    "- mieux charactériser les paramètres latents d'une équipe. On a ici résumé l'information disponible à un score d'attaque et un score de défense, mais il y en a certainement d'autres : la possession moyenne de balle par exemple ? ...\n",
    "- mieux charactériser la situation du match, indépendement des performances d'une équipe : le fait de jouer à domicile a été pris en compte ici, mais on peut penser à d'autres choses, tels que le temps de repos depuis le dernier match, etc.\n",
    "- prendre en compte l'évolution du style de jeu au cours des années (cf le notebook sur les buts vs loi de poisson)\n",
    "\n",
    "Eventuellement plus tard modéliser au niveau du joueur"
   ]
  },
  {
   "cell_type": "code",
   "execution_count": null,
   "metadata": {
    "collapsed": true
   },
   "outputs": [],
   "source": []
  }
 ],
 "metadata": {
  "kernelspec": {
   "display_name": "Python 2",
   "language": "python",
   "name": "python2"
  },
  "language_info": {
   "codemirror_mode": {
    "name": "ipython",
    "version": 2
   },
   "file_extension": ".py",
   "mimetype": "text/x-python",
   "name": "python",
   "nbconvert_exporter": "python",
   "pygments_lexer": "ipython2",
   "version": "2.7.13"
  }
 },
 "nbformat": 4,
 "nbformat_minor": 2
}
