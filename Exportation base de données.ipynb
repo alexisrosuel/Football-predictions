{
 "cells": [
  {
   "cell_type": "markdown",
   "metadata": {},
   "source": [
    "# Exportation des données"
   ]
  },
  {
   "cell_type": "markdown",
   "metadata": {},
   "source": [
    "Ce notebook sert uniquement à extraire toutes les tables de la base de données sous forme .sqlite vers un format csv afin d'être utilisable facilement avec pandas"
   ]
  },
  {
   "cell_type": "code",
   "execution_count": 3,
   "metadata": {
    "collapsed": false,
    "scrolled": false
   },
   "outputs": [],
   "source": [
    "import sqlite3\n",
    "import pandas\n",
    "\n",
    "con = sqlite3.connect('data\\\\database.sqlite')\n",
    "\n",
    "table = pandas.read_sql('select * from Country', con)\n",
    "table.to_csv('data\\\\country.csv')\n",
    "\n",
    "table = pandas.read_sql('select * from League', con)\n",
    "table.to_csv('data\\\\league.csv')\n",
    "\n",
    "table = pandas.read_sql('select * from Match', con)\n",
    "table.to_csv('data\\\\match.csv')\n",
    "\n",
    "table = pandas.read_sql('select * from Player', con)\n",
    "table.to_csv('data\\\\player.csv')\n",
    "\n",
    "table = pandas.read_sql('select * from Player_Attributes', con)\n",
    "table.to_csv('data\\\\player_attributes.csv')\n",
    "\n",
    "table = pandas.read_sql('select * from Team', con)\n",
    "table.to_csv('data\\\\team.csv', encoding='utf-8')"
   ]
  }
 ],
 "metadata": {
  "kernelspec": {
   "display_name": "Python 2",
   "language": "python",
   "name": "python2"
  },
  "language_info": {
   "codemirror_mode": {
    "name": "ipython",
    "version": 2
   },
   "file_extension": ".py",
   "mimetype": "text/x-python",
   "name": "python",
   "nbconvert_exporter": "python",
   "pygments_lexer": "ipython2",
   "version": "2.7.13"
  }
 },
 "nbformat": 4,
 "nbformat_minor": 2
}
